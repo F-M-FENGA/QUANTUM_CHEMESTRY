{
 "cells": [
  {
   "cell_type": "markdown",
   "id": "cd1b3c2e-4b44-4dfe-8bfd-2ae7c3e1fafc",
   "metadata": {},
   "source": [
    "# <a id='toc1_'></a>[Optimisation de Geometrie](#toc0_)\n",
    "\n",
    " **FRANKLIN MARSHALL FENGA**, franklin.fenga@facsciences-uy1.cm\n",
    " * Department of Physics, Faculty of Science, University of Yaoundé I\n",
    "\n",
    "December 2024"
   ]
  },
  {
   "cell_type": "markdown",
   "id": "36cdde54-7dbb-4c49-ba8e-40fe07850066",
   "metadata": {},
   "source": [
    "#### Le but de cet exercice est de :\n",
    "\n",
    "* Identifier et sélectionner une molécule organique optoélectronique : Apprendre à choisir une molécule organique optoélectronique à partir de bases de données ou de littérature scientifique, en tenant compte des critères pertinents pour les applications optoélectroniques.\n",
    "\n",
    "* Faire une Optimisation de la géométrie moléculaire : Utiliser les logiciels RDkit, Crest et xTB pour effectuer l'optimisation de la géométrie de la molécule sélectionnée, en explorant les différentes méthodes et algorithmes d'optimisation disponibles.\n",
    "\n",
    "* Effectuer des calculs Hartree-Fock (HF) et DFT (Théorie de la Fonctionnelle de Densité) sur la molécule optimisée, en comprenant le rôle du choix de la base et de la fonctionnelle pour chaque méthode de calcul.\n",
    "\n",
    "* Apprendre à interpréter et analyser les fichiers de sortie Log générés après optimisation avec xTB et Crest, en mettant l'accent sur la compréhension des résultats relatifs à l'énergie, la géométrie et les propriétés électroniques de la molécule.\n",
    "\n",
    "* Apprendre à choisir judicieusement la fonctionnelle et la base appropriées en fonction de l'objet d'étude et des résultats souhaités, en analysant l'impact de ces choix sur la précision des calculs et les propriétés de la molécule."
   ]
  },
  {
   "cell_type": "markdown",
   "id": "b751e7da-89bb-4acc-ba9e-501cd870fd08",
   "metadata": {},
   "source": [
    "### choix d'une molécule organique optoélectronique\n",
    "\n",
    "Notre molecule choisie est le **Cyanobenzène (benzonitrile)** de formule brute C7H5N\n"
   ]
  },
  {
   "cell_type": "code",
   "execution_count": 1,
   "id": "d973a6b1-8f02-4daa-a9df-72f829432eb2",
   "metadata": {},
   "outputs": [
    {
     "name": "stdout",
     "output_type": "stream",
     "text": [
      "Erreur : le temps de début n'a pas été défini.\n"
     ]
    }
   ],
   "source": [
    "from IPython import get_ipython\n",
    "import time\n",
    "\n",
    "# Variable globale pour enregistrer le temps de début\n",
    "start_time = None\n",
    "\n",
    "# Fonction appelée avant l'exécution de chaque cellule\n",
    "def pre_execute_hook():\n",
    "    global start_time\n",
    "    start_time = time.time()\n",
    "\n",
    "# Fonction appelée après l'exécution de chaque cellule\n",
    "def post_execute_hook():\n",
    "    global start_time\n",
    "    if start_time is not None:  # Vérification que start_time a été défini\n",
    "        end_time = time.time()\n",
    "        elapsed_time = end_time - start_time\n",
    "        print(f\"Temps d'exécution : {elapsed_time:.2f} secondes\")\n",
    "        start_time = None  # Réinitialisation de start_time\n",
    "    else:\n",
    "        print(\"Erreur : le temps de début n'a pas été défini.\")\n",
    "\n",
    "# Enregistrement des hooks dans Jupyter\n",
    "ip = get_ipython()\n",
    "ip.events.register('pre_execute', pre_execute_hook)\n",
    "ip.events.register('post_execute', post_execute_hook)\n"
   ]
  },
  {
   "cell_type": "markdown",
   "id": "f2c720ea-c263-4f78-bc0b-aa29268f5445",
   "metadata": {
    "jp-MarkdownHeadingCollapsed": true
   },
   "source": [
    "## Optimisation de géométrie de la molécule\n"
   ]
  },
  {
   "cell_type": "markdown",
   "id": "78752118-8283-42c9-a29a-6d89da9959d3",
   "metadata": {},
   "source": [
    "## Création du répertoire de sauvegarde des fichiers"
   ]
  },
  {
   "cell_type": "code",
   "execution_count": 2,
   "id": "4a62ba75-1c84-487e-9694-5641b3559770",
   "metadata": {},
   "outputs": [
    {
     "name": "stdout",
     "output_type": "stream",
     "text": [
      "Temps d'exécution : 0.00 secondes\n"
     ]
    }
   ],
   "source": [
    "from pathlib import Path  #Pour manipuler les chemins de fichiers de manière plus pratique"
   ]
  },
  {
   "cell_type": "code",
   "execution_count": 3,
   "id": "7c82b897-019f-4060-9c4e-7ec7ebc745a5",
   "metadata": {},
   "outputs": [
    {
     "name": "stdout",
     "output_type": "stream",
     "text": [
      "Temps d'exécution : 0.00 secondes\n"
     ]
    }
   ],
   "source": [
    "# # Définir le chemin du répertoire\n",
    "data_dir = Path('./dataGeo_opt')  # Cette ligne crée un objet Path représentant le chemin du sous-répertoire 'dataGeo_opt' dans le répertoire courant (.)\n",
    "\n",
    "# # Créer le répertoire, sans lever d'erreur si celui-ci existe déjà\n",
    "data_dir.mkdir(exist_ok=True)"
   ]
  },
  {
   "cell_type": "markdown",
   "id": "07ffd2e5-e9cb-4932-95d0-f8ff1477d845",
   "metadata": {},
   "source": [
    "La ligne `data_dir.mkdir(exist_ok=True)` vérifie si le répertoire `dataGeo_opt` existe déjà. Si ce n'est pas le cas, elle crée ce répertoire.\n",
    "\n",
    "La méthode `mkdir()` du module pathlib qui permet de créer un nouveau répertoire \n",
    "\n",
    "L'argument `exist_ok=True` indique que si le répertoire existe déjà, la méthode ne lève pas d'erreur et continue simplement."
   ]
  },
  {
   "cell_type": "markdown",
   "id": "01162840-48e1-43c8-9f98-979848c6c673",
   "metadata": {},
   "source": [
    "## Structure géométrique initiale avec RDKit"
   ]
  },
  {
   "cell_type": "code",
   "execution_count": 4,
   "id": "e4112b71-344a-4d1a-bf3b-3eeecb888c65",
   "metadata": {},
   "outputs": [
    {
     "data": {
      "text/plain": [
       "'2024.03.5'"
      ]
     },
     "execution_count": 4,
     "metadata": {},
     "output_type": "execute_result"
    },
    {
     "name": "stdout",
     "output_type": "stream",
     "text": [
      "Temps d'exécution : 0.18 secondes\n"
     ]
    }
   ],
   "source": [
    "#  Importons les modules et classes nécessaires\n",
    "\n",
    "import rdkit\n",
    "from rdkit import Chem #  permet de manipuler des structures chimiques\n",
    "from rdkit.Chem import AllChem, Draw , MolFromSmiles \n",
    "from rdkit.Chem import MolFromSmiles # Cette fonction convertit une chaîne SMILES (Simplified Molecular Input Line Entry System)\n",
    "#en un objet molécule RDKit \n",
    "\n",
    "rdkit.__version__"
   ]
  },
  {
   "cell_type": "markdown",
   "id": "616c9244-b388-4a93-b84c-93e73f0bce09",
   "metadata": {},
   "source": [
    "### 2D"
   ]
  },
  {
   "cell_type": "code",
   "execution_count": 5,
   "id": "90a30a54-fea7-4fba-9e17-85aa3397832c",
   "metadata": {},
   "outputs": [
    {
     "data": {
      "image/png": "[encoded data removed]",
      "text/plain": [
       "<rdkit.Chem.rdchem.Mol at 0x72a75811a490>"
      ]
     },
     "execution_count": 5,
     "metadata": {},
     "output_type": "execute_result"
    },
    {
     "name": "stdout",
     "output_type": "stream",
     "text": [
      "Temps d'exécution : 0.01 secondes\n"
     ]
    }
   ],
   "source": [
    "# Crée un objet molécule pour le Carbazole \n",
    "\n",
    "smile = 'C1=CC=C(C=C1)C#N' # Carbazole \n",
    "smi_key = 'Cyanobenzene'\n",
    "\n",
    "# Représenter la molécule à partir du smile\n",
    "mol_rdkitNop = Chem.MolFromSmiles(smile) # Cette ligne utilise la fonction MolFromSmiles du module Chem de RDKit pour créer une representation mol. (mol_rdkitNop) à partir SMILES\n",
    "mol_rdkitNop # affiche une représentation de la molécule oxazole"
   ]
  },
  {
   "cell_type": "code",
   "execution_count": 6,
   "id": "0f9e9efd-7481-492c-9214-ecf8eb0141f6",
   "metadata": {},
   "outputs": [
    {
     "data": {
      "image/png": "[encoded data removed]",
      "text/plain": [
       "<rdkit.Chem.rdchem.Mol at 0x72a75811a180>"
      ]
     },
     "execution_count": 6,
     "metadata": {},
     "output_type": "execute_result"
    },
    {
     "name": "stdout",
     "output_type": "stream",
     "text": [
      "Temps d'exécution : 0.00 secondes\n"
     ]
    }
   ],
   "source": [
    "# Add explicit Hs\n",
    "mol_rdkitNop = AllChem.AddHs(mol_rdkitNop) \n",
    "mol_rdkitNop"
   ]
  },
  {
   "cell_type": "markdown",
   "id": "4878a646-2d2b-4a75-ad0a-bd70abe0a420",
   "metadata": {},
   "source": [
    "### Descripteurs\n",
    "\n",
    "Caractérisent les différentes propriétés physico-chimiques de la molécule qui permettent d'évaluer la **complexité** d'une molécule en termes de sa structure chimique."
   ]
  },
  {
   "cell_type": "code",
   "execution_count": 7,
   "id": "eb0c25ec-8635-42e6-96a3-487db75b3df5",
   "metadata": {},
   "outputs": [
    {
     "name": "stdout",
     "output_type": "stream",
     "text": [
      "Some molecular properties are :\n",
      " Molecular weight:103.04219916, \n",
      " Solubility:1.5582799999999999,  \n",
      " Sa score:6.607011777980854, \n",
      " polarity:23.79, \n",
      " solubility:1.5582799999999999, \n",
      " hbd:0, \n",
      " hba:1\n",
      "Temps d'exécution : 0.25 secondes\n"
     ]
    },
    {
     "name": "stderr",
     "output_type": "stream",
     "text": [
      "[16:11:14] DEPRECATION WARNING: please use MorganGenerator\n"
     ]
    }
   ],
   "source": [
    "from rdkit.Chem import Descriptors\n",
    "from rdkit.Contrib.SA_Score import sascorer\n",
    "\n",
    "molwt = Descriptors.ExactMolWt(mol_rdkitNop)\n",
    "logP = Descriptors.MolLogP(mol_rdkitNop) \n",
    "Sa_score = sascorer.calculateScore(mol_rdkitNop)\n",
    "Polarity = Descriptors.TPSA(mol_rdkitNop) # Topological Polar Surface Area\n",
    "Solubility = Descriptors.MolLogP(mol_rdkitNop)\n",
    "hbd = Descriptors.NumHDonors(mol_rdkitNop)\n",
    "hba = Descriptors.NumHAcceptors(mol_rdkitNop)\n",
    "\n",
    "print(f'Some molecular properties are :\\n Molecular weight:{molwt}, \\n Solubility:{logP},  \\n Sa score:{Sa_score}, \\n polarity:{Polarity}, \\n solubility:{logP}, \\n hbd:{hbd}, \\n hba:{hba}')  \n"
   ]
  },
  {
   "cell_type": "markdown",
   "id": "67456fe0-fa48-4588-b838-2cfb92579dcd",
   "metadata": {},
   "source": [
    "##  Importance de chaque descripteur\n",
    "  \n",
    "  * **Polarity (TPSA) = 23.79 Å^2**\n",
    "\n",
    "    - La polarité de la molécule TADF joue un rôle crucial dans le couplage spin-orbite, qui est le mécanisme clé du TADF.\n",
    "    - Une polarité optimale permet de favoriser le croisement intersystème entre l'état singulet et l'état triplet, facilitant ainsi la conversion de l'état triplet    en état singulet émissif.\n",
    "    - La polarité influence également les propriétés de transfert de charge dans la molécule, qui sont essentielles pour le TADF.\n",
    "      \n",
    "* Interprétation : Cette valeur de polarité est relativement élevée, indiquant une molécule assez polaire.\n",
    "* Marge d'acceptation typique pour les molécules TADF : **20-60 Å^2**. La valeur de 26.03 Å^2 se situe donc dans la plage acceptable.\n",
    "\n",
    "   * **Hbd (Nombre de donneurs de liaisons hydrogène) = 0**\n",
    " \n",
    " * Marge d'acceptation typique pour les molécules TADF : Hbd ≤ 2. La valeur de 0 est donc dans la plage acceptable.\n",
    "\n",
    "    * **Hba (Nombre d'accepteurs de liaisons hydrogène) = 1**\n",
    "\n",
    "* Marge d'acceptation typique pour les molécules TADF : Hba ≤ 6. La valeur de 1 est donc dans la plage acceptable.\n",
    "\n",
    "    * **Solubilité (Solubility ou LogP) = 1.5582**\n",
    "        Dans les dispositifs TADF, la solubilité des molécules est importante pour permettre une bonne mise en forme du matériau actif, par exemple par dépôt en solution.\n",
    "       - Une bonne solubilité facilite aussi l'incorporation homogène de la molécule TADF dans la matrice hôte du dispositif.\n",
    "       - Une solubilité appropriée permet d'optimiser les propriétés de transport de charges et d'émission de la couche active.\n",
    "  \n",
    "\n",
    "*    **Score de synthèse accessible (Sa score) = 6.607011777980854**\n",
    "       - Le Sa score est une estimation de la facilité de synthèse d'une molécule.\n",
    "      -  Pour les applications TADF, il est important de développer des molécules qui peuvent être synthétisées de manière relativement simple et peu coûteuse.\n",
    "       - Un Sa score faible indique une meilleure accessibilité synthétique, ce qui est un critère important pour le développement de matériaux TADF à grande échelle.\n",
    " * Marge d'acceptation typique pour les molécules TADF : **Sa score ≤ 4,5**. La valeur de 4,5 n'est pas dans la plage acceptable."
   ]
  },
  {
   "cell_type": "markdown",
   "id": "2ea9995b-a731-4e57-acc5-6a7c85cc347f",
   "metadata": {},
   "source": [
    "### Structure 3D non optimisée"
   ]
  },
  {
   "cell_type": "code",
   "execution_count": 8,
   "id": "08f9c50c-8b05-4d2b-994f-d109ad98014c",
   "metadata": {},
   "outputs": [
    {
     "data": {
      "text/plain": [
       "'2.4.0'"
      ]
     },
     "execution_count": 8,
     "metadata": {},
     "output_type": "execute_result"
    },
    {
     "name": "stdout",
     "output_type": "stream",
     "text": [
      "Temps d'exécution : 0.00 secondes\n"
     ]
    }
   ],
   "source": [
    "# For 3D plotting\n",
    "import py3Dmol\n",
    "\n",
    "py3Dmol.__version__"
   ]
  },
  {
   "cell_type": "code",
   "execution_count": 9,
   "id": "70c29008-32a0-4c88-b0cc-8dc036d4c2b3",
   "metadata": {},
   "outputs": [
    {
     "data": {
      "text/plain": [
       "PosixPath('dataGeo_opt/Cyanobenzene')"
      ]
     },
     "execution_count": 9,
     "metadata": {},
     "output_type": "execute_result"
    },
    {
     "name": "stdout",
     "output_type": "stream",
     "text": [
      "Temps d'exécution : 0.00 secondes\n"
     ]
    }
   ],
   "source": [
    "# Create subdirectory output\n",
    "working_dir = Path(f'{data_dir}/{smi_key}')\n",
    "\n",
    "# Create the output directory if it doesn't exist create it\n",
    "working_dir.mkdir(parents=True, exist_ok=True)\n",
    "\n",
    "#Checking\n",
    "working_dir"
   ]
  },
  {
   "cell_type": "code",
   "execution_count": 10,
   "id": "97b105fe-4165-43f6-9858-6ef5f6b7d394",
   "metadata": {},
   "outputs": [
    {
     "name": "stdout",
     "output_type": "stream",
     "text": [
      "Temps d'exécution : 0.00 secondes\n"
     ]
    }
   ],
   "source": [
    "# CLa fonction 'def' définit une fonction nommée view3D qui prend trois arguments :\n",
    "def view3D(mol_rdkitNop, label, fmt='mol'):\n",
    "        \"\"\"3D vizualisation of mol/xyz file with Py3DMol\n",
    "        \"\"\"\n",
    "\n",
    "        view = py3Dmol.view(width=400, height=400) # Cette ligne crée un objet view pour la visualisation\n",
    "\n",
    "        if fmt=='mol':\n",
    "            view.addModel(Chem.MolToMolBlock(mol_rdkitNop), fmt)\n",
    "            # view.addModel(mol, fmt)\n",
    "        elif fmt=='xyz':\n",
    "            view.addModel(mol_rdkitNop, fmt)\n",
    "\n",
    "        view.setStyle({'stick': {}, 'sphere': {'scale': .30}}) # Définit le style de visualisation\n",
    "        view.addLabel(label, {'position': {'x': -2, 'y': -3, 'z': 0}}) # Ajoute une étiquette à la visualisation à la position spécifiée\n",
    "\n",
    "        view.zoomTo()\n",
    "        view.show()"
   ]
  },
  {
   "cell_type": "code",
   "execution_count": 11,
   "id": "b77e2d04-1225-4558-9d92-aa7cc5a185ce",
   "metadata": {},
   "outputs": [
    {
     "data": {
      "application/3dmoljs_load.v0": "<div id=\"3dmolviewer_17342754740837712\"  style=\"position: relative; width: 400px; height: 400px;\">\n        <p id=\"3dmolwarning_17342754740837712\" style=\"background-color:#ffcccc;color:black\">3Dmol.js failed to load for some reason.  Please check your browser console for error messages.<br></p>\n        </div>\n<script>\n\nvar loadScriptAsync = function(uri){\n  return new Promise((resolve, reject) => {\n    //this is to ignore the existence of requirejs amd\n    var savedexports, savedmodule;\n    if (typeof exports !== 'undefined') savedexports = exports;\n    else exports = {}\n    if (typeof module !== 'undefined') savedmodule = module;\n    else module = {}\n\n    var tag = document.createElement('script');\n    tag.src = uri;\n    tag.async = true;\n    tag.onload = () => {\n        exports = savedexports;\n        module = savedmodule;\n        resolve();\n    };\n  var firstScriptTag = document.getElementsByTagName('script')[0];\n  firstScriptTag.parentNode.insertBefore(tag, firstScriptTag);\n});\n};\n\nif(typeof $3Dmolpromise === 'undefined') {\n$3Dmolpromise = null;\n  $3Dmolpromise = loadScriptAsync('https://cdnjs.cloudflare.com/ajax/libs/3Dmol/2.4.0/3Dmol-min.js');\n}\n\nvar viewer_17342754740837712 = null;\nvar warn = document.getElementById(\"3dmolwarning_17342754740837712\");\nif(warn) {\n    warn.parentNode.removeChild(warn);\n}\n$3Dmolpromise.then(function() {\nviewer_17342754740837712 = $3Dmol.createViewer(document.getElementById(\"3dmolviewer_17342754740837712\"),{backgroundColor:\"white\"});\nviewer_17342754740837712.zoomTo();\n\tviewer_17342754740837712.addModel(\"\\n     RDKit          3D\\n\\n 13 13  0  0  0  0  0  0  0  0999 V2000\\n   -1.6518    0.1522    0.1367 C   0  0  0  0  0  0  0  0  0  0  0  0\\n   -0.9227    1.3098    0.2218 C   0  0  0  0  0  0  0  0  0  0  0  0\\n    0.4593    1.1851    0.1071 C   0  0  0  0  0  0  0  0  0  0  0  0\\n    0.9983   -0.0761   -0.0820 C   0  0  0  0  0  0  0  0  0  0  0  0\\n    0.2505   -1.2343   -0.1658 C   0  0  0  0  0  0  0  0  0  0  0  0\\n   -1.1387   -1.1110   -0.0508 C   0  0  0  0  0  0  0  0  0  0  0  0\\n    2.4359   -0.2460   -0.2061 C   0  0  0  0  0  0  0  0  0  0  0  0\\n    3.5835   -0.3820   -0.2949 N   0  0  0  0  0  0  0  0  0  0  0  0\\n   -2.7340    0.2565    0.2273 H   0  0  0  0  0  0  0  0  0  0  0  0\\n   -1.3278    2.2827    0.3669 H   0  0  0  0  0  0  0  0  0  0  0  0\\n    1.1411    2.0373    0.1593 H   0  0  0  0  0  0  0  0  0  0  0  0\\n    0.6843   -2.2057   -0.3128 H   0  0  0  0  0  0  0  0  0  0  0  0\\n   -1.7778   -1.9685   -0.1067 H   0  0  0  0  0  0  0  0  0  0  0  0\\n  1  2  2  0\\n  2  3  1  0\\n  3  4  2  0\\n  4  5  1  0\\n  5  6  2  0\\n  4  7  1  0\\n  7  8  3  0\\n  6  1  1  0\\n  1  9  1  0\\n  2 10  1  0\\n  3 11  1  0\\n  5 12  1  0\\n  6 13  1  0\\nM  END\\n\",\"mol\");\n\tviewer_17342754740837712.setStyle({\"stick\": {}, \"sphere\": {\"scale\": 0.3}});\n\tviewer_17342754740837712.addLabel(\"Cyanobenzene_3D_Nop\",{\"position\": {\"x\": -2, \"y\": -3, \"z\": 0}});\n\tviewer_17342754740837712.zoomTo();\nviewer_17342754740837712.render();\n});\n</script>",
      "text/html": [
       "<div id=\"3dmolviewer_17342754740837712\"  style=\"position: relative; width: 400px; height: 400px;\">\n",
       "        <p id=\"3dmolwarning_17342754740837712\" style=\"background-color:#ffcccc;color:black\">3Dmol.js failed to load for some reason.  Please check your browser console for error messages.<br></p>\n",
       "        </div>\n",
       "<script>\n",
       "\n",
       "var loadScriptAsync = function(uri){\n",
       "  return new Promise((resolve, reject) => {\n",
       "    //this is to ignore the existence of requirejs amd\n",
       "    var savedexports, savedmodule;\n",
       "    if (typeof exports !== 'undefined') savedexports = exports;\n",
       "    else exports = {}\n",
       "    if (typeof module !== 'undefined') savedmodule = module;\n",
       "    else module = {}\n",
       "\n",
       "    var tag = document.createElement('script');\n",
       "    tag.src = uri;\n",
       "    tag.async = true;\n",
       "    tag.onload = () => {\n",
       "        exports = savedexports;\n",
       "        module = savedmodule;\n",
       "        resolve();\n",
       "    };\n",
       "  var firstScriptTag = document.getElementsByTagName('script')[0];\n",
       "  firstScriptTag.parentNode.insertBefore(tag, firstScriptTag);\n",
       "});\n",
       "};\n",
       "\n",
       "if(typeof $3Dmolpromise === 'undefined') {\n",
       "$3Dmolpromise = null;\n",
       "  $3Dmolpromise = loadScriptAsync('https://cdnjs.cloudflare.com/ajax/libs/3Dmol/2.4.0/3Dmol-min.js');\n",
       "}\n",
       "\n",
       "var viewer_17342754740837712 = null;\n",
       "var warn = document.getElementById(\"3dmolwarning_17342754740837712\");\n",
       "if(warn) {\n",
       "    warn.parentNode.removeChild(warn);\n",
       "}\n",
       "$3Dmolpromise.then(function() {\n",
       "viewer_17342754740837712 = $3Dmol.createViewer(document.getElementById(\"3dmolviewer_17342754740837712\"),{backgroundColor:\"white\"});\n",
       "viewer_17342754740837712.zoomTo();\n",
       "\tviewer_17342754740837712.addModel(\"\\n     RDKit          3D\\n\\n 13 13  0  0  0  0  0  0  0  0999 V2000\\n   -1.6518    0.1522    0.1367 C   0  0  0  0  0  0  0  0  0  0  0  0\\n   -0.9227    1.3098    0.2218 C   0  0  0  0  0  0  0  0  0  0  0  0\\n    0.4593    1.1851    0.1071 C   0  0  0  0  0  0  0  0  0  0  0  0\\n    0.9983   -0.0761   -0.0820 C   0  0  0  0  0  0  0  0  0  0  0  0\\n    0.2505   -1.2343   -0.1658 C   0  0  0  0  0  0  0  0  0  0  0  0\\n   -1.1387   -1.1110   -0.0508 C   0  0  0  0  0  0  0  0  0  0  0  0\\n    2.4359   -0.2460   -0.2061 C   0  0  0  0  0  0  0  0  0  0  0  0\\n    3.5835   -0.3820   -0.2949 N   0  0  0  0  0  0  0  0  0  0  0  0\\n   -2.7340    0.2565    0.2273 H   0  0  0  0  0  0  0  0  0  0  0  0\\n   -1.3278    2.2827    0.3669 H   0  0  0  0  0  0  0  0  0  0  0  0\\n    1.1411    2.0373    0.1593 H   0  0  0  0  0  0  0  0  0  0  0  0\\n    0.6843   -2.2057   -0.3128 H   0  0  0  0  0  0  0  0  0  0  0  0\\n   -1.7778   -1.9685   -0.1067 H   0  0  0  0  0  0  0  0  0  0  0  0\\n  1  2  2  0\\n  2  3  1  0\\n  3  4  2  0\\n  4  5  1  0\\n  5  6  2  0\\n  4  7  1  0\\n  7  8  3  0\\n  6  1  1  0\\n  1  9  1  0\\n  2 10  1  0\\n  3 11  1  0\\n  5 12  1  0\\n  6 13  1  0\\nM  END\\n\",\"mol\");\n",
       "\tviewer_17342754740837712.setStyle({\"stick\": {}, \"sphere\": {\"scale\": 0.3}});\n",
       "\tviewer_17342754740837712.addLabel(\"Cyanobenzene_3D_Nop\",{\"position\": {\"x\": -2, \"y\": -3, \"z\": 0}});\n",
       "\tviewer_17342754740837712.zoomTo();\n",
       "viewer_17342754740837712.render();\n",
       "});\n",
       "</script>"
      ]
     },
     "metadata": {},
     "output_type": "display_data"
    },
    {
     "name": "stdout",
     "output_type": "stream",
     "text": [
      "Temps d'exécution : 0.01 secondes\n"
     ]
    }
   ],
   "source": [
    "# Add explicit Hs\n",
    "mol_rdkitNop3D = Chem.AddHs(mol_rdkitNop)\n",
    "\n",
    "# Generates the initial 3D conformation of the molecule\n",
    "AllChem.EmbedMolecule(mol_rdkitNop3D) # génére une conformation 3D à partir d'une représentation 2D d'une molécule\n",
    "\n",
    "# 3D visualization\n",
    "view3D(mol_rdkitNop3D, f'{smi_key}_3D_Nop')"
   ]
  },
  {
   "cell_type": "markdown",
   "id": "fd150e69-014b-4540-8b15-3cca60d013ae",
   "metadata": {},
   "source": [
    "### Coordonnés moléculaires initiales (coordonnées cartésiennes)"
   ]
  },
  {
   "cell_type": "code",
   "execution_count": 12,
   "id": "09deb4f2-c327-4703-9af4-41150d4f9a0c",
   "metadata": {},
   "outputs": [
    {
     "name": "stdout",
     "output_type": "stream",
     "text": [
      "Temps d'exécution : 0.00 secondes\n"
     ]
    }
   ],
   "source": [
    "# Sauvegarde de cette structure non optimisée dans un fichier .xyz\n",
    "path_rdkitNop_xyz = working_dir / f'{smi_key}_rdkitNop.xyz'\n",
    "\n",
    "# Convert RDKit molecule to XYZ format \n",
    "mol_xyzNop0 = Chem.MolToXYZBlock(mol_rdkitNop3D)\n",
    "\n",
    "with open(path_rdkitNop_xyz, \"w\") as f:\n",
    "    f.write(mol_xyzNop0)"
   ]
  },
  {
   "cell_type": "code",
   "execution_count": 13,
   "id": "87d14dfd-8e90-4b4b-978a-b7e4bcada578",
   "metadata": {},
   "outputs": [
    {
     "name": "stdout",
     "output_type": "stream",
     "text": [
      "13\n",
      "\n",
      "C     -1.651820    0.152232    0.136695\n",
      "C     -0.922736    1.309764    0.221814\n",
      "C      0.459273    1.185060    0.107103\n",
      "C      0.998340   -0.076127   -0.081996\n",
      "C      0.250518   -1.234297   -0.165838\n",
      "C     -1.138686   -1.110977   -0.050770\n",
      "C      2.435878   -0.246007   -0.206115\n",
      "N      3.583548   -0.381986   -0.294902\n",
      "H     -2.734033    0.256543    0.227314\n",
      "H     -1.327848    2.282732    0.366922\n",
      "H      1.141056    2.037315    0.159292\n",
      "H      0.684275   -2.205745   -0.312836\n",
      "H     -1.777765   -1.968506   -0.106682\n",
      "\n",
      "Temps d'exécution : 0.00 secondes\n"
     ]
    }
   ],
   "source": [
    "print(f'{mol_xyzNop0}')"
   ]
  },
  {
   "cell_type": "code",
   "execution_count": 14,
   "id": "8565cc7f-0610-4b42-a65e-5757514f9a66",
   "metadata": {},
   "outputs": [
    {
     "name": "stdout",
     "output_type": "stream",
     "text": [
      "C     -1.651820    0.152232    0.136695\n",
      "C     -0.922736    1.309764    0.221814\n",
      "C      0.459273    1.185060    0.107103\n",
      "C      0.998340   -0.076127   -0.081996\n",
      "C      0.250518   -1.234297   -0.165838\n",
      "C     -1.138686   -1.110977   -0.050770\n",
      "C      2.435878   -0.246007   -0.206115\n",
      "N      3.583548   -0.381986   -0.294902\n",
      "H     -2.734033    0.256543    0.227314\n",
      "H     -1.327848    2.282732    0.366922\n",
      "H      1.141056    2.037315    0.159292\n",
      "H      0.684275   -2.205745   -0.312836\n",
      "H     -1.777765   -1.968506   -0.106682\n",
      "Temps d'exécution : 0.00 secondes\n"
     ]
    }
   ],
   "source": [
    "# Si l'on veut utiliser cette structure pour un calcul DFT, on retire les deux premières ligne\n",
    "\n",
    "mol_xyz0 = '\\n'.join(mol_xyzNop0.strip().split('\\n')[2:])\n",
    "\n",
    "print(mol_xyz0)"
   ]
  },
  {
   "cell_type": "markdown",
   "id": "98378f3a-4c67-4522-8580-752b47adab70",
   "metadata": {},
   "source": [
    "## Pré-optimisation avec MMFF94s et visualisation de la structure 3D\n"
   ]
  },
  {
   "cell_type": "code",
   "execution_count": 15,
   "id": "9e2ec646-2334-43a0-9606-8fc7fd4cc1b0",
   "metadata": {},
   "outputs": [
    {
     "data": {
      "application/3dmoljs_load.v0": "<div id=\"3dmolviewer_17342754741045318\"  style=\"position: relative; width: 400px; height: 400px;\">\n        <p id=\"3dmolwarning_17342754741045318\" style=\"background-color:#ffcccc;color:black\">3Dmol.js failed to load for some reason.  Please check your browser console for error messages.<br></p>\n        </div>\n<script>\n\nvar loadScriptAsync = function(uri){\n  return new Promise((resolve, reject) => {\n    //this is to ignore the existence of requirejs amd\n    var savedexports, savedmodule;\n    if (typeof exports !== 'undefined') savedexports = exports;\n    else exports = {}\n    if (typeof module !== 'undefined') savedmodule = module;\n    else module = {}\n\n    var tag = document.createElement('script');\n    tag.src = uri;\n    tag.async = true;\n    tag.onload = () => {\n        exports = savedexports;\n        module = savedmodule;\n        resolve();\n    };\n  var firstScriptTag = document.getElementsByTagName('script')[0];\n  firstScriptTag.parentNode.insertBefore(tag, firstScriptTag);\n});\n};\n\nif(typeof $3Dmolpromise === 'undefined') {\n$3Dmolpromise = null;\n  $3Dmolpromise = loadScriptAsync('https://cdnjs.cloudflare.com/ajax/libs/3Dmol/2.4.0/3Dmol-min.js');\n}\n\nvar viewer_17342754741045318 = null;\nvar warn = document.getElementById(\"3dmolwarning_17342754741045318\");\nif(warn) {\n    warn.parentNode.removeChild(warn);\n}\n$3Dmolpromise.then(function() {\nviewer_17342754741045318 = $3Dmol.createViewer(document.getElementById(\"3dmolviewer_17342754741045318\"),{backgroundColor:\"white\"});\nviewer_17342754741045318.zoomTo();\n\tviewer_17342754741045318.addModel(\"\\n     RDKit          3D\\n\\n 13 13  0  0  0  0  0  0  0  0999 V2000\\n   -1.7273   -0.0000   -0.0000 C   0  0  0  0  0  0  0  0  0  0  0  0\\n   -1.0311    1.2087    0.0000 C   0  0  0  0  0  0  0  0  0  0  0  0\\n    0.3651    1.2103    0.0000 C   0  0  0  0  0  0  0  0  0  0  0  0\\n    1.0673    0.0000    0.0000 C   0  0  0  0  0  0  0  0  0  0  0  0\\n    0.3651   -1.2103    0.0000 C   0  0  0  0  0  0  0  0  0  0  0  0\\n   -1.0311   -1.2087    0.0000 C   0  0  0  0  0  0  0  0  0  0  0  0\\n    2.5009    0.0000   -0.0000 C   0  0  0  0  0  0  0  0  0  0  0  0\\n    3.6616   -0.0000   -0.0000 N   0  0  0  0  0  0  0  0  0  0  0  0\\n   -2.8150    0.0000   -0.0000 H   0  0  0  0  0  0  0  0  0  0  0  0\\n   -1.5764    2.1496   -0.0000 H   0  0  0  0  0  0  0  0  0  0  0  0\\n    0.8987    2.1589    0.0000 H   0  0  0  0  0  0  0  0  0  0  0  0\\n    0.8987   -2.1589    0.0000 H   0  0  0  0  0  0  0  0  0  0  0  0\\n   -1.5764   -2.1496    0.0000 H   0  0  0  0  0  0  0  0  0  0  0  0\\n  1  2  2  0\\n  2  3  1  0\\n  3  4  2  0\\n  4  5  1  0\\n  5  6  2  0\\n  4  7  1  0\\n  7  8  3  0\\n  6  1  1  0\\n  1  9  1  0\\n  2 10  1  0\\n  3 11  1  0\\n  5 12  1  0\\n  6 13  1  0\\nM  END\\n\",\"mol\");\n\tviewer_17342754741045318.setStyle({\"stick\": {}, \"sphere\": {\"scale\": 0.3}});\n\tviewer_17342754741045318.addLabel(\"Cyanobenzene RDKit Molecule MMFF94s\",{\"position\": {\"x\": -2, \"y\": -3, \"z\": 0}});\n\tviewer_17342754741045318.zoomTo();\nviewer_17342754741045318.render();\n});\n</script>",
      "text/html": [
       "<div id=\"3dmolviewer_17342754741045318\"  style=\"position: relative; width: 400px; height: 400px;\">\n",
       "        <p id=\"3dmolwarning_17342754741045318\" style=\"background-color:#ffcccc;color:black\">3Dmol.js failed to load for some reason.  Please check your browser console for error messages.<br></p>\n",
       "        </div>\n",
       "<script>\n",
       "\n",
       "var loadScriptAsync = function(uri){\n",
       "  return new Promise((resolve, reject) => {\n",
       "    //this is to ignore the existence of requirejs amd\n",
       "    var savedexports, savedmodule;\n",
       "    if (typeof exports !== 'undefined') savedexports = exports;\n",
       "    else exports = {}\n",
       "    if (typeof module !== 'undefined') savedmodule = module;\n",
       "    else module = {}\n",
       "\n",
       "    var tag = document.createElement('script');\n",
       "    tag.src = uri;\n",
       "    tag.async = true;\n",
       "    tag.onload = () => {\n",
       "        exports = savedexports;\n",
       "        module = savedmodule;\n",
       "        resolve();\n",
       "    };\n",
       "  var firstScriptTag = document.getElementsByTagName('script')[0];\n",
       "  firstScriptTag.parentNode.insertBefore(tag, firstScriptTag);\n",
       "});\n",
       "};\n",
       "\n",
       "if(typeof $3Dmolpromise === 'undefined') {\n",
       "$3Dmolpromise = null;\n",
       "  $3Dmolpromise = loadScriptAsync('https://cdnjs.cloudflare.com/ajax/libs/3Dmol/2.4.0/3Dmol-min.js');\n",
       "}\n",
       "\n",
       "var viewer_17342754741045318 = null;\n",
       "var warn = document.getElementById(\"3dmolwarning_17342754741045318\");\n",
       "if(warn) {\n",
       "    warn.parentNode.removeChild(warn);\n",
       "}\n",
       "$3Dmolpromise.then(function() {\n",
       "viewer_17342754741045318 = $3Dmol.createViewer(document.getElementById(\"3dmolviewer_17342754741045318\"),{backgroundColor:\"white\"});\n",
       "viewer_17342754741045318.zoomTo();\n",
       "\tviewer_17342754741045318.addModel(\"\\n     RDKit          3D\\n\\n 13 13  0  0  0  0  0  0  0  0999 V2000\\n   -1.7273   -0.0000   -0.0000 C   0  0  0  0  0  0  0  0  0  0  0  0\\n   -1.0311    1.2087    0.0000 C   0  0  0  0  0  0  0  0  0  0  0  0\\n    0.3651    1.2103    0.0000 C   0  0  0  0  0  0  0  0  0  0  0  0\\n    1.0673    0.0000    0.0000 C   0  0  0  0  0  0  0  0  0  0  0  0\\n    0.3651   -1.2103    0.0000 C   0  0  0  0  0  0  0  0  0  0  0  0\\n   -1.0311   -1.2087    0.0000 C   0  0  0  0  0  0  0  0  0  0  0  0\\n    2.5009    0.0000   -0.0000 C   0  0  0  0  0  0  0  0  0  0  0  0\\n    3.6616   -0.0000   -0.0000 N   0  0  0  0  0  0  0  0  0  0  0  0\\n   -2.8150    0.0000   -0.0000 H   0  0  0  0  0  0  0  0  0  0  0  0\\n   -1.5764    2.1496   -0.0000 H   0  0  0  0  0  0  0  0  0  0  0  0\\n    0.8987    2.1589    0.0000 H   0  0  0  0  0  0  0  0  0  0  0  0\\n    0.8987   -2.1589    0.0000 H   0  0  0  0  0  0  0  0  0  0  0  0\\n   -1.5764   -2.1496    0.0000 H   0  0  0  0  0  0  0  0  0  0  0  0\\n  1  2  2  0\\n  2  3  1  0\\n  3  4  2  0\\n  4  5  1  0\\n  5  6  2  0\\n  4  7  1  0\\n  7  8  3  0\\n  6  1  1  0\\n  1  9  1  0\\n  2 10  1  0\\n  3 11  1  0\\n  5 12  1  0\\n  6 13  1  0\\nM  END\\n\",\"mol\");\n",
       "\tviewer_17342754741045318.setStyle({\"stick\": {}, \"sphere\": {\"scale\": 0.3}});\n",
       "\tviewer_17342754741045318.addLabel(\"Cyanobenzene RDKit Molecule MMFF94s\",{\"position\": {\"x\": -2, \"y\": -3, \"z\": 0}});\n",
       "\tviewer_17342754741045318.zoomTo();\n",
       "viewer_17342754741045318.render();\n",
       "});\n",
       "</script>"
      ]
     },
     "metadata": {},
     "output_type": "display_data"
    },
    {
     "name": "stdout",
     "output_type": "stream",
     "text": [
      "Temps d'exécution : 0.01 secondes\n"
     ]
    }
   ],
   "source": [
    "# Optimizes the 3D conformation of the molecule using MMFF - Merck Molecular Force Field\n",
    "mol_rdkitOp3D = mol_rdkitNop3D\n",
    "AllChem.MMFFOptimizeMolecule(mol_rdkitOp3D, maxIters = 450, mmffVariant = \"MMFF94s\")\n",
    "\n",
    "#Canonicalize the orientation of the conformation\n",
    "Chem.rdMolTransforms.CanonicalizeMol(mol_rdkitOp3D, normalizeCovar=True, ignoreHs=False)\n",
    "\n",
    "# 3D visualization\n",
    "view3D(mol_rdkitOp3D, f'{smi_key} RDKit Molecule MMFF94s')"
   ]
  },
  {
   "cell_type": "code",
   "execution_count": 16,
   "id": "74acdd4d-6086-48b7-9252-6d09a522f4f2",
   "metadata": {},
   "outputs": [
    {
     "name": "stdout",
     "output_type": "stream",
     "text": [
      "Temps d'exécution : 0.00 secondes\n"
     ]
    }
   ],
   "source": [
    "# Sauvegarde de cette structure non optimisée dans un fichier .xyz\n",
    "path_rdkitOp_xyz = working_dir / f'{smi_key}_rdkitOp.xyz'\n",
    "\n",
    "# Convert RDKit molecule to XYZ format \n",
    "mol_xyzOp0 = Chem.MolToXYZBlock(mol_rdkitOp3D)\n",
    "\n",
    "with open(path_rdkitOp_xyz, \"w\") as f:\n",
    "    f.write(mol_xyzOp0)"
   ]
  },
  {
   "cell_type": "code",
   "execution_count": 17,
   "id": "c44ac2c0-cb3e-4d27-bb77-eb401e03741b",
   "metadata": {},
   "outputs": [
    {
     "name": "stdout",
     "output_type": "stream",
     "text": [
      "13\n",
      "\n",
      "C     -1.727333   -0.000000   -0.000002\n",
      "C     -1.031144    1.208677    0.000000\n",
      "C      0.365121    1.210290    0.000004\n",
      "C      1.067346    0.000000    0.000003\n",
      "C      0.365121   -1.210290    0.000003\n",
      "C     -1.031144   -1.208678    0.000001\n",
      "C      2.500875    0.000000   -0.000002\n",
      "N      3.661630   -0.000000   -0.000008\n",
      "H     -2.814975    0.000000   -0.000006\n",
      "H     -1.576450    2.149580   -0.000003\n",
      "H      0.898701    2.158874    0.000006\n",
      "H      0.898702   -2.158873    0.000002\n",
      "H     -1.576450   -2.149581    0.000001\n",
      "\n",
      "Temps d'exécution : 0.00 secondes\n"
     ]
    }
   ],
   "source": [
    "print(f'{mol_xyzOp0}')"
   ]
  },
  {
   "cell_type": "code",
   "execution_count": 18,
   "id": "8288139b-9a98-42ea-a794-13f244d56f33",
   "metadata": {},
   "outputs": [
    {
     "name": "stdout",
     "output_type": "stream",
     "text": [
      "C     -1.727333   -0.000000   -0.000002\n",
      "C     -1.031144    1.208677    0.000000\n",
      "C      0.365121    1.210290    0.000004\n",
      "C      1.067346    0.000000    0.000003\n",
      "C      0.365121   -1.210290    0.000003\n",
      "C     -1.031144   -1.208678    0.000001\n",
      "C      2.500875    0.000000   -0.000002\n",
      "N      3.661630   -0.000000   -0.000008\n",
      "H     -2.814975    0.000000   -0.000006\n",
      "H     -1.576450    2.149580   -0.000003\n",
      "H      0.898701    2.158874    0.000006\n",
      "H      0.898702   -2.158873    0.000002\n",
      "H     -1.576450   -2.149581    0.000001\n",
      "Temps d'exécution : 0.00 secondes\n"
     ]
    }
   ],
   "source": [
    "mol_xyz1 = '\\n'.join(mol_xyzOp0.strip().split('\\n')[2:])\n",
    "\n",
    "print(mol_xyz1)"
   ]
  },
  {
   "cell_type": "markdown",
   "id": "b1fe623b-0fed-433c-b5ba-4106a1e21a81",
   "metadata": {},
   "source": [
    "## Calcul du RMSD (Root Mean Square Deviation) \n",
    "C'est une mesure statistique qui quantifie la différence moyenne entre deux conformations d'une même molécule ou entre une structure expérimentale et une structure prédite."
   ]
  },
  {
   "cell_type": "code",
   "execution_count": 19,
   "id": "432a14b4-2f06-46f4-ab1b-cc294fd68fd0",
   "metadata": {},
   "outputs": [
    {
     "data": {
      "text/plain": [
       "0.041137019545967206"
      ]
     },
     "execution_count": 19,
     "metadata": {},
     "output_type": "execute_result"
    },
    {
     "name": "stdout",
     "output_type": "stream",
     "text": [
      "Temps d'exécution : 0.00 secondes\n"
     ]
    }
   ],
   "source": [
    "AllChem.AlignMol(AllChem.MolFromXYZBlock(mol_xyzNop0),AllChem.MolFromXYZBlock(mol_xyzOp0))"
   ]
  },
  {
   "cell_type": "markdown",
   "id": "ed8ba6b3-53be-41fa-ba42-17eb94ff8833",
   "metadata": {},
   "source": []
  },
  {
   "cell_type": "markdown",
   "id": "eda3c80d-7805-4fa2-bbfd-cb39b04ba29b",
   "metadata": {},
   "source": [
    "* **Le RMSD est inférieure à 2/3 Å** ce qui pourrait indiquer que le système a convergé vers une structure plus stable\n",
    "* On note une faible différence entre les deux structures moléculaires. "
   ]
  },
  {
   "cell_type": "markdown",
   "id": "f914d14b-609d-4d2c-b28b-03ad78dd7e59",
   "metadata": {},
   "source": [
    "## Optimisation de la structure 3D avec xTB et CREST : introduction sur les methodes xTB\n"
   ]
  },
  {
   "cell_type": "code",
   "execution_count": 20,
   "id": "59c45e3d-08df-4ea5-a098-b258beb443b9",
   "metadata": {},
   "outputs": [
    {
     "name": "stdout",
     "output_type": "stream",
     "text": [
      "Temps d'exécution : 0.00 secondes\n"
     ]
    }
   ],
   "source": [
    "#  Common packages\n",
    "import os  # Utilisé pour des opérations comme la création, la suppression, ou la modification de fichiers et répertoires\n",
    "from sys import exit # terminer et quitter   un programme \n",
    "import subprocess as sp # Permet d'excécuter les opérations à partir du terminal"
   ]
  },
  {
   "cell_type": "code",
   "execution_count": 21,
   "id": "883d76a6-b4b6-4933-940c-6d0a8c5c6600",
   "metadata": {},
   "outputs": [
    {
     "name": "stdout",
     "output_type": "stream",
     "text": [
      "Temps d'exécution : 0.00 secondes\n"
     ]
    }
   ],
   "source": [
    "#Fonction pour nettoyer les fichiers de calcul\n",
    "def clean_xtb_files():\n",
    "        #---------------------------------------------------------------------\n",
    "        # Clean up output files from xtb, xtb-stda and CREST processes\n",
    "        #FIXME To call after each xtb function\n",
    "        #---------------------------------------------------------------------\n",
    "        sp.run(['rm', 'bondlengths', 'charges', 'coord', 'coord.original', 'cregen_0.tmp','spec.dat','rots.dat',\n",
    "                'cregen_1.tmp', 'cre_members', 'crest_best.xyz', 'crest_conformers.xyz', 'vibspectrum', 'hessian', 'g98.out',\n",
    "                'crest.energies', 'crest_rotamers.xyz', 'gfnff_charges', 'gfnff_topo', 'wfn.xtb', 'xtbhess.xyz',\n",
    "                '.history.xyz', 'struc.xyz', 'wbo', 'xtbopt.xyz', 'xtbopt.log', '.xtboptok', 'crest_property.xyz',\n",
    "                'xtbrestart', 'xtbtopo.mol', 'xtblast.xyz', 'gfnff_adjacency', '.UHF', 'tda.dat',\n",
    "                'ensemble_energies.log', 'charges3', 'charges', 'molden.input', 'crest_0.mdrestart',\n",
    "                'crest_dynamics.trj', 'crestopt.log', 'crest.restart', 'crest_input_copy.xyz'], stdout=sp.DEVNULL, stderr=sp.DEVNULL)\n",
    "        # For folder\n",
    "        sp.run(['rm', '-r', 'calculation.level.1'], stdout=sp.DEVNULL, stderr=sp.DEVNULL)"
   ]
  },
  {
   "cell_type": "markdown",
   "id": "94f7295e-6548-44c7-9a4e-ee7ceb53a8be",
   "metadata": {},
   "source": [
    "Il est possible d'exécuter xTB en ligne, sur [atomistica](https://atomistica-online-xtb.anvil.app/)."
   ]
  },
  {
   "cell_type": "markdown",
   "id": "e4a4168c-8404-4dc3-bef1-e953e9de68b3",
   "metadata": {},
   "source": [
    "### Vérification des versions de xTB, CREST et sTDA installées"
   ]
  },
  {
   "cell_type": "code",
   "execution_count": 22,
   "id": "6c1c8435-7e21-497c-9977-bbb04654966c",
   "metadata": {},
   "outputs": [
    {
     "name": "stdout",
     "output_type": "stream",
     "text": [
      "Temps d'exécution : 0.00 secondes\n"
     ]
    }
   ],
   "source": [
    "try:\n",
    "  import xtb, crest\n",
    "except:\n",
    "  %pip install xtb crest -U\n",
    "  import xtb, crest"
   ]
  },
  {
   "cell_type": "code",
   "execution_count": 23,
   "id": "1a1764c7-f81c-4394-b55a-9ed6538275a3",
   "metadata": {},
   "outputs": [
    {
     "name": "stdout",
     "output_type": "stream",
     "text": [
      "      -----------------------------------------------------------      \n",
      "     |                   =====================                   |     \n",
      "     |                           x T B                           |     \n",
      "     |                   =====================                   |     \n",
      "     |                         S. Grimme                         |     \n",
      "     |          Mulliken Center for Theoretical Chemistry        |     \n",
      "     |                    University of Bonn                     |     \n",
      "      -----------------------------------------------------------      \n",
      "\n",
      "   * xtb version 6.6.1 (8d0f1dd) compiled by 'conda@1efc2f54142f' on 2023-08-01\n",
      "\n",
      "normal termination of xtb\n",
      "Temps d'exécution : 0.12 secondes\n"
     ]
    }
   ],
   "source": [
    "!xtb --version"
   ]
  },
  {
   "cell_type": "code",
   "execution_count": 24,
   "id": "f9ee12c6-11eb-4092-96b1-912d387a3e1b",
   "metadata": {},
   "outputs": [
    {
     "name": "stdout",
     "output_type": "stream",
     "text": [
      "\n",
      "       ╔════════════════════════════════════════════╗\n",
      "       ║            ___ ___ ___ ___ _____           ║\n",
      "       ║           / __| _ \\ __/ __|_   _|          ║\n",
      "       ║          | (__|   / _|\\__ \\ | |            ║\n",
      "       ║           \\___|_|_\\___|___/ |_|            ║\n",
      "       ║                                            ║\n",
      "       ║  Conformer-Rotamer Ensemble Sampling Tool  ║\n",
      "       ║          based on the xTB methods          ║\n",
      "       ║                                            ║\n",
      "       ╚════════════════════════════════════════════╝\n",
      "       Version 3.0.2, Thu, 29 August 14:20:46, 08/29/2024\n",
      "       commit (65685a7) compiled by 'usr@d37571da525e'\n",
      "\n",
      " crest 3.0.2\n",
      "Temps d'exécution : 0.11 secondes\n"
     ]
    }
   ],
   "source": [
    "!crest --version"
   ]
  },
  {
   "cell_type": "markdown",
   "id": "0695ba09-114a-49f8-b58a-444bde855707",
   "metadata": {},
   "source": [
    "## Pré-optimisation avec xTB sur la molécule pré-optimisée avec RDKit"
   ]
  },
  {
   "cell_type": "markdown",
   "id": "d7aba2ef-d12e-4bb3-bddb-52560a2f2c8c",
   "metadata": {},
   "source": [
    "## Définition des chemins pour les fichiers xtb de pré-optimisation, les fichiers xtb d'optimisation et le fichier journal CREST"
   ]
  },
  {
   "cell_type": "code",
   "execution_count": 25,
   "id": "f49941c1-8555-40d7-9934-3d4ce4ac962b",
   "metadata": {},
   "outputs": [
    {
     "name": "stdout",
     "output_type": "stream",
     "text": [
      "Temps d'exécution : 0.00 secondes\n"
     ]
    }
   ],
   "source": [
    "# Setting various paths for xtb and crest files\n",
    "#pré-optimisation with xtb\n",
    "path_xtb_xyzProp = working_dir / f'{smi_key}_xtb_PrOpt.xyz'\n",
    "path_xtb_logProp = working_dir / f'{smi_key}_xtb_PrOpt.log'\n",
    "\n",
    "#optimisation with xtb\n",
    "path_xtb_xyzOp = working_dir / f'{smi_key}_xtb_Opt.xyz'\n",
    "path_xtb_logOp = working_dir / f'{smi_key}_xtb_Opt.log'\n",
    "\n",
    "#log for crest\n",
    "path_crest_log = working_dir / f'{smi_key}_crest.log'\n",
    "\n",
    "path_xtb_csv = working_dir / f'{smi_key}_xtb.csv'"
   ]
  },
  {
   "cell_type": "markdown",
   "id": "4fe5eba6-2883-471f-aa7e-58ba21478ae0",
   "metadata": {},
   "source": [
    "### Pré-optimisation avec xTB sur la molécule optimisée par RDKit\n",
    "\n",
    "## Méthodes GFN-xTB et GFN-FF\n",
    "\n"
   ]
  },
  {
   "cell_type": "code",
   "execution_count": 26,
   "id": "9ff12fe3-d99c-46e8-9b44-0987acf8f1f9",
   "metadata": {},
   "outputs": [
    {
     "name": "stdout",
     "output_type": "stream",
     "text": [
      "normal termination of xtb\n",
      "Note: The following floating-point exceptions are signalling: IEEE_DENORMAL\n",
      "Temps d'exécution : 0.15 secondes\n"
     ]
    }
   ],
   "source": [
    "!xtb {path_rdkitOp_xyz} --gfn 2 --opt vtight --parallel 4 > {path_xtb_logProp}"
   ]
  },
  {
   "cell_type": "markdown",
   "id": "101a6927-6220-4d70-b490-100df3c53161",
   "metadata": {},
   "source": [
    "#### Sauvegarde de la structure pré-optimisée"
   ]
  },
  {
   "cell_type": "code",
   "execution_count": 27,
   "id": "658729f3-2e81-493f-b9ca-4696ef38c37b",
   "metadata": {},
   "outputs": [
    {
     "name": "stdout",
     "output_type": "stream",
     "text": [
      "Temps d'exécution : 0.11 secondes\n"
     ]
    }
   ],
   "source": [
    "!cp xtbopt.xyz {path_xtb_xyzProp}"
   ]
  },
  {
   "cell_type": "markdown",
   "id": "5953ec71-5a99-4090-8467-41875fba7b4b",
   "metadata": {},
   "source": [
    "## Visualisation de la structure pre-optimisée par xtb"
   ]
  },
  {
   "cell_type": "code",
   "execution_count": 28,
   "id": "521d3752-0a36-41ab-8edd-165461504f6b",
   "metadata": {},
   "outputs": [
    {
     "data": {
      "application/3dmoljs_load.v0": "<div id=\"3dmolviewer_17342754746328897\"  style=\"position: relative; width: 400px; height: 400px;\">\n        <p id=\"3dmolwarning_17342754746328897\" style=\"background-color:#ffcccc;color:black\">3Dmol.js failed to load for some reason.  Please check your browser console for error messages.<br></p>\n        </div>\n<script>\n\nvar loadScriptAsync = function(uri){\n  return new Promise((resolve, reject) => {\n    //this is to ignore the existence of requirejs amd\n    var savedexports, savedmodule;\n    if (typeof exports !== 'undefined') savedexports = exports;\n    else exports = {}\n    if (typeof module !== 'undefined') savedmodule = module;\n    else module = {}\n\n    var tag = document.createElement('script');\n    tag.src = uri;\n    tag.async = true;\n    tag.onload = () => {\n        exports = savedexports;\n        module = savedmodule;\n        resolve();\n    };\n  var firstScriptTag = document.getElementsByTagName('script')[0];\n  firstScriptTag.parentNode.insertBefore(tag, firstScriptTag);\n});\n};\n\nif(typeof $3Dmolpromise === 'undefined') {\n$3Dmolpromise = null;\n  $3Dmolpromise = loadScriptAsync('https://cdnjs.cloudflare.com/ajax/libs/3Dmol/2.4.0/3Dmol-min.js');\n}\n\nvar viewer_17342754746328897 = null;\nvar warn = document.getElementById(\"3dmolwarning_17342754746328897\");\nif(warn) {\n    warn.parentNode.removeChild(warn);\n}\n$3Dmolpromise.then(function() {\nviewer_17342754746328897 = $3Dmol.createViewer(document.getElementById(\"3dmolviewer_17342754746328897\"),{backgroundColor:\"white\"});\nviewer_17342754746328897.zoomTo();\n\tviewer_17342754746328897.addModel(\"13\\n\\nC           -1.71251335858519        0.00000028683782       -0.00000027717123\\nC           -1.02194857624560        1.20213973441010       -0.00000010517973\\nC            0.35978050318740        1.20978787392843        0.00000018768672\\nC            1.05459738826651       -0.00000258692856        0.00000018645621\\nC            0.35977810144256       -1.20979137226030        0.00000018958499\\nC           -1.02195080019960       -1.20214043320047       -0.00000009410366\\nC            2.46902391250887       -0.00000735531324        0.00000004380850\\nN            3.61540946264301        0.00001574128527       -0.00000075987267\\nH           -2.79231315117208        0.00000120373812       -0.00000057551933\\nH           -1.56309481079626        2.13652297036914       -0.00000023043127\\nH            0.90816691723945        2.14032485545620        0.00000034154516\\nH            0.90816294659516       -2.14032917359987        0.00000035465398\\nH           -1.56309853488423       -2.13652274472265       -0.00000026145766\",\"xyz\");\n\tviewer_17342754746328897.setStyle({\"stick\": {}, \"sphere\": {\"scale\": 0.3}});\n\tviewer_17342754746328897.addLabel(\"Cyanobenzene Pre. Opt Molecule xTB\",{\"position\": {\"x\": -2, \"y\": -3, \"z\": 0}});\n\tviewer_17342754746328897.zoomTo();\nviewer_17342754746328897.render();\n});\n</script>",
      "text/html": [
       "<div id=\"3dmolviewer_17342754746328897\"  style=\"position: relative; width: 400px; height: 400px;\">\n",
       "        <p id=\"3dmolwarning_17342754746328897\" style=\"background-color:#ffcccc;color:black\">3Dmol.js failed to load for some reason.  Please check your browser console for error messages.<br></p>\n",
       "        </div>\n",
       "<script>\n",
       "\n",
       "var loadScriptAsync = function(uri){\n",
       "  return new Promise((resolve, reject) => {\n",
       "    //this is to ignore the existence of requirejs amd\n",
       "    var savedexports, savedmodule;\n",
       "    if (typeof exports !== 'undefined') savedexports = exports;\n",
       "    else exports = {}\n",
       "    if (typeof module !== 'undefined') savedmodule = module;\n",
       "    else module = {}\n",
       "\n",
       "    var tag = document.createElement('script');\n",
       "    tag.src = uri;\n",
       "    tag.async = true;\n",
       "    tag.onload = () => {\n",
       "        exports = savedexports;\n",
       "        module = savedmodule;\n",
       "        resolve();\n",
       "    };\n",
       "  var firstScriptTag = document.getElementsByTagName('script')[0];\n",
       "  firstScriptTag.parentNode.insertBefore(tag, firstScriptTag);\n",
       "});\n",
       "};\n",
       "\n",
       "if(typeof $3Dmolpromise === 'undefined') {\n",
       "$3Dmolpromise = null;\n",
       "  $3Dmolpromise = loadScriptAsync('https://cdnjs.cloudflare.com/ajax/libs/3Dmol/2.4.0/3Dmol-min.js');\n",
       "}\n",
       "\n",
       "var viewer_17342754746328897 = null;\n",
       "var warn = document.getElementById(\"3dmolwarning_17342754746328897\");\n",
       "if(warn) {\n",
       "    warn.parentNode.removeChild(warn);\n",
       "}\n",
       "$3Dmolpromise.then(function() {\n",
       "viewer_17342754746328897 = $3Dmol.createViewer(document.getElementById(\"3dmolviewer_17342754746328897\"),{backgroundColor:\"white\"});\n",
       "viewer_17342754746328897.zoomTo();\n",
       "\tviewer_17342754746328897.addModel(\"13\\n\\nC           -1.71251335858519        0.00000028683782       -0.00000027717123\\nC           -1.02194857624560        1.20213973441010       -0.00000010517973\\nC            0.35978050318740        1.20978787392843        0.00000018768672\\nC            1.05459738826651       -0.00000258692856        0.00000018645621\\nC            0.35977810144256       -1.20979137226030        0.00000018958499\\nC           -1.02195080019960       -1.20214043320047       -0.00000009410366\\nC            2.46902391250887       -0.00000735531324        0.00000004380850\\nN            3.61540946264301        0.00001574128527       -0.00000075987267\\nH           -2.79231315117208        0.00000120373812       -0.00000057551933\\nH           -1.56309481079626        2.13652297036914       -0.00000023043127\\nH            0.90816691723945        2.14032485545620        0.00000034154516\\nH            0.90816294659516       -2.14032917359987        0.00000035465398\\nH           -1.56309853488423       -2.13652274472265       -0.00000026145766\",\"xyz\");\n",
       "\tviewer_17342754746328897.setStyle({\"stick\": {}, \"sphere\": {\"scale\": 0.3}});\n",
       "\tviewer_17342754746328897.addLabel(\"Cyanobenzene Pre. Opt Molecule xTB\",{\"position\": {\"x\": -2, \"y\": -3, \"z\": 0}});\n",
       "\tviewer_17342754746328897.zoomTo();\n",
       "viewer_17342754746328897.render();\n",
       "});\n",
       "</script>"
      ]
     },
     "metadata": {},
     "output_type": "display_data"
    },
    {
     "name": "stdout",
     "output_type": "stream",
     "text": [
      "Temps d'exécution : 0.00 secondes\n"
     ]
    }
   ],
   "source": [
    "#Visualisation\n",
    "molecule_xtb_preOp = path_xtb_xyzProp.read_text()\n",
    "lines = molecule_xtb_preOp.strip().split('\\n')\n",
    "molecule_xtb_preOp = '\\n'.join(lines[:1] + [''] + lines[2:])\n",
    "\n",
    "view3D(molecule_xtb_preOp, f'{smi_key} Pre. Opt Molecule xTB', fmt='xyz')"
   ]
  },
  {
   "cell_type": "markdown",
   "id": "99ae512f-4175-4150-ac9d-6ea85c365524",
   "metadata": {},
   "source": [
    "### Recherche du meilleur conformère avec CREST\n",
    "\n",
    "Le code ci-dessous lance une analyse conformationnelle avec CREST en utilisant la méthode GFN2-xTB, avec des paramètres d'échantillonnage rapides et sans vérification de la topologie de référence. Les résultats seront enregistrés dans le fichier de sortie {path_crest_log}.\n",
    "\n",
    "\n",
    "{path_xtb_xyzProp} : C'est le chemin du fichier d'entrée au format XYZ contenant la structure moléculaire à analyser. \n",
    "*  --mquick : Cette option active le mode \"rapide\" de CREST, qui utilise des paramètres d'échantillonnage plus agressifs pour accélérer les calculs;\n",
    "\n",
    "* --noreftopo : Cette option désactive la vérification de la topologie de référence, ce qui peut être utile lorsque la structure d'entrée n'a pas de topologie de référence connue.\n",
    "\n",
    "* -T 2 : Cette option définit le nombre de threads (cœurs de processeur) à utiliser pour les calculs en parallèle.\n"
   ]
  },
  {
   "cell_type": "code",
   "execution_count": 29,
   "id": "d494ad83-1654-43c8-8e72-88f656a3a756",
   "metadata": {},
   "outputs": [
    {
     "name": "stdout",
     "output_type": "stream",
     "text": [
      "Temps d'exécution : 6.65 secondes\n"
     ]
    }
   ],
   "source": [
    "!crest {path_xtb_xyzProp} --gfn 2 --mquick --noreftopo -T 4 > {path_crest_log}"
   ]
  },
  {
   "cell_type": "markdown",
   "id": "78ade1c0-f0fa-4f7d-bc1e-b3db2c255941",
   "metadata": {},
   "source": [
    "### Optimisation avec xTB sur le meilleur conformère de la molécule"
   ]
  },
  {
   "cell_type": "code",
   "execution_count": 30,
   "id": "feec6991-21c7-47aa-b4af-925185a295e1",
   "metadata": {},
   "outputs": [
    {
     "name": "stdout",
     "output_type": "stream",
     "text": [
      "normal termination of xtb\n",
      "Note: The following floating-point exceptions are signalling: IEEE_DENORMAL\n",
      "Temps d'exécution : 0.15 secondes\n"
     ]
    }
   ],
   "source": [
    "!xtb crest_best.xyz --gfn 2 --opt vtight --parallel 4 > {path_xtb_logOp}"
   ]
  },
  {
   "cell_type": "code",
   "execution_count": 31,
   "id": "5b317130-da44-46a9-bfc0-7fbd39b14c1f",
   "metadata": {},
   "outputs": [
    {
     "name": "stdout",
     "output_type": "stream",
     "text": [
      "Temps d'exécution : 0.12 secondes\n"
     ]
    }
   ],
   "source": [
    "# Sauvegarde de la structure Optimisée\n",
    "!cp xtbopt.xyz {path_xtb_xyzOp}"
   ]
  },
  {
   "cell_type": "code",
   "execution_count": 32,
   "id": "e0997e88-57e7-492d-94c0-03039fa3c5d2",
   "metadata": {},
   "outputs": [
    {
     "data": {
      "application/3dmoljs_load.v0": "<div id=\"3dmolviewer_17342754815682683\"  style=\"position: relative; width: 400px; height: 400px;\">\n        <p id=\"3dmolwarning_17342754815682683\" style=\"background-color:#ffcccc;color:black\">3Dmol.js failed to load for some reason.  Please check your browser console for error messages.<br></p>\n        </div>\n<script>\n\nvar loadScriptAsync = function(uri){\n  return new Promise((resolve, reject) => {\n    //this is to ignore the existence of requirejs amd\n    var savedexports, savedmodule;\n    if (typeof exports !== 'undefined') savedexports = exports;\n    else exports = {}\n    if (typeof module !== 'undefined') savedmodule = module;\n    else module = {}\n\n    var tag = document.createElement('script');\n    tag.src = uri;\n    tag.async = true;\n    tag.onload = () => {\n        exports = savedexports;\n        module = savedmodule;\n        resolve();\n    };\n  var firstScriptTag = document.getElementsByTagName('script')[0];\n  firstScriptTag.parentNode.insertBefore(tag, firstScriptTag);\n});\n};\n\nif(typeof $3Dmolpromise === 'undefined') {\n$3Dmolpromise = null;\n  $3Dmolpromise = loadScriptAsync('https://cdnjs.cloudflare.com/ajax/libs/3Dmol/2.4.0/3Dmol-min.js');\n}\n\nvar viewer_17342754815682683 = null;\nvar warn = document.getElementById(\"3dmolwarning_17342754815682683\");\nif(warn) {\n    warn.parentNode.removeChild(warn);\n}\n$3Dmolpromise.then(function() {\nviewer_17342754815682683 = $3Dmol.createViewer(document.getElementById(\"3dmolviewer_17342754815682683\"),{backgroundColor:\"white\"});\nviewer_17342754815682683.zoomTo();\n\tviewer_17342754815682683.addModel(\"13\\n\\nC           -2.22019728362992        0.00543858919789       -0.00046761516879\\nC           -1.52632624573980        1.20567373093279        0.00044756478189\\nC           -0.14458018213581        1.20950754265927        0.00080119925726\\nC            0.54689181744810       -0.00219854981591        0.00026170233371\\nC           -0.15125517567086       -1.21007209388778       -0.00055805013950\\nC           -1.53295838328044       -1.19860756213880       -0.00094183538240\\nC            1.96131702454153       -0.00612196712269        0.00044938200580\\nN            3.10768352079034       -0.00936959457425        0.00058537107125\\nH           -3.29999449152500        0.00841197818512       -0.00079044590000\\nH           -2.06491252616381        2.14153582452236        0.00087366765181\\nH            0.40637483345640        2.13852633569842        0.00150957802961\\nH            0.39456531546613       -2.14211526350434       -0.00095703564699\\nH           -2.07670672175687       -2.13147980455209       -0.00158383629366\",\"xyz\");\n\tviewer_17342754815682683.setStyle({\"stick\": {}, \"sphere\": {\"scale\": 0.3}});\n\tviewer_17342754815682683.addLabel(\"Cyanobenzene Optimized Molecule xTB\",{\"position\": {\"x\": -2, \"y\": -3, \"z\": 0}});\n\tviewer_17342754815682683.zoomTo();\nviewer_17342754815682683.render();\n});\n</script>",
      "text/html": [
       "<div id=\"3dmolviewer_17342754815682683\"  style=\"position: relative; width: 400px; height: 400px;\">\n",
       "        <p id=\"3dmolwarning_17342754815682683\" style=\"background-color:#ffcccc;color:black\">3Dmol.js failed to load for some reason.  Please check your browser console for error messages.<br></p>\n",
       "        </div>\n",
       "<script>\n",
       "\n",
       "var loadScriptAsync = function(uri){\n",
       "  return new Promise((resolve, reject) => {\n",
       "    //this is to ignore the existence of requirejs amd\n",
       "    var savedexports, savedmodule;\n",
       "    if (typeof exports !== 'undefined') savedexports = exports;\n",
       "    else exports = {}\n",
       "    if (typeof module !== 'undefined') savedmodule = module;\n",
       "    else module = {}\n",
       "\n",
       "    var tag = document.createElement('script');\n",
       "    tag.src = uri;\n",
       "    tag.async = true;\n",
       "    tag.onload = () => {\n",
       "        exports = savedexports;\n",
       "        module = savedmodule;\n",
       "        resolve();\n",
       "    };\n",
       "  var firstScriptTag = document.getElementsByTagName('script')[0];\n",
       "  firstScriptTag.parentNode.insertBefore(tag, firstScriptTag);\n",
       "});\n",
       "};\n",
       "\n",
       "if(typeof $3Dmolpromise === 'undefined') {\n",
       "$3Dmolpromise = null;\n",
       "  $3Dmolpromise = loadScriptAsync('https://cdnjs.cloudflare.com/ajax/libs/3Dmol/2.4.0/3Dmol-min.js');\n",
       "}\n",
       "\n",
       "var viewer_17342754815682683 = null;\n",
       "var warn = document.getElementById(\"3dmolwarning_17342754815682683\");\n",
       "if(warn) {\n",
       "    warn.parentNode.removeChild(warn);\n",
       "}\n",
       "$3Dmolpromise.then(function() {\n",
       "viewer_17342754815682683 = $3Dmol.createViewer(document.getElementById(\"3dmolviewer_17342754815682683\"),{backgroundColor:\"white\"});\n",
       "viewer_17342754815682683.zoomTo();\n",
       "\tviewer_17342754815682683.addModel(\"13\\n\\nC           -2.22019728362992        0.00543858919789       -0.00046761516879\\nC           -1.52632624573980        1.20567373093279        0.00044756478189\\nC           -0.14458018213581        1.20950754265927        0.00080119925726\\nC            0.54689181744810       -0.00219854981591        0.00026170233371\\nC           -0.15125517567086       -1.21007209388778       -0.00055805013950\\nC           -1.53295838328044       -1.19860756213880       -0.00094183538240\\nC            1.96131702454153       -0.00612196712269        0.00044938200580\\nN            3.10768352079034       -0.00936959457425        0.00058537107125\\nH           -3.29999449152500        0.00841197818512       -0.00079044590000\\nH           -2.06491252616381        2.14153582452236        0.00087366765181\\nH            0.40637483345640        2.13852633569842        0.00150957802961\\nH            0.39456531546613       -2.14211526350434       -0.00095703564699\\nH           -2.07670672175687       -2.13147980455209       -0.00158383629366\",\"xyz\");\n",
       "\tviewer_17342754815682683.setStyle({\"stick\": {}, \"sphere\": {\"scale\": 0.3}});\n",
       "\tviewer_17342754815682683.addLabel(\"Cyanobenzene Optimized Molecule xTB\",{\"position\": {\"x\": -2, \"y\": -3, \"z\": 0}});\n",
       "\tviewer_17342754815682683.zoomTo();\n",
       "viewer_17342754815682683.render();\n",
       "});\n",
       "</script>"
      ]
     },
     "metadata": {},
     "output_type": "display_data"
    },
    {
     "name": "stdout",
     "output_type": "stream",
     "text": [
      "Temps d'exécution : 0.00 secondes\n"
     ]
    }
   ],
   "source": [
    "#Visualisation\n",
    "molecule_xtb_Op = path_xtb_xyzOp.read_text()\n",
    "lines = molecule_xtb_Op.strip().split('\\n')\n",
    "molecule_xtb_Op = '\\n'.join(lines[:1] + [''] + lines[2:])\n",
    "\n",
    "view3D(molecule_xtb_Op, f'{smi_key} Optimized Molecule xTB', fmt='xyz')"
   ]
  },
  {
   "cell_type": "code",
   "execution_count": 33,
   "id": "c3f59dee-5b7d-4aad-8f6e-a67b3ee3bff6",
   "metadata": {},
   "outputs": [
    {
     "data": {
      "application/3dmoljs_load.v0": "<div id=\"3dmolviewer_17342754815714831\"  style=\"position: relative; width: 400px; height: 400px;\">\n        <p id=\"3dmolwarning_17342754815714831\" style=\"background-color:#ffcccc;color:black\">3Dmol.js failed to load for some reason.  Please check your browser console for error messages.<br></p>\n        </div>\n<script>\n\nvar loadScriptAsync = function(uri){\n  return new Promise((resolve, reject) => {\n    //this is to ignore the existence of requirejs amd\n    var savedexports, savedmodule;\n    if (typeof exports !== 'undefined') savedexports = exports;\n    else exports = {}\n    if (typeof module !== 'undefined') savedmodule = module;\n    else module = {}\n\n    var tag = document.createElement('script');\n    tag.src = uri;\n    tag.async = true;\n    tag.onload = () => {\n        exports = savedexports;\n        module = savedmodule;\n        resolve();\n    };\n  var firstScriptTag = document.getElementsByTagName('script')[0];\n  firstScriptTag.parentNode.insertBefore(tag, firstScriptTag);\n});\n};\n\nif(typeof $3Dmolpromise === 'undefined') {\n$3Dmolpromise = null;\n  $3Dmolpromise = loadScriptAsync('https://cdnjs.cloudflare.com/ajax/libs/3Dmol/2.4.0/3Dmol-min.js');\n}\n\nvar viewer_17342754815714831 = null;\nvar warn = document.getElementById(\"3dmolwarning_17342754815714831\");\nif(warn) {\n    warn.parentNode.removeChild(warn);\n}\n$3Dmolpromise.then(function() {\nviewer_17342754815714831 = $3Dmol.createViewer(document.getElementById(\"3dmolviewer_17342754815714831\"),{backgroundColor:\"white\"});\nviewer_17342754815714831.zoomTo();\n\tviewer_17342754815714831.addModel(\"13\\n\\nC           -2.22019728362992        0.00543858919789       -0.00046761516879\\nC           -1.52632624573980        1.20567373093279        0.00044756478189\\nC           -0.14458018213581        1.20950754265927        0.00080119925726\\nC            0.54689181744810       -0.00219854981591        0.00026170233371\\nC           -0.15125517567086       -1.21007209388778       -0.00055805013950\\nC           -1.53295838328044       -1.19860756213880       -0.00094183538240\\nC            1.96131702454153       -0.00612196712269        0.00044938200580\\nN            3.10768352079034       -0.00936959457425        0.00058537107125\\nH           -3.29999449152500        0.00841197818512       -0.00079044590000\\nH           -2.06491252616381        2.14153582452236        0.00087366765181\\nH            0.40637483345640        2.13852633569842        0.00150957802961\\nH            0.39456531546613       -2.14211526350434       -0.00095703564699\\nH           -2.07670672175687       -2.13147980455209       -0.00158383629366\",\"xyz\");\n\tviewer_17342754815714831.setStyle({\"stick\": {}, \"sphere\": {\"scale\": 0.3}});\n\tviewer_17342754815714831.addLabel(\"Cyanobenzene xTB Molecule\",{\"position\": {\"x\": -2, \"y\": -3, \"z\": 0}});\n\tviewer_17342754815714831.zoomTo();\nviewer_17342754815714831.render();\n});\n</script>",
      "text/html": [
       "<div id=\"3dmolviewer_17342754815714831\"  style=\"position: relative; width: 400px; height: 400px;\">\n",
       "        <p id=\"3dmolwarning_17342754815714831\" style=\"background-color:#ffcccc;color:black\">3Dmol.js failed to load for some reason.  Please check your browser console for error messages.<br></p>\n",
       "        </div>\n",
       "<script>\n",
       "\n",
       "var loadScriptAsync = function(uri){\n",
       "  return new Promise((resolve, reject) => {\n",
       "    //this is to ignore the existence of requirejs amd\n",
       "    var savedexports, savedmodule;\n",
       "    if (typeof exports !== 'undefined') savedexports = exports;\n",
       "    else exports = {}\n",
       "    if (typeof module !== 'undefined') savedmodule = module;\n",
       "    else module = {}\n",
       "\n",
       "    var tag = document.createElement('script');\n",
       "    tag.src = uri;\n",
       "    tag.async = true;\n",
       "    tag.onload = () => {\n",
       "        exports = savedexports;\n",
       "        module = savedmodule;\n",
       "        resolve();\n",
       "    };\n",
       "  var firstScriptTag = document.getElementsByTagName('script')[0];\n",
       "  firstScriptTag.parentNode.insertBefore(tag, firstScriptTag);\n",
       "});\n",
       "};\n",
       "\n",
       "if(typeof $3Dmolpromise === 'undefined') {\n",
       "$3Dmolpromise = null;\n",
       "  $3Dmolpromise = loadScriptAsync('https://cdnjs.cloudflare.com/ajax/libs/3Dmol/2.4.0/3Dmol-min.js');\n",
       "}\n",
       "\n",
       "var viewer_17342754815714831 = null;\n",
       "var warn = document.getElementById(\"3dmolwarning_17342754815714831\");\n",
       "if(warn) {\n",
       "    warn.parentNode.removeChild(warn);\n",
       "}\n",
       "$3Dmolpromise.then(function() {\n",
       "viewer_17342754815714831 = $3Dmol.createViewer(document.getElementById(\"3dmolviewer_17342754815714831\"),{backgroundColor:\"white\"});\n",
       "viewer_17342754815714831.zoomTo();\n",
       "\tviewer_17342754815714831.addModel(\"13\\n\\nC           -2.22019728362992        0.00543858919789       -0.00046761516879\\nC           -1.52632624573980        1.20567373093279        0.00044756478189\\nC           -0.14458018213581        1.20950754265927        0.00080119925726\\nC            0.54689181744810       -0.00219854981591        0.00026170233371\\nC           -0.15125517567086       -1.21007209388778       -0.00055805013950\\nC           -1.53295838328044       -1.19860756213880       -0.00094183538240\\nC            1.96131702454153       -0.00612196712269        0.00044938200580\\nN            3.10768352079034       -0.00936959457425        0.00058537107125\\nH           -3.29999449152500        0.00841197818512       -0.00079044590000\\nH           -2.06491252616381        2.14153582452236        0.00087366765181\\nH            0.40637483345640        2.13852633569842        0.00150957802961\\nH            0.39456531546613       -2.14211526350434       -0.00095703564699\\nH           -2.07670672175687       -2.13147980455209       -0.00158383629366\",\"xyz\");\n",
       "\tviewer_17342754815714831.setStyle({\"stick\": {}, \"sphere\": {\"scale\": 0.3}});\n",
       "\tviewer_17342754815714831.addLabel(\"Cyanobenzene xTB Molecule\",{\"position\": {\"x\": -2, \"y\": -3, \"z\": 0}});\n",
       "\tviewer_17342754815714831.zoomTo();\n",
       "viewer_17342754815714831.render();\n",
       "});\n",
       "</script>"
      ]
     },
     "metadata": {},
     "output_type": "display_data"
    },
    {
     "name": "stdout",
     "output_type": "stream",
     "text": [
      "Temps d'exécution : 0.00 secondes\n"
     ]
    }
   ],
   "source": [
    "# Read the XYZ file\n",
    "mol_xtb_xyz = path_xtb_xyzOp.read_text()\n",
    "lines =mol_xtb_xyz.strip().split('\\n')\n",
    "mol_xtb_xyz = '\\n'.join(lines[:1] + [''] + lines[2:])\n",
    "\n",
    "view3D(mol_xtb_xyz, f'{smi_key} xTB Molecule', fmt='xyz')"
   ]
  },
  {
   "cell_type": "code",
   "execution_count": 34,
   "id": "67d67aab-389a-41da-83e9-87d20849bdb7",
   "metadata": {},
   "outputs": [
    {
     "name": "stdout",
     "output_type": "stream",
     "text": [
      "Temps d'exécution : 0.00 secondes\n"
     ]
    }
   ],
   "source": [
    "#Nettoyage des fichiers\n",
    "clean_xtb_files()"
   ]
  },
  {
   "cell_type": "markdown",
   "id": "b6844157-8fb3-4940-a83d-0d92bdc430be",
   "metadata": {},
   "source": [
    "## Calcul du RMSD (Root Mean Square Deviation) "
   ]
  },
  {
   "cell_type": "code",
   "execution_count": 35,
   "id": "e0715544-fe89-45de-8e04-1373c15ff321",
   "metadata": {},
   "outputs": [
    {
     "data": {
      "text/plain": [
       "0.03163652147729454"
      ]
     },
     "execution_count": 35,
     "metadata": {},
     "output_type": "execute_result"
    },
    {
     "name": "stdout",
     "output_type": "stream",
     "text": [
      "Temps d'exécution : 0.00 secondes\n"
     ]
    }
   ],
   "source": [
    "AllChem.AlignMol(AllChem.MolFromXYZBlock(mol_xyzNop0),AllChem.MolFromXYZBlock(mol_xtb_xyz))"
   ]
  },
  {
   "cell_type": "markdown",
   "id": "45ba18a6-4cd9-4663-a67f-07b5f33c5d32",
   "metadata": {},
   "source": [
    "### Visualisation des trois structures non optimisée , pré-optimisée par RDkit et optimisée par xTB"
   ]
  },
  {
   "cell_type": "code",
   "execution_count": 36,
   "id": "192def07-c768-459e-8479-957ba78836d4",
   "metadata": {},
   "outputs": [
    {
     "data": {
      "application/3dmoljs_load.v0": "<div id=\"3dmolviewer_17342754815840685\"  style=\"position: relative; width: 900px; height: 250px;\">\n        <p id=\"3dmolwarning_17342754815840685\" style=\"background-color:#ffcccc;color:black\">3Dmol.js failed to load for some reason.  Please check your browser console for error messages.<br></p>\n        </div>\n<script>\n\nvar loadScriptAsync = function(uri){\n  return new Promise((resolve, reject) => {\n    //this is to ignore the existence of requirejs amd\n    var savedexports, savedmodule;\n    if (typeof exports !== 'undefined') savedexports = exports;\n    else exports = {}\n    if (typeof module !== 'undefined') savedmodule = module;\n    else module = {}\n\n    var tag = document.createElement('script');\n    tag.src = uri;\n    tag.async = true;\n    tag.onload = () => {\n        exports = savedexports;\n        module = savedmodule;\n        resolve();\n    };\n  var firstScriptTag = document.getElementsByTagName('script')[0];\n  firstScriptTag.parentNode.insertBefore(tag, firstScriptTag);\n});\n};\n\nif(typeof $3Dmolpromise === 'undefined') {\n$3Dmolpromise = null;\n  $3Dmolpromise = loadScriptAsync('https://cdnjs.cloudflare.com/ajax/libs/3Dmol/2.4.0/3Dmol-min.js');\n}\n\nvar viewer_17342754815840685 = null;\nvar warn = document.getElementById(\"3dmolwarning_17342754815840685\");\nif(warn) {\n    warn.parentNode.removeChild(warn);\n}\n$3Dmolpromise.then(function() {\nvar viewergrid_17342754815840685 = null;\nviewergrid_17342754815840685 = $3Dmol.createViewerGrid(document.getElementById(\"3dmolviewer_17342754815840685\"),{rows: 1, cols: 3, control_all: true},{backgroundColor:\"white\"});\nviewer_17342754815840685 = viewergrid_17342754815840685[0][0];\nviewergrid_17342754815840685[0][0].zoomTo();viewergrid_17342754815840685[0][1].zoomTo();viewergrid_17342754815840685[0][2].zoomTo();\tviewergrid_17342754815840685[0][0].addModel(\"\\n     RDKit          3D\\n\\n 13 13  0  0  0  0  0  0  0  0999 V2000\\n   -1.7273   -0.0000   -0.0000 C   0  0  0  0  0  0  0  0  0  0  0  0\\n   -1.0311    1.2087    0.0000 C   0  0  0  0  0  0  0  0  0  0  0  0\\n    0.3651    1.2103    0.0000 C   0  0  0  0  0  0  0  0  0  0  0  0\\n    1.0673    0.0000    0.0000 C   0  0  0  0  0  0  0  0  0  0  0  0\\n    0.3651   -1.2103    0.0000 C   0  0  0  0  0  0  0  0  0  0  0  0\\n   -1.0311   -1.2087    0.0000 C   0  0  0  0  0  0  0  0  0  0  0  0\\n    2.5009    0.0000   -0.0000 C   0  0  0  0  0  0  0  0  0  0  0  0\\n    3.6616   -0.0000   -0.0000 N   0  0  0  0  0  0  0  0  0  0  0  0\\n   -2.8150    0.0000   -0.0000 H   0  0  0  0  0  0  0  0  0  0  0  0\\n   -1.5764    2.1496   -0.0000 H   0  0  0  0  0  0  0  0  0  0  0  0\\n    0.8987    2.1589    0.0000 H   0  0  0  0  0  0  0  0  0  0  0  0\\n    0.8987   -2.1589    0.0000 H   0  0  0  0  0  0  0  0  0  0  0  0\\n   -1.5764   -2.1496    0.0000 H   0  0  0  0  0  0  0  0  0  0  0  0\\n  1  2  2  0\\n  2  3  1  0\\n  3  4  2  0\\n  4  5  1  0\\n  5  6  2  0\\n  4  7  1  0\\n  7  8  3  0\\n  6  1  1  0\\n  1  9  1  0\\n  2 10  1  0\\n  3 11  1  0\\n  5 12  1  0\\n  6 13  1  0\\nM  END\\n\",\"mol\");\n\tviewergrid_17342754815840685[0][1].addModel(\"\\n     RDKit          3D\\n\\n 13 13  0  0  0  0  0  0  0  0999 V2000\\n   -1.7273   -0.0000   -0.0000 C   0  0  0  0  0  0  0  0  0  0  0  0\\n   -1.0311    1.2087    0.0000 C   0  0  0  0  0  0  0  0  0  0  0  0\\n    0.3651    1.2103    0.0000 C   0  0  0  0  0  0  0  0  0  0  0  0\\n    1.0673    0.0000    0.0000 C   0  0  0  0  0  0  0  0  0  0  0  0\\n    0.3651   -1.2103    0.0000 C   0  0  0  0  0  0  0  0  0  0  0  0\\n   -1.0311   -1.2087    0.0000 C   0  0  0  0  0  0  0  0  0  0  0  0\\n    2.5009    0.0000   -0.0000 C   0  0  0  0  0  0  0  0  0  0  0  0\\n    3.6616   -0.0000   -0.0000 N   0  0  0  0  0  0  0  0  0  0  0  0\\n   -2.8150    0.0000   -0.0000 H   0  0  0  0  0  0  0  0  0  0  0  0\\n   -1.5764    2.1496   -0.0000 H   0  0  0  0  0  0  0  0  0  0  0  0\\n    0.8987    2.1589    0.0000 H   0  0  0  0  0  0  0  0  0  0  0  0\\n    0.8987   -2.1589    0.0000 H   0  0  0  0  0  0  0  0  0  0  0  0\\n   -1.5764   -2.1496    0.0000 H   0  0  0  0  0  0  0  0  0  0  0  0\\n  1  2  2  0\\n  2  3  1  0\\n  3  4  2  0\\n  4  5  1  0\\n  5  6  2  0\\n  4  7  1  0\\n  7  8  3  0\\n  6  1  1  0\\n  1  9  1  0\\n  2 10  1  0\\n  3 11  1  0\\n  5 12  1  0\\n  6 13  1  0\\nM  END\\n\",\"mol\");\n\tviewergrid_17342754815840685[0][2].addModel(\"13\\n\\nC           -2.22019728362992        0.00543858919789       -0.00046761516879\\nC           -1.52632624573980        1.20567373093279        0.00044756478189\\nC           -0.14458018213581        1.20950754265927        0.00080119925726\\nC            0.54689181744810       -0.00219854981591        0.00026170233371\\nC           -0.15125517567086       -1.21007209388778       -0.00055805013950\\nC           -1.53295838328044       -1.19860756213880       -0.00094183538240\\nC            1.96131702454153       -0.00612196712269        0.00044938200580\\nN            3.10768352079034       -0.00936959457425        0.00058537107125\\nH           -3.29999449152500        0.00841197818512       -0.00079044590000\\nH           -2.06491252616381        2.14153582452236        0.00087366765181\\nH            0.40637483345640        2.13852633569842        0.00150957802961\\nH            0.39456531546613       -2.14211526350434       -0.00095703564699\\nH           -2.07670672175687       -2.13147980455209       -0.00158383629366\",\"xyz\");\n\tviewergrid_17342754815840685[0][0].setStyle({\"stick\": {}, \"sphere\": {\"scale\": 0.25}});\n\tviewergrid_17342754815840685[0][1].setStyle({\"stick\": {}, \"sphere\": {\"scale\": 0.25}});\n\tviewergrid_17342754815840685[0][2].setStyle({\"stick\": {}, \"sphere\": {\"scale\": 0.25}});\n\tviewergrid_17342754815840685[0][0].setViewStyle({\"style\": \"outline\", \"width\": 0.05});\n\tviewergrid_17342754815840685[0][1].setViewStyle({\"style\": \"outline\", \"width\": 0.05});\n\tviewergrid_17342754815840685[0][2].setViewStyle({\"style\": \"outline\", \"width\": 0.05});\n\tviewergrid_17342754815840685[0][0].addLabel(\"RDKit Molecule\",{\"position\": {\"x\": -2, \"y\": -3, \"z\": 0}});\n\tviewergrid_17342754815840685[0][1].addLabel(\"RDKit Molecule MMFF94\",{\"position\": {\"x\": -4, \"y\": -3, \"z\": 0}});\n\tviewergrid_17342754815840685[0][2].addLabel(\"xTB Molecule\",{\"position\": {\"x\": -2, \"y\": -3, \"z\": 0}});\n\tviewergrid_17342754815840685[0][0].zoomTo();\n\tviewergrid_17342754815840685[0][1].zoomTo();\n\tviewergrid_17342754815840685[0][2].zoomTo();\nviewergrid_17342754815840685[0][2].render();\nviewergrid_17342754815840685[0][1].render();\nviewergrid_17342754815840685[0][0].render();\n});\n</script>",
      "text/html": [
       "<div id=\"3dmolviewer_17342754815840685\"  style=\"position: relative; width: 900px; height: 250px;\">\n",
       "        <p id=\"3dmolwarning_17342754815840685\" style=\"background-color:#ffcccc;color:black\">3Dmol.js failed to load for some reason.  Please check your browser console for error messages.<br></p>\n",
       "        </div>\n",
       "<script>\n",
       "\n",
       "var loadScriptAsync = function(uri){\n",
       "  return new Promise((resolve, reject) => {\n",
       "    //this is to ignore the existence of requirejs amd\n",
       "    var savedexports, savedmodule;\n",
       "    if (typeof exports !== 'undefined') savedexports = exports;\n",
       "    else exports = {}\n",
       "    if (typeof module !== 'undefined') savedmodule = module;\n",
       "    else module = {}\n",
       "\n",
       "    var tag = document.createElement('script');\n",
       "    tag.src = uri;\n",
       "    tag.async = true;\n",
       "    tag.onload = () => {\n",
       "        exports = savedexports;\n",
       "        module = savedmodule;\n",
       "        resolve();\n",
       "    };\n",
       "  var firstScriptTag = document.getElementsByTagName('script')[0];\n",
       "  firstScriptTag.parentNode.insertBefore(tag, firstScriptTag);\n",
       "});\n",
       "};\n",
       "\n",
       "if(typeof $3Dmolpromise === 'undefined') {\n",
       "$3Dmolpromise = null;\n",
       "  $3Dmolpromise = loadScriptAsync('https://cdnjs.cloudflare.com/ajax/libs/3Dmol/2.4.0/3Dmol-min.js');\n",
       "}\n",
       "\n",
       "var viewer_17342754815840685 = null;\n",
       "var warn = document.getElementById(\"3dmolwarning_17342754815840685\");\n",
       "if(warn) {\n",
       "    warn.parentNode.removeChild(warn);\n",
       "}\n",
       "$3Dmolpromise.then(function() {\n",
       "var viewergrid_17342754815840685 = null;\n",
       "viewergrid_17342754815840685 = $3Dmol.createViewerGrid(document.getElementById(\"3dmolviewer_17342754815840685\"),{rows: 1, cols: 3, control_all: true},{backgroundColor:\"white\"});\n",
       "viewer_17342754815840685 = viewergrid_17342754815840685[0][0];\n",
       "viewergrid_17342754815840685[0][0].zoomTo();viewergrid_17342754815840685[0][1].zoomTo();viewergrid_17342754815840685[0][2].zoomTo();\tviewergrid_17342754815840685[0][0].addModel(\"\\n     RDKit          3D\\n\\n 13 13  0  0  0  0  0  0  0  0999 V2000\\n   -1.7273   -0.0000   -0.0000 C   0  0  0  0  0  0  0  0  0  0  0  0\\n   -1.0311    1.2087    0.0000 C   0  0  0  0  0  0  0  0  0  0  0  0\\n    0.3651    1.2103    0.0000 C   0  0  0  0  0  0  0  0  0  0  0  0\\n    1.0673    0.0000    0.0000 C   0  0  0  0  0  0  0  0  0  0  0  0\\n    0.3651   -1.2103    0.0000 C   0  0  0  0  0  0  0  0  0  0  0  0\\n   -1.0311   -1.2087    0.0000 C   0  0  0  0  0  0  0  0  0  0  0  0\\n    2.5009    0.0000   -0.0000 C   0  0  0  0  0  0  0  0  0  0  0  0\\n    3.6616   -0.0000   -0.0000 N   0  0  0  0  0  0  0  0  0  0  0  0\\n   -2.8150    0.0000   -0.0000 H   0  0  0  0  0  0  0  0  0  0  0  0\\n   -1.5764    2.1496   -0.0000 H   0  0  0  0  0  0  0  0  0  0  0  0\\n    0.8987    2.1589    0.0000 H   0  0  0  0  0  0  0  0  0  0  0  0\\n    0.8987   -2.1589    0.0000 H   0  0  0  0  0  0  0  0  0  0  0  0\\n   -1.5764   -2.1496    0.0000 H   0  0  0  0  0  0  0  0  0  0  0  0\\n  1  2  2  0\\n  2  3  1  0\\n  3  4  2  0\\n  4  5  1  0\\n  5  6  2  0\\n  4  7  1  0\\n  7  8  3  0\\n  6  1  1  0\\n  1  9  1  0\\n  2 10  1  0\\n  3 11  1  0\\n  5 12  1  0\\n  6 13  1  0\\nM  END\\n\",\"mol\");\n",
       "\tviewergrid_17342754815840685[0][1].addModel(\"\\n     RDKit          3D\\n\\n 13 13  0  0  0  0  0  0  0  0999 V2000\\n   -1.7273   -0.0000   -0.0000 C   0  0  0  0  0  0  0  0  0  0  0  0\\n   -1.0311    1.2087    0.0000 C   0  0  0  0  0  0  0  0  0  0  0  0\\n    0.3651    1.2103    0.0000 C   0  0  0  0  0  0  0  0  0  0  0  0\\n    1.0673    0.0000    0.0000 C   0  0  0  0  0  0  0  0  0  0  0  0\\n    0.3651   -1.2103    0.0000 C   0  0  0  0  0  0  0  0  0  0  0  0\\n   -1.0311   -1.2087    0.0000 C   0  0  0  0  0  0  0  0  0  0  0  0\\n    2.5009    0.0000   -0.0000 C   0  0  0  0  0  0  0  0  0  0  0  0\\n    3.6616   -0.0000   -0.0000 N   0  0  0  0  0  0  0  0  0  0  0  0\\n   -2.8150    0.0000   -0.0000 H   0  0  0  0  0  0  0  0  0  0  0  0\\n   -1.5764    2.1496   -0.0000 H   0  0  0  0  0  0  0  0  0  0  0  0\\n    0.8987    2.1589    0.0000 H   0  0  0  0  0  0  0  0  0  0  0  0\\n    0.8987   -2.1589    0.0000 H   0  0  0  0  0  0  0  0  0  0  0  0\\n   -1.5764   -2.1496    0.0000 H   0  0  0  0  0  0  0  0  0  0  0  0\\n  1  2  2  0\\n  2  3  1  0\\n  3  4  2  0\\n  4  5  1  0\\n  5  6  2  0\\n  4  7  1  0\\n  7  8  3  0\\n  6  1  1  0\\n  1  9  1  0\\n  2 10  1  0\\n  3 11  1  0\\n  5 12  1  0\\n  6 13  1  0\\nM  END\\n\",\"mol\");\n",
       "\tviewergrid_17342754815840685[0][2].addModel(\"13\\n\\nC           -2.22019728362992        0.00543858919789       -0.00046761516879\\nC           -1.52632624573980        1.20567373093279        0.00044756478189\\nC           -0.14458018213581        1.20950754265927        0.00080119925726\\nC            0.54689181744810       -0.00219854981591        0.00026170233371\\nC           -0.15125517567086       -1.21007209388778       -0.00055805013950\\nC           -1.53295838328044       -1.19860756213880       -0.00094183538240\\nC            1.96131702454153       -0.00612196712269        0.00044938200580\\nN            3.10768352079034       -0.00936959457425        0.00058537107125\\nH           -3.29999449152500        0.00841197818512       -0.00079044590000\\nH           -2.06491252616381        2.14153582452236        0.00087366765181\\nH            0.40637483345640        2.13852633569842        0.00150957802961\\nH            0.39456531546613       -2.14211526350434       -0.00095703564699\\nH           -2.07670672175687       -2.13147980455209       -0.00158383629366\",\"xyz\");\n",
       "\tviewergrid_17342754815840685[0][0].setStyle({\"stick\": {}, \"sphere\": {\"scale\": 0.25}});\n",
       "\tviewergrid_17342754815840685[0][1].setStyle({\"stick\": {}, \"sphere\": {\"scale\": 0.25}});\n",
       "\tviewergrid_17342754815840685[0][2].setStyle({\"stick\": {}, \"sphere\": {\"scale\": 0.25}});\n",
       "\tviewergrid_17342754815840685[0][0].setViewStyle({\"style\": \"outline\", \"width\": 0.05});\n",
       "\tviewergrid_17342754815840685[0][1].setViewStyle({\"style\": \"outline\", \"width\": 0.05});\n",
       "\tviewergrid_17342754815840685[0][2].setViewStyle({\"style\": \"outline\", \"width\": 0.05});\n",
       "\tviewergrid_17342754815840685[0][0].addLabel(\"RDKit Molecule\",{\"position\": {\"x\": -2, \"y\": -3, \"z\": 0}});\n",
       "\tviewergrid_17342754815840685[0][1].addLabel(\"RDKit Molecule MMFF94\",{\"position\": {\"x\": -4, \"y\": -3, \"z\": 0}});\n",
       "\tviewergrid_17342754815840685[0][2].addLabel(\"xTB Molecule\",{\"position\": {\"x\": -2, \"y\": -3, \"z\": 0}});\n",
       "\tviewergrid_17342754815840685[0][0].zoomTo();\n",
       "\tviewergrid_17342754815840685[0][1].zoomTo();\n",
       "\tviewergrid_17342754815840685[0][2].zoomTo();\n",
       "viewergrid_17342754815840685[0][2].render();\n",
       "viewergrid_17342754815840685[0][1].render();\n",
       "viewergrid_17342754815840685[0][0].render();\n",
       "});\n",
       "</script>"
      ]
     },
     "metadata": {},
     "output_type": "display_data"
    },
    {
     "name": "stdout",
     "output_type": "stream",
     "text": [
      "Temps d'exécution : 0.00 secondes\n"
     ]
    }
   ],
   "source": [
    "# Create the viewer object\n",
    "viewer = py3Dmol.view(viewergrid=(1, 3), width=300*3, height=250, linked=True)\n",
    "\n",
    "# Add the molecules to the viewer\n",
    "viewer.addModel(Chem.MolToMolBlock(mol_rdkitNop3D), 'mol', viewer=(0, 0))\n",
    "viewer.addModel(Chem.MolToMolBlock(mol_rdkitOp3D), 'mol', viewer=(0, 1))\n",
    "viewer.addModel(mol_xtb_xyz, \"xyz\", viewer=(0, 2))\n",
    "\n",
    "# Set the view style\n",
    "viewer.setStyle({\"stick\": {}, \"sphere\": {\"scale\": 0.25}})\n",
    "viewer.setViewStyle({\"style\": \"outline\", \"width\": 0.05})\n",
    "\n",
    "# Add legends for each molecule\n",
    "viewer.addLabel('RDKit Molecule', {'position': {'x': -2, 'y': -3, 'z': 0}}, viewer=(0, 0))\n",
    "viewer.addLabel('RDKit Molecule MMFF94', {'position': {'x': -4, 'y': -3, 'z': 0}}, viewer=(0, 1))\n",
    "viewer.addLabel('xTB Molecule', {'position': {'x': -2, 'y': -3, 'z': 0}}, viewer=(0, 2))\n",
    "\n",
    "# Adjust the zoom level\n",
    "viewer.zoomTo()\n",
    "\n",
    "# Display the viewer\n",
    "viewer.show()"
   ]
  },
  {
   "cell_type": "markdown",
   "id": "081141c1-3e6b-4ee8-98d5-bcc4570da056",
   "metadata": {},
   "source": [
    "### Extraction du gap HOMO-LUMO\n",
    "\n",
    "\n",
    "### Gap HOMO-LUMO et gap énergétique\n",
    "\n"
   ]
  },
  {
   "cell_type": "code",
   "execution_count": 37,
   "id": "c582561a-1e02-47e0-8a14-e7a5772e8936",
   "metadata": {},
   "outputs": [
    {
     "name": "stdout",
     "output_type": "stream",
     "text": [
      "Temps d'exécution : 0.00 secondes\n"
     ]
    }
   ],
   "source": [
    "#---------------------------------------------------------------------\n",
    "# Extract the total energy and Homo-lumo gap from the xtb output file\n",
    "#---------------------------------------------------------------------\n",
    "# Find TOTAL ENERGY value\n",
    "tot_energy_line = [li for li in path_xtb_logOp.read_text().splitlines() if 'TOTAL ENERGY' in li]\n",
    "tot_energy_line = tot_energy_line[0].split()\n",
    "tot_energy_xtb = float(tot_energy_line[3])\n",
    "\n",
    "# Find HOMO-LUMO GAP value\n",
    "HL_gap_line = [li for li in path_xtb_logOp.read_text().splitlines() if 'HOMO-LUMO GAP' in li]\n",
    "HL_gap_line = HL_gap_line[0].split()\n",
    "HL_gap_xtb = float(HL_gap_line[3])\n",
    "\n",
    "# Find HOMO index\n",
    "Homo_idx_line = [li for li in path_xtb_logOp.read_text().splitlines() if '(HOMO)' in li]\n",
    "Homo_idx_line = Homo_idx_line[0].split()\n",
    "Homo_idx_xtb = int(Homo_idx_line[0])\n",
    "\n",
    "# Find LUMO index\n",
    "Lumo_idx_line = [li for li in path_xtb_logOp.read_text().splitlines() if '(LUMO)' in li]\n",
    "Lumo_idx_line = Lumo_idx_line[0].split()\n",
    "Lumo_idx_xtb = int(Lumo_idx_line[0])"
   ]
  },
  {
   "cell_type": "code",
   "execution_count": 38,
   "id": "6b60c39c-3a3d-47bc-85eb-ce743a389fdd",
   "metadata": {},
   "outputs": [
    {
     "data": {
      "text/html": [
       "<div>\n",
       "<style scoped>\n",
       "    .dataframe tbody tr th:only-of-type {\n",
       "        vertical-align: middle;\n",
       "    }\n",
       "\n",
       "    .dataframe tbody tr th {\n",
       "        vertical-align: top;\n",
       "    }\n",
       "\n",
       "    .dataframe thead th {\n",
       "        text-align: right;\n",
       "    }\n",
       "</style>\n",
       "<table border=\"1\" class=\"dataframe\">\n",
       "  <thead>\n",
       "    <tr style=\"text-align: right;\">\n",
       "      <th></th>\n",
       "      <th>xtb calc</th>\n",
       "    </tr>\n",
       "  </thead>\n",
       "  <tbody>\n",
       "    <tr>\n",
       "      <th>HOMO-LUMO GAP (eV)</th>\n",
       "      <td>3.975865</td>\n",
       "    </tr>\n",
       "    <tr>\n",
       "      <th>TOTAL ENERGY (a.u.)</th>\n",
       "      <td>-20.399826</td>\n",
       "    </tr>\n",
       "    <tr>\n",
       "      <th>HOMO Index</th>\n",
       "      <td>19.000000</td>\n",
       "    </tr>\n",
       "    <tr>\n",
       "      <th>LUMO Index</th>\n",
       "      <td>20.000000</td>\n",
       "    </tr>\n",
       "  </tbody>\n",
       "</table>\n",
       "</div>"
      ],
      "text/plain": [
       "                      xtb calc\n",
       "HOMO-LUMO GAP (eV)    3.975865\n",
       "TOTAL ENERGY (a.u.) -20.399826\n",
       "HOMO Index           19.000000\n",
       "LUMO Index           20.000000"
      ]
     },
     "execution_count": 38,
     "metadata": {},
     "output_type": "execute_result"
    },
    {
     "name": "stdout",
     "output_type": "stream",
     "text": [
      "Temps d'exécution : 0.16 secondes\n"
     ]
    }
   ],
   "source": [
    "import pandas as pd\n",
    "\n",
    "# Create the xtb results dataframe\n",
    "df_xtb = pd.DataFrame({'xtb calc':[HL_gap_xtb, tot_energy_xtb, Homo_idx_xtb, Lumo_idx_xtb]}, \n",
    "index=[\"HOMO-LUMO GAP (eV)\",\"TOTAL ENERGY (a.u.)\", \"HOMO Index\", \"LUMO Index\"])\n",
    "\n",
    "# Save the xtb results dataframe to a file\n",
    "with open(path_xtb_csv, \"w\") as f:\n",
    "    f.write(f\"\\n\\nxtb calculations of {smi_key}  \\n\")\n",
    "    df_xtb.to_csv(f)\n",
    "    \n",
    "df_xtb"
   ]
  },
  {
   "cell_type": "markdown",
   "id": "1e5d8e1b-0546-4623-a530-782edf762fbd",
   "metadata": {},
   "source": [
    "*  **0 eV ≤ HOMO-LUMO GAP ≤ 5 eV** ce résultat de calcul xtb montre que la molécule peut etre considerer comme un **semi-conducteur** et est favorable à l'émission de la lumière visible, respectivement du bleu au rouge."
   ]
  },
  {
   "cell_type": "markdown",
   "id": "9cc17956-6a26-4564-bdab-e3762dbe1cb8",
   "metadata": {},
   "source": [
    "### Calcul du champ moyen HF\n",
    "\n",
    "A l'issue de ce calcul, nous avons l'énergie de référence SCF. \n",
    "\n",
    "#### Choix de l'ensemble de base \n",
    "\n",
    "Nous allons d'abord effectuer le choix de l'ensemble de base nous donnant le meilleur compromis précision de la valeur de l'énergie et temps de calculs."
   ]
  },
  {
   "cell_type": "code",
   "execution_count": 39,
   "id": "ba89b64a-2c48-434c-b285-4c71b174c19d",
   "metadata": {},
   "outputs": [
    {
     "name": "stdout",
     "output_type": "stream",
     "text": [
      "Temps d'exécution : 0.14 secondes\n"
     ]
    }
   ],
   "source": [
    "import time, datetime\n",
    "\n",
    "from pyscf import gto, scf \n"
   ]
  },
  {
   "cell_type": "code",
   "execution_count": 40,
   "id": "21540681-fb74-4c55-9fa2-718d768fbd17",
   "metadata": {},
   "outputs": [
    {
     "name": "stdout",
     "output_type": "stream",
     "text": [
      "Temps d'exécution : 0.00 secondes\n"
     ]
    }
   ],
   "source": [
    "\n",
    "# Convert mol_rdkit object to Pyscf Mol objects\n",
    "mol_xyz = '\\n'.join(mol_xtb_xyz.strip().split('\\n')[2:])\n",
    "\n",
    "mol_pyscf = gto.Mole(\n",
    "    atom=mol_xyz,\n",
    "    charge=0,\n",
    "    spin = 0,\n",
    "    symmetry = True,\n",
    "    unit = 'Angstrom')"
   ]
  },
  {
   "cell_type": "code",
   "execution_count": 41,
   "id": "aeb83cd3-7c9f-48c8-8186-2cd6b6617730",
   "metadata": {},
   "outputs": [
    {
     "name": "stdout",
     "output_type": "stream",
     "text": [
      "Temps d'exécution : 0.00 secondes\n"
     ]
    }
   ],
   "source": [
    "basis_sets = [\n",
    "    \"6-31G\",            # Double zeta with 6 Gaussian primitives\n",
    "    \"6-31G*\",           # Double zeta with 6 Gaussian primitives\n",
    "    \"6-31G(d,p)\",       # Double zeta with 6 Gaussian primitives with polarization functions and diffuse functions\n",
    "    \"6-311G(d,p)\",      # Triple zeta with polarization functions\n",
    "    \"def2-SVP\",         # Double zeta with polarization functions\n",
    "    \"def2-SVPD\",        # Double zeta with polarization functions and diffuse functions\n",
    "    \"def2-TZVP\",        # Triple zeta with polarization functions\n",
    "    \"def2-TZVPD\",       # Triple zeta with polarization functions and diffuse functions\n",
    "    \"def2-TZVPP\"        # Triple zeta with polarization functions and diffuse functions\n",
    "]"
   ]
  },
  {
   "cell_type": "code",
   "execution_count": 42,
   "id": "c7975506-432c-4dce-921d-bf151d957545",
   "metadata": {},
   "outputs": [
    {
     "name": "stdout",
     "output_type": "stream",
     "text": [
      "converged SCF energy = -322.312472010205\n",
      "converged SCF energy = -322.436606708004\n",
      "converged SCF energy = -322.445916780452\n",
      "converged SCF energy = -322.506106308457\n",
      "converged SCF energy = -322.193673644122\n",
      "converged SCF energy = -322.200561402191\n",
      "converged SCF energy = -322.550637435183\n",
      "converged SCF energy = -322.551109001143\n",
      "converged SCF energy = -322.552447471274\n",
      "Temps d'exécution : 251.33 secondes\n"
     ]
    }
   ],
   "source": [
    "# To write output results of mf.analysis on a file\n",
    "# path_HF_basis_log = working_dir / f'{smi_key}_HF_basis.log'\n",
    "# mol_pyscf.output = path_HF_basis_log\n",
    "\n",
    "mf_energies = list()\n",
    "mf_times = list()\n",
    "nb_prim = list()\n",
    "\n",
    "# Perform a Mean-Field calculation for each basis set\n",
    "for bs in basis_sets:\n",
    "\n",
    "    # Measure execution time\n",
    "    start = time.time()\n",
    "    mol_pyscf.basis = bs\n",
    "    mol_pyscf.build()\n",
    "\n",
    "    mf = scf.RHF(mol_pyscf) # Create a PySCF HF mean-field object\n",
    "    mf.x2c().density_fit() # To speed up calculations\n",
    "    mf.kernel()\n",
    "    end = time.time()\n",
    "\n",
    "    nb_prim.append(mol_pyscf.npgto_nr())\n",
    "    mf_energies.append(mf.e_tot)\n",
    "    mf_times.append(end-start)"
   ]
  },
  {
   "cell_type": "code",
   "execution_count": 43,
   "id": "803bfcaf-29ec-4ab4-af72-e327fb7ebe6e",
   "metadata": {},
   "outputs": [
    {
     "data": {
      "text/html": [
       "<div>\n",
       "<style scoped>\n",
       "    .dataframe tbody tr th:only-of-type {\n",
       "        vertical-align: middle;\n",
       "    }\n",
       "\n",
       "    .dataframe tbody tr th {\n",
       "        vertical-align: top;\n",
       "    }\n",
       "\n",
       "    .dataframe thead th {\n",
       "        text-align: right;\n",
       "    }\n",
       "</style>\n",
       "<table border=\"1\" class=\"dataframe\">\n",
       "  <thead>\n",
       "    <tr style=\"text-align: right;\">\n",
       "      <th></th>\n",
       "      <th>Basis</th>\n",
       "      <th>Nb of GTO primitives</th>\n",
       "      <th>Total energy (a.u.)</th>\n",
       "      <th>Time (s)</th>\n",
       "    </tr>\n",
       "  </thead>\n",
       "  <tbody>\n",
       "    <tr>\n",
       "      <th>0</th>\n",
       "      <td>6-31G</td>\n",
       "      <td>196</td>\n",
       "      <td>-322.312472</td>\n",
       "      <td>0.418904</td>\n",
       "    </tr>\n",
       "    <tr>\n",
       "      <th>1</th>\n",
       "      <td>6-31G*</td>\n",
       "      <td>236</td>\n",
       "      <td>-322.436607</td>\n",
       "      <td>1.000171</td>\n",
       "    </tr>\n",
       "    <tr>\n",
       "      <th>2</th>\n",
       "      <td>6-31G(d,p)</td>\n",
       "      <td>251</td>\n",
       "      <td>-322.445917</td>\n",
       "      <td>1.180377</td>\n",
       "    </tr>\n",
       "    <tr>\n",
       "      <th>3</th>\n",
       "      <td>6-311G(d,p)</td>\n",
       "      <td>288</td>\n",
       "      <td>-322.506106</td>\n",
       "      <td>1.937916</td>\n",
       "    </tr>\n",
       "    <tr>\n",
       "      <th>4</th>\n",
       "      <td>def2-SVP</td>\n",
       "      <td>227</td>\n",
       "      <td>-322.193674</td>\n",
       "      <td>0.844756</td>\n",
       "    </tr>\n",
       "    <tr>\n",
       "      <th>5</th>\n",
       "      <td>def2-SVPD</td>\n",
       "      <td>290</td>\n",
       "      <td>-322.200561</td>\n",
       "      <td>3.000678</td>\n",
       "    </tr>\n",
       "    <tr>\n",
       "      <th>6</th>\n",
       "      <td>def2-TZVP</td>\n",
       "      <td>408</td>\n",
       "      <td>-322.550637</td>\n",
       "      <td>49.433629</td>\n",
       "    </tr>\n",
       "    <tr>\n",
       "      <th>7</th>\n",
       "      <td>def2-TZVPD</td>\n",
       "      <td>471</td>\n",
       "      <td>-322.551109</td>\n",
       "      <td>107.949364</td>\n",
       "    </tr>\n",
       "    <tr>\n",
       "      <th>8</th>\n",
       "      <td>def2-TZVPP</td>\n",
       "      <td>448</td>\n",
       "      <td>-322.552447</td>\n",
       "      <td>85.560688</td>\n",
       "    </tr>\n",
       "  </tbody>\n",
       "</table>\n",
       "</div>"
      ],
      "text/plain": [
       "         Basis  Nb of GTO primitives  Total energy (a.u.)    Time (s)\n",
       "0        6-31G                   196          -322.312472    0.418904\n",
       "1       6-31G*                   236          -322.436607    1.000171\n",
       "2   6-31G(d,p)                   251          -322.445917    1.180377\n",
       "3  6-311G(d,p)                   288          -322.506106    1.937916\n",
       "4     def2-SVP                   227          -322.193674    0.844756\n",
       "5    def2-SVPD                   290          -322.200561    3.000678\n",
       "6    def2-TZVP                   408          -322.550637   49.433629\n",
       "7   def2-TZVPD                   471          -322.551109  107.949364\n",
       "8   def2-TZVPP                   448          -322.552447   85.560688"
      ]
     },
     "execution_count": 43,
     "metadata": {},
     "output_type": "execute_result"
    },
    {
     "name": "stdout",
     "output_type": "stream",
     "text": [
      "Temps d'exécution : 0.01 secondes\n"
     ]
    }
   ],
   "source": [
    "# Create the results dataframe\n",
    "\n",
    "df_HF = pd.DataFrame({\"Basis\":basis_sets, \n",
    "                      'Nb of GTO primitives':nb_prim, \n",
    "                      'Total energy (a.u.)':mf_energies,\n",
    "                      \"Time (s)\":mf_times})\n",
    "\n",
    "df_HF\n"
   ]
  },
  {
   "cell_type": "code",
   "execution_count": 44,
   "id": "107e63c8-1524-43c7-977c-f4cb429930eb",
   "metadata": {},
   "outputs": [
    {
     "data": {
      "image/png": "[encoded data removed]",
      "text/plain": [
       "<Figure size 800x500 with 2 Axes>"
      ]
     },
     "metadata": {},
     "output_type": "display_data"
    },
    {
     "name": "stdout",
     "output_type": "stream",
     "text": [
      "Temps d'exécution : 0.40 secondes\n"
     ]
    }
   ],
   "source": [
    "import matplotlib.pyplot as plt\n",
    "\n",
    "# Create the matplotlib figure\n",
    "fig, ax = plt.subplots(figsize=(8,5))\n",
    "\n",
    "# Plot the energies.\n",
    "ax.set_xticks(range(len(basis_sets)), basis_sets, rotation=45)\n",
    "ax.set_xlabel(\"Basis set\")\n",
    "ax.set_ylabel(\"Energy / Hartree\", color=\"b\")\n",
    "ax.scatter(range(len(basis_sets)), mf_energies, marker=\"o\", s=50, color=\"b\")\n",
    "\n",
    "# Plot the time to solution\n",
    "ax_time = ax.twinx()\n",
    "ax_time.scatter(range(len(basis_sets)), mf_times, marker=\"s\", s=50, color=\"r\")\n",
    "ax_time.set_ylabel(\"Time to solution / s\", color=\"r\", rotation=270, va=\"bottom\")\n",
    "\n",
    "# Show the graph\n",
    "plt.tick_params(axis=\"both\", direction=\"in\")\n",
    "plt.show()"
   ]
  },
  {
   "cell_type": "code",
   "execution_count": 45,
   "id": "01fbf0c5-ab63-4471-843c-1c27d4389320",
   "metadata": {},
   "outputs": [
    {
     "name": "stdout",
     "output_type": "stream",
     "text": [
      "Le nombre total d'électrons est 54 et le nombre total d'électrons (alpha, béta) est (27, 27)\n",
      "Le nombre d'orbitales atomiques, dans la base def2-TZVPP, est 318\n",
      "L'énergie nucléaire vaut 301.87493059384036 Hartrees\n",
      "Temps d'exécution : 0.00 secondes\n"
     ]
    }
   ],
   "source": [
    "print(f'Le nombre total d\\'électrons est {mol_pyscf.nelectron} et le nombre total d\\'électrons (alpha, béta) est {mol_pyscf.nelec}')\n",
    "print(f'Le nombre d\\'orbitales atomiques, dans la base {mol_pyscf.basis}, est {mol_pyscf.nao_nr()}')\n",
    "print(f'L\\'énergie nucléaire vaut {mol_pyscf.energy_nuc()} Hartrees')"
   ]
  },
  {
   "cell_type": "markdown",
   "id": "54042d8d-1c67-42da-ab0e-0c1bf5cbec89",
   "metadata": {},
   "source": [
    "## Calculons l'energie Hartree-Fock (HF)"
   ]
  },
  {
   "cell_type": "code",
   "execution_count": 46,
   "id": "5862bcaa-e161-45bc-9b7c-5e35532e04f0",
   "metadata": {},
   "outputs": [
    {
     "name": "stdout",
     "output_type": "stream",
     "text": [
      "Temps d'exécution : 0.00 secondes\n"
     ]
    }
   ],
   "source": [
    "from pyscf import scf"
   ]
  },
  {
   "cell_type": "code",
   "execution_count": 47,
   "id": "12ad0d2b-9771-49ae-a925-97e520c9bc9b",
   "metadata": {},
   "outputs": [
    {
     "name": "stdout",
     "output_type": "stream",
     "text": [
      "converged SCF energy = -322.552447471276\n",
      "Énergie totale HF : -322.55244747127557\n",
      "Temps de calcul HF : 84.58392643928528 secondes\n",
      "Temps d'exécution : 84.58 secondes\n"
     ]
    }
   ],
   "source": [
    "import time\n",
    "start_hf = time.time()\n",
    "myhf = scf.RHF(mol_pyscf).run()\n",
    "hf_energy = myhf.e_tot\n",
    "hf_time = time.time() - start_hf\n",
    "\n",
    "print(\"Énergie totale HF :\", hf_energy)\n",
    "print(\"Temps de calcul HF :\", hf_time, \"secondes\")\n"
   ]
  },
  {
   "cell_type": "code",
   "execution_count": 48,
   "id": "2f095976-88b8-4043-a9cc-3707dd24ee88",
   "metadata": {},
   "outputs": [
    {
     "data": {
      "text/plain": [
       "array([2., 2., 2., 2., 2., 2., 2., 2., 2., 2., 2., 2., 2., 2., 2., 2., 2.,\n",
       "       2., 2., 2., 2., 2., 2., 2., 2., 2., 2., 0., 0., 0., 0., 0., 0., 0.,\n",
       "       0., 0., 0., 0., 0., 0., 0., 0., 0., 0., 0., 0., 0., 0., 0., 0., 0.,\n",
       "       0., 0., 0., 0., 0., 0., 0., 0., 0., 0., 0., 0., 0., 0., 0., 0., 0.,\n",
       "       0., 0., 0., 0., 0., 0., 0., 0., 0., 0., 0., 0., 0., 0., 0., 0., 0.,\n",
       "       0., 0., 0., 0., 0., 0., 0., 0., 0., 0., 0., 0., 0., 0., 0., 0., 0.,\n",
       "       0., 0., 0., 0., 0., 0., 0., 0., 0., 0., 0., 0., 0., 0., 0., 0., 0.,\n",
       "       0., 0., 0., 0., 0., 0., 0., 0., 0., 0., 0., 0., 0., 0., 0., 0., 0.,\n",
       "       0., 0., 0., 0., 0., 0., 0., 0., 0., 0., 0., 0., 0., 0., 0., 0., 0.,\n",
       "       0., 0., 0., 0., 0., 0., 0., 0., 0., 0., 0., 0., 0., 0., 0., 0., 0.,\n",
       "       0., 0., 0., 0., 0., 0., 0., 0., 0., 0., 0., 0., 0., 0., 0., 0., 0.,\n",
       "       0., 0., 0., 0., 0., 0., 0., 0., 0., 0., 0., 0., 0., 0., 0., 0., 0.,\n",
       "       0., 0., 0., 0., 0., 0., 0., 0., 0., 0., 0., 0., 0., 0., 0., 0., 0.,\n",
       "       0., 0., 0., 0., 0., 0., 0., 0., 0., 0., 0., 0., 0., 0., 0., 0., 0.,\n",
       "       0., 0., 0., 0., 0., 0., 0., 0., 0., 0., 0., 0., 0., 0., 0., 0., 0.,\n",
       "       0., 0., 0., 0., 0., 0., 0., 0., 0., 0., 0., 0., 0., 0., 0., 0., 0.,\n",
       "       0., 0., 0., 0., 0., 0., 0., 0., 0., 0., 0., 0., 0., 0., 0., 0., 0.,\n",
       "       0., 0., 0., 0., 0., 0., 0., 0., 0., 0., 0., 0., 0., 0., 0., 0., 0.,\n",
       "       0., 0., 0., 0., 0., 0., 0., 0., 0., 0., 0., 0.])"
      ]
     },
     "execution_count": 48,
     "metadata": {},
     "output_type": "execute_result"
    },
    {
     "name": "stdout",
     "output_type": "stream",
     "text": [
      "Temps d'exécution : 0.01 secondes\n"
     ]
    }
   ],
   "source": [
    "myhf.mo_occ #- Occupation MO (vecteur de longueur égale au nombre de MO)"
   ]
  },
  {
   "cell_type": "code",
   "execution_count": 49,
   "id": "04f1d007-3d3c-45fc-9d88-7a272d3a3a7f",
   "metadata": {},
   "outputs": [
    {
     "name": "stdout",
     "output_type": "stream",
     "text": [
      "Les indexes du (HOMO,LUMO) sont (26, 27)\n",
      "Temps d'exécution : 0.00 secondes\n"
     ]
    }
   ],
   "source": [
    "lumo_idx = myhf.mo_occ.tolist().index(0.)\n",
    "homo_idx = lumo_idx - 1\n",
    "print(f'Les indexes du (HOMO,LUMO) sont {homo_idx,lumo_idx}')"
   ]
  },
  {
   "cell_type": "markdown",
   "id": "d0cfc28e-05f0-4dc0-bf92-f5f481bfbe70",
   "metadata": {},
   "source": [
    "##   Calcul DFT"
   ]
  },
  {
   "cell_type": "code",
   "execution_count": 50,
   "id": "7508ae6f-a02d-412d-be66-68b0349a5f08",
   "metadata": {},
   "outputs": [
    {
     "name": "stdout",
     "output_type": "stream",
     "text": [
      "Temps d'exécution : 0.00 secondes\n"
     ]
    }
   ],
   "source": [
    "from pyscf import dft"
   ]
  },
  {
   "cell_type": "code",
   "execution_count": 51,
   "id": "7643bb85-47f7-447c-aaaf-1b389228dd9a",
   "metadata": {},
   "outputs": [
    {
     "name": "stderr",
     "output_type": "stream",
     "text": [
      "/home/marshall/anaconda3/lib/python3.11/site-packages/pyscf/dft/libxc.py:507: UserWarning: Since PySCF-2.3, B3LYP (and B3P86) are changed to the VWN-RPA variant, corresponding to the original definition by Stephens et al. (issue 1480) and the same as the B3LYP functional in Gaussian. To restore the VWN5 definition, you can put the setting \"B3LYP_WITH_VWN5 = True\" in pyscf_conf.py\n",
      "  warnings.warn('Since PySCF-2.3, B3LYP (and B3P86) are changed to the VWN-RPA variant, '\n"
     ]
    },
    {
     "name": "stdout",
     "output_type": "stream",
     "text": [
      "converged SCF energy = -324.616304196582\n",
      "Énergie totale DFT : -324.61630419658223\n",
      "Temps d'exécution : 101.59 secondes\n"
     ]
    }
   ],
   "source": [
    "myks = dft.RKS(mol_pyscf, xc=\"B3LYP\").run()\n",
    "\n",
    "print(\"Énergie totale DFT :\", myks.e_tot)"
   ]
  },
  {
   "cell_type": "code",
   "execution_count": null,
   "id": "60485b90-4957-4df2-9ce3-55dbbca3d28c",
   "metadata": {},
   "outputs": [],
   "source": []
  }
 ],
 "metadata": {
  "kernelspec": {
   "display_name": "Python 3 (ipykernel)",
   "language": "python",
   "name": "python3"
  },
  "language_info": {
   "codemirror_mode": {
    "name": "ipython",
    "version": 3
   },
   "file_extension": ".py",
   "mimetype": "text/x-python",
   "name": "python",
   "nbconvert_exporter": "python",
   "pygments_lexer": "ipython3",
   "version": "3.11.7"
  }
 },
 "nbformat": 4,
 "nbformat_minor": 5
}
