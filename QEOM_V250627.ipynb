{
 "cells": [
  {
   "cell_type": "markdown",
   "id": "2cfe881c-4ce3-46ca-afbb-1aa5f7c13017",
   "metadata": {},
   "source": [
    "# QEOM FOR EXCITATED STATE"
   ]
  },
  {
   "cell_type": "markdown",
   "id": "b898fbc0-8a03-45ae-86c8-c394dcada6fb",
   "metadata": {},
   "source": [
    "**FRANKLIN MARSHALL FENGA**, franklin.fenga@facsciences-uy1.cm\n",
    " * Department of Physics, Faculty of Science, University of Yaoundé I\n",
    "MAY 2025"
   ]
  },
  {
   "cell_type": "markdown",
   "id": "15db0b35-d21a-462d-a7b2-d6e9dcfd6e4f",
   "metadata": {},
   "source": [
    "Dans ce tutoriel nous allons utiliser le framework Qiskit Nature pour calculer les états excités d'un hamiltonien moléculaire grace a l'algorithme QEOM"
   ]
  },
  {
   "cell_type": "markdown",
   "id": "a1190e45-e620-4345-969a-c60dca8b55fe",
   "metadata": {},
   "source": [
    "### 1-Definition du systeme moléculaire"
   ]
  },
  {
   "cell_type": "code",
   "execution_count": 1,
   "id": "770ca17c-b21a-494b-9009-ec04d423ece3",
   "metadata": {},
   "outputs": [],
   "source": [
    "from qiskit_nature.units import DistanceUnit\n",
    "from qiskit_nature.second_q.drivers import PySCFDriver\n",
    "\n",
    "driver = PySCFDriver(\n",
    "    atom='''B          -0.00002848963418     -1.15089005418998      0.00016113270838;\n",
    "  N           1.24628355615415     -0.22884255040594     -0.00032994510798\n",
    "  C           2.51745042824961     -0.60715041985320     -0.00064569936074\n",
    "  C           3.35671239812905      0.51654146924625     -0.00052079957307\n",
    "  C           2.54037793161755      1.62398516944414     -0.00013805075806\n",
    "  C           1.20546941710636      1.15032653512556      0.00001381303227\n",
    "  C           0.00015028019153      1.83313000747664      0.00028934441484\n",
    "  C          -1.20523986952894      1.15048011225376      0.00002650229130\n",
    "  N          -1.24626151204959     -0.22869309008470     -0.00037830061901\n",
    "  C          -2.51747249607168     -0.60680078410643     -0.00069375055086\n",
    "  C          -3.35657824829988      0.51701367663738     -0.00061936465198\n",
    "  C          -2.54008394445905      1.62434136967149     -0.00007057651575\n",
    "  F          -0.00015536669053     -1.93677224583554      1.13011565513023\n",
    "  F          -0.00010413212706     -1.93816381300654     -1.12878925681292\n",
    "  H           2.78195124423350     -1.64731286931933     -0.00083463718238\n",
    "  H           4.42840772821246      0.49534087232951     -0.00078806335277\n",
    "  H           2.83086013169733      2.65620590820171      0.00003376608240\n",
    "  H           0.00024034132861      2.91275288433914      0.00059798743003\n",
    "  H          -2.78213040743672     -1.64692355787547     -0.00108206380011\n",
    "  H          -4.42827652681541      0.49597159240337     -0.00066016476491\n",
    "  H          -2.83042279920712      2.65660045034817     -0.00018580863891''',\n",
    "    basis=\"sto3g\",\n",
    "    charge=0,\n",
    "    spin=0,\n",
    "    unit=DistanceUnit.ANGSTROM,\n",
    ")\n",
    "es_problem= driver.run()"
   ]
  },
  {
   "cell_type": "code",
   "execution_count": 2,
   "id": "67704243-f9f2-4af3-8292-01bed3c4f2c1",
   "metadata": {},
   "outputs": [
    {
     "name": "stdout",
     "output_type": "stream",
     "text": [
      "Molecule, basis: sto3g, Hartree-Fock calculation\n",
      "Number of alpha electrons: 49\n",
      "Number of beta electrons: 49\n",
      "Number of spin orbitals: 154\n",
      "Spin orbitals occupation: [1. 1. 1. 1. 1. 1. 1. 1. 1. 1. 1. 1. 1. 1. 1. 1. 1. 1. 1. 1. 1. 1. 1. 1.\n",
      " 1. 1. 1. 1. 1. 1. 1. 1. 1. 1. 1. 1. 1. 1. 1. 1. 1. 1. 1. 1. 1. 1. 1. 1.\n",
      " 1. 0. 0. 0. 0. 0. 0. 0. 0. 0. 0. 0. 0. 0. 0. 0. 0. 0. 0. 0. 0. 0. 0. 0.\n",
      " 0. 0. 0. 0. 0.]\n",
      "Spin orbitals energies: [-25.80017529 -25.79996277 -15.40110151 -15.40100953 -11.12801908\n",
      " -11.09848348 -11.09847251 -11.07059077 -11.07050179 -11.05223935\n",
      " -11.0522328  -11.02363094 -11.02362583  -7.45266105  -1.41904737\n",
      "  -1.3770376   -1.2674361   -1.24697702  -1.05344913  -1.01847788\n",
      "  -1.00461301  -0.93721018  -0.86161648  -0.76855211  -0.74887273\n",
      "  -0.74251599  -0.73711592  -0.68543082  -0.66139739  -0.59433611\n",
      "  -0.57612522  -0.56087973  -0.55591712  -0.54162582  -0.53059202\n",
      "  -0.52932446  -0.5148049   -0.50156666  -0.48684722  -0.48302422\n",
      "  -0.47081856  -0.38176598  -0.36596316  -0.36584875  -0.35909972\n",
      "  -0.3544715   -0.3046158   -0.30418221  -0.22229961   0.09638698\n",
      "   0.30129215   0.34993545   0.37515064   0.44159552   0.54202961\n",
      "   0.59140057   0.5924349    0.62230564   0.63585586   0.67576718\n",
      "   0.67860695   0.688497     0.71054455   0.72814529   0.75696779\n",
      "   0.75995427   0.7767118    0.80243562   0.82085066   0.84369675\n",
      "   0.85509829   0.94945676   0.97389127   1.05287608   1.0559069\n",
      "   1.1129332    1.13893048]\n",
      "Molecule reference (HF) total energy: -668.7752297159407 Ha\n",
      "Molecule nuclear repulsion energy: 866.7102449704742 Ha\n"
     ]
    }
   ],
   "source": [
    "# Quelques propriétés\n",
    "print(f\"Molecule, basis: {driver.basis}, Hartree-Fock calculation\")\n",
    "print(f\"Number of alpha electrons: {es_problem.num_alpha}\")\n",
    "print(f\"Number of beta electrons: {es_problem.num_beta}\")\n",
    "print(f\"Number of spin orbitals: {es_problem.num_spin_orbitals}\")\n",
    "print(f\"Spin orbitals occupation: {es_problem.orbital_occupations}\")\n",
    "print(f\"Spin orbitals energies: {es_problem.orbital_energies}\")\n",
    "print(f\"Molecule reference (HF) total energy: {es_problem.reference_energy} Ha\")\n",
    "print(f\"Molecule nuclear repulsion energy: {es_problem.nuclear_repulsion_energy} Ha\")\n"
   ]
  },
  {
   "cell_type": "code",
   "execution_count": 3,
   "id": "8990b763-6b1a-4cfb-bb98-8d4737471a6e",
   "metadata": {},
   "outputs": [
    {
     "name": "stdout",
     "output_type": "stream",
     "text": [
      "HOMO and LUMO index are (48, 49)\n",
      "HOMO and LUMO energies in eV are(-0.22229960569904508, 2.622823328958104)\n",
      "HOMO-LUMO gap in eV is 8.671903711728612\n"
     ]
    }
   ],
   "source": [
    "# Fermi Level and properties\n",
    "from pyscf.data import nist\n",
    "au2ev = nist.HARTREE2EV\n",
    "\n",
    "print(f\"HOMO and LUMO index are {es_problem.num_alpha-1, es_problem.num_alpha}\")\n",
    "print(f\"HOMO and LUMO energies in eV are\\\n",
    "{es_problem.orbital_energies[es_problem.num_alpha-1],es_problem.orbital_energies[es_problem.num_alpha] * au2ev}\")\n",
    "print(f\"HOMO-LUMO gap in eV is \\\n",
    "{abs(es_problem.orbital_energies[es_problem.num_alpha-1]-es_problem.orbital_energies[es_problem.num_alpha]) * au2ev}\")"
   ]
  },
  {
   "cell_type": "code",
   "execution_count": 4,
   "id": "c5c8a753-5ff3-454e-ade3-ba1f65b9b998",
   "metadata": {},
   "outputs": [
    {
     "data": {
      "text/plain": [
       "(49, 49)"
      ]
     },
     "execution_count": 4,
     "metadata": {},
     "output_type": "execute_result"
    }
   ],
   "source": [
    "es_problem.num_particles"
   ]
  },
  {
   "cell_type": "code",
   "execution_count": 5,
   "id": "ec486c31-f319-4a85-ad03-25a839c8d8e9",
   "metadata": {},
   "outputs": [
    {
     "data": {
      "text/plain": [
       "(2, 2)"
      ]
     },
     "execution_count": 5,
     "metadata": {},
     "output_type": "execute_result"
    }
   ],
   "source": [
    "# reduction de l'espace actif \n",
    "from qiskit_nature.second_q.transformers import ActiveSpaceTransformer\n",
    "problem = ActiveSpaceTransformer(4, 4).transform(es_problem) # Utiliser (2,2) pour rendre le calcul moins couteux (+perte précision)problem.num_particles\n",
    "problem.num_particles\n"
   ]
  },
  {
   "cell_type": "code",
   "execution_count": 6,
   "id": "80612d6a-e10b-4102-8605-d5d7ebf0876a",
   "metadata": {},
   "outputs": [
    {
     "data": {
      "text/plain": [
       "8"
      ]
     },
     "execution_count": 6,
     "metadata": {},
     "output_type": "execute_result"
    }
   ],
   "source": [
    "problem.num_spin_orbitals"
   ]
  },
  {
   "cell_type": "code",
   "execution_count": 7,
   "id": "487a0649-2cf7-4da8-8f4f-dda49f185f34",
   "metadata": {},
   "outputs": [
    {
     "name": "stdout",
     "output_type": "stream",
     "text": [
      "Fermionic Operator\n",
      "number spin orbitals=8, number terms=1056\n",
      "  0.1249745318311886 * ( +_0 +_0 -_0 -_0 )\n",
      "+ 5.107976713333496e-05 * ( +_0 +_0 -_1 -_0 )\n",
      "+ -0.0015508414526576731 * ( +_0 +_0 -_2 -_0 )\n",
      "+ 1.557217145242075e-05 * ( +_0 +_0 -_3 -_0 )\n",
      "+ 5.107976713333496e-05 * ( +_0 +_1 -_0 -_0 )\n",
      "+ 0.10861931442994596 * ( +_0 +_1 -_1 -_0 )\n",
      "+ -0.00021902993345336634 * ( +_0 +_1 -_2 -_0 )\n",
      "+ 0.00048558200918916037 * ( +_0 +_1 -_3 -_0 )\n",
      "+ -0.0015508414526576731 * ( +_0 +_2 -_0 -_0 )\n",
      "+ -0.00021902993345336634 * ( +_0 +_2 -_1 -_0 )\n",
      "+ 0.10833278569741729 * ( +_0 +_2 -_2 -_0 )\n",
      "+ 0.00021480277427361855 * ( +_0 +_2 -_3 -_0 )\n",
      "+ 1.557217145242075e-05 * ( +_0 +_3 -_0 -_0 )\n",
      "+ 0.00048558200918916037 * ( +_0 +_3 -_1 -_0 )\n",
      "+ 0.00021480277427361855 * ( +_0 +_3 -_2 -_0 )\n",
      "+ 0.1164927109752958 * ( +_0 +_3 -_3 -_0 )\n",
      "+ 0.1249745318311886 * ( +_0 +_4 -_4 -_0 )\n",
      "+ 5.107976713333496e-05 * ( +_0 +_4 -_5 -_0 )\n",
      "+ -0.0015508414526576731 * ( +_0 +_4 -_6 -_0 )\n",
      "+ 1.557217145242075e-05 * ( +_0 +_4 -_7 -_0 )\n",
      "...\n"
     ]
    }
   ],
   "source": [
    "hamiltonian = problem.hamiltonian # Hamiltonien en 1ere quantification\n",
    "fermionic_op = hamiltonian.second_q_op() # Hamiltonien fermionique\n",
    "if len(fermionic_op) <= 20:\n",
    "    print(fermionic_op)\n",
    "else: # print the first 20 terms of the fermionic Hamiltonian operator of the molecule\n",
    "    print(\"\\n\".join(str(fermionic_op).splitlines()[:22] + [\"...\"]))"
   ]
  },
  {
   "cell_type": "code",
   "execution_count": 8,
   "id": "b355e85f-28dd-42f9-8f54-8030911d0a3f",
   "metadata": {},
   "outputs": [
    {
     "name": "stdout",
     "output_type": "stream",
     "text": [
      "Number of items in the PM Z2 Pauli list: 325\n",
      "SparsePauliOp(['IIIIII', 'IIIIIZ', 'IIIIZZ', 'IIIIZI', 'IIIZXZ', 'IIIZXI', 'IIIIXI', 'IIIIXZ', 'IIIXXZ', 'IIIXXI'],\n",
      "              coeffs=[-1.65371506e+00+0.j,  1.10720189e-01+0.j,  6.30520644e-02+0.j,\n",
      "  9.87591982e-02+0.j, -1.99539777e-04+0.j, -8.86411466e-05+0.j,\n",
      "  1.99539777e-04+0.j,  8.86411466e-05+0.j, -1.24001188e-02+0.j,\n",
      " -1.25597560e-02+0.j])\n"
     ]
    }
   ],
   "source": [
    "from qiskit_nature.second_q.mappers import JordanWignerMapper, ParityMapper, BravyiKitaevMapper, TaperedQubitMapper\n",
    "\n",
    "mapper = ParityMapper(num_particles=problem.num_particles)\n",
    "mapper = problem.get_tapered_mapper(mapper)\n",
    "Hamil_z2qubit = mapper.map(fermionic_op)\n",
    "\n",
    "print(f\"Number of items in the PM Z2 Pauli list:\", len(Hamil_z2qubit))\n",
    "if len(Hamil_z2qubit) <= 10:\n",
    "    print(Hamil_z2qubit)\n",
    "else:\n",
    "    print(Hamil_z2qubit[0:10])"
   ]
  },
  {
   "cell_type": "code",
   "execution_count": 9,
   "id": "f438ab17-0a37-4170-8912-d942aa323b70",
   "metadata": {},
   "outputs": [
    {
     "data": {
      "image/png": "[encoded data removed]",
      "text/plain": [
       "<Figure size 256.567x535.111 with 1 Axes>"
      ]
     },
     "execution_count": 9,
     "metadata": {},
     "output_type": "execute_result"
    }
   ],
   "source": [
    "from qiskit_nature.second_q.circuit.library import HartreeFock\n",
    "\n",
    "HF_state = HartreeFock(problem.num_spatial_orbitals, problem.num_particles, mapper)\n",
    "HF_state.draw('mpl',initial_state=True)"
   ]
  },
  {
   "cell_type": "code",
   "execution_count": 10,
   "id": "9b6c66d9-960d-4d16-867b-22e8cd0ab310",
   "metadata": {},
   "outputs": [
    {
     "name": "stderr",
     "output_type": "stream",
     "text": [
      "/tmp/ipykernel_78393/3523115678.py:13: DeprecationWarning: The class ``qiskit.primitives.estimator.Estimator`` is deprecated as of qiskit 1.2. It will be removed no earlier than 3 months after the release date. All implementations of the `BaseEstimatorV1` interface have been deprecated in favor of their V2 counterparts. The V2 alternative for the `Estimator` class is `StatevectorEstimator`.\n",
      "  vqe_solver = VQE(Estimator(), ansatz, SLSQP())\n"
     ]
    }
   ],
   "source": [
    "from qiskit_nature.second_q.circuit.library import UCCSD\n",
    "from qiskit.primitives import Estimator\n",
    "from qiskit_algorithms.optimizers import SLSQP\n",
    "from qiskit_algorithms import VQE\n",
    "import numpy as np\n",
    "\n",
    "ansatz = UCCSD(\n",
    "    problem.num_spatial_orbitals,\n",
    "    problem.num_particles,\n",
    "    mapper,\n",
    "    initial_state = HF_state)\n",
    "\n",
    "vqe_solver = VQE(Estimator(), ansatz, SLSQP())\n",
    "vqe_solver.initial_point = np.zeros(ansatz.num_parameters) # Initialisation with zero-qubit"
   ]
  },
  {
   "cell_type": "code",
   "execution_count": 11,
   "id": "2c0f9183-315f-43f0-adbe-a8f4aacf0980",
   "metadata": {},
   "outputs": [
    {
     "data": {
      "text/plain": [
       "-668.7893540959062"
      ]
     },
     "execution_count": 11,
     "metadata": {},
     "output_type": "execute_result"
    }
   ],
   "source": [
    "from qiskit_nature.second_q.algorithms import GroundStateEigensolver\n",
    "\n",
    "# Résultats VQE\n",
    "GS_VQE = GroundStateEigensolver(mapper, vqe_solver)\n",
    "GS_VQE_res = GS_VQE.solve(problem)\n",
    "GS_VQE_res.total_energies[0]"
   ]
  },
  {
   "cell_type": "code",
   "execution_count": 12,
   "id": "f0b1af77-b6c8-4077-b1f8-d61013352097",
   "metadata": {},
   "outputs": [
    {
     "name": "stderr",
     "output_type": "stream",
     "text": [
      "/tmp/ipykernel_78393/3802868455.py:5: DeprecationWarning: The class ``qiskit.primitives.estimator.Estimator`` is deprecated as of qiskit 1.2. It will be removed no earlier than 3 months after the release date. All implementations of the `BaseEstimatorV1` interface have been deprecated in favor of their V2 counterparts. The V2 alternative for the `Estimator` class is `StatevectorEstimator`.\n",
      "  qeom_ES_solver = QEOM(GS_VQE, Estimator(), \"sd\", EvaluationRule.ALL)\n"
     ]
    },
    {
     "name": "stdout",
     "output_type": "stream",
     "text": [
      "=== GROUND STATE ENERGY ===\n",
      " \n",
      "* Electronic ground state energy (Hartree): -1535.49959906638\n",
      "  - computed part:      -2.42700353787\n",
      "  - ActiveSpaceTransformer extracted energy part: -1533.07259552851\n",
      "~ Nuclear repulsion energy (Hartree): 866.710244970474\n",
      "> Total ground state energy (Hartree): -668.789354095906\n",
      " \n",
      "=== EXCITED STATE ENERGIES ===\n",
      " \n",
      "  1: \n",
      "* Electronic excited state energy (Hartree): -1535.405801848474\n",
      "> Total excited state energy (Hartree): -668.695556878\n",
      "  2: \n",
      "* Electronic excited state energy (Hartree): -1535.31902270194\n",
      "> Total excited state energy (Hartree): -668.608777731466\n",
      "  3: \n",
      "* Electronic excited state energy (Hartree): -1535.312027218728\n",
      "> Total excited state energy (Hartree): -668.601782248254\n",
      "  4: \n",
      "* Electronic excited state energy (Hartree): -1535.259561818409\n",
      "> Total excited state energy (Hartree): -668.549316847935\n",
      "  5: \n",
      "* Electronic excited state energy (Hartree): -1535.223608154932\n",
      "> Total excited state energy (Hartree): -668.513363184458\n",
      "  6: \n",
      "* Electronic excited state energy (Hartree): -1535.192449617228\n",
      "> Total excited state energy (Hartree): -668.482204646754\n",
      "  7: \n",
      "* Electronic excited state energy (Hartree): -1535.161589856237\n",
      "> Total excited state energy (Hartree): -668.451344885763\n",
      "  8: \n",
      "* Electronic excited state energy (Hartree): -1535.121278515943\n",
      "> Total excited state energy (Hartree): -668.411033545468\n",
      "  9: \n",
      "* Electronic excited state energy (Hartree): -1535.109780237743\n",
      "> Total excited state energy (Hartree): -668.399535267269\n",
      " 10: \n",
      "* Electronic excited state energy (Hartree): -1535.084182184979\n",
      "> Total excited state energy (Hartree): -668.373937214505\n",
      " 11: \n",
      "* Electronic excited state energy (Hartree): -1535.076384800456\n",
      "> Total excited state energy (Hartree): -668.366139829982\n",
      " 12: \n",
      "* Electronic excited state energy (Hartree): -1535.062589941962\n",
      "> Total excited state energy (Hartree): -668.352344971488\n",
      " 13: \n",
      "* Electronic excited state energy (Hartree): -1535.029395656024\n",
      "> Total excited state energy (Hartree): -668.31915068555\n",
      " 14: \n",
      "* Electronic excited state energy (Hartree): -1535.009875427543\n",
      "> Total excited state energy (Hartree): -668.299630457068\n",
      " 15: \n",
      "* Electronic excited state energy (Hartree): -1534.981297860919\n",
      "> Total excited state energy (Hartree): -668.271052890445\n",
      " 16: \n",
      "* Electronic excited state energy (Hartree): -1534.956183388346\n",
      "> Total excited state energy (Hartree): -668.245938417872\n",
      " 17: \n",
      "* Electronic excited state energy (Hartree): -1534.924844083547\n",
      "> Total excited state energy (Hartree): -668.214599113073\n",
      " 18: \n",
      "* Electronic excited state energy (Hartree): -1534.916370981636\n",
      "> Total excited state energy (Hartree): -668.206126011162\n",
      " 19: \n",
      "* Electronic excited state energy (Hartree): -1534.898384596134\n",
      "> Total excited state energy (Hartree): -668.18813962566\n",
      " 20: \n",
      "* Electronic excited state energy (Hartree): -1534.87316681292\n",
      "> Total excited state energy (Hartree): -668.162921842445\n",
      " 21: \n",
      "* Electronic excited state energy (Hartree): -1534.846032688927\n",
      "> Total excited state energy (Hartree): -668.135787718453\n",
      " 22: \n",
      "* Electronic excited state energy (Hartree): -1534.803826746749\n",
      "> Total excited state energy (Hartree): -668.093581776275\n",
      " 23: \n",
      "* Electronic excited state energy (Hartree): -1534.776706350656\n",
      "> Total excited state energy (Hartree): -668.066461380181\n",
      " 24: \n",
      "* Electronic excited state energy (Hartree): -1534.761443000904\n",
      "> Total excited state energy (Hartree): -668.05119803043\n",
      " 25: \n",
      "* Electronic excited state energy (Hartree): -1534.733312620855\n",
      "> Total excited state energy (Hartree): -668.023067650381\n",
      " 26: \n",
      "* Electronic excited state energy (Hartree): -1534.610052216886\n",
      "> Total excited state energy (Hartree): -667.899807246412\n",
      " \n",
      "=== MEASURED OBSERVABLES ===\n",
      " \n",
      "  0:  # Particles: 4.000 S: 0.000 S^2: 0.000 M: 0.000\n",
      "  1:  # Particles: 4.000 S: 1.000 S^2: 2.000 M: 0.000\n",
      "  2:  # Particles: 4.000 S: 1.000 S^2: 2.000 M: 0.000\n",
      "  3:  # Particles: 4.000 S: 0.000 S^2: 0.000 M: 0.000\n",
      "  4:  # Particles: 4.000 S: 0.000 S^2: 0.000 M: -0.000\n",
      "  5:  # Particles: 4.000 S: 1.000 S^2: 2.000 M: -0.000\n",
      "  6:  # Particles: 4.000 S: -0.000 S^2: -0.000 M: 0.000\n",
      "  7:  # Particles: 4.000 S: 1.000 S^2: 2.000 M: 0.000\n",
      "  8:  # Particles: 4.000 S: 0.000 S^2: 0.000 M: -0.000\n",
      "  9:  # Particles: 4.000 S: 2.000 S^2: 6.000 M: 0.000\n",
      " 10:  # Particles: 4.000 S: 1.000 S^2: 2.000 M: -0.000\n",
      " 11:  # Particles: 4.000 S: 0.000 S^2: 0.000 M: 0.000\n",
      " 12:  # Particles: 4.000 S: 1.000 S^2: 2.000 M: -0.000\n",
      " 13:  # Particles: 4.000 S: 0.000 S^2: 0.000 M: 0.000\n",
      " 14:  # Particles: 4.000 S: 1.000 S^2: 2.000 M: 0.000\n",
      " 15:  # Particles: 4.000 S: 0.000 S^2: 0.000 M: -0.000\n",
      " 16:  # Particles: 4.000 S: 0.000 S^2: 0.000 M: 0.000\n",
      " 17:  # Particles: 4.000 S: 1.000 S^2: 2.000 M: -0.000\n",
      " 18:  # Particles: 4.000 S: 1.000 S^2: 2.000 M: -0.000\n",
      " 19:  # Particles: 4.000 S: 0.000 S^2: 0.000 M: 0.000\n",
      " 20:  # Particles: 4.000 S: 1.000 S^2: 2.000 M: 0.000\n",
      " 21:  # Particles: 4.000 S: 0.000 S^2: 0.000 M: 0.000\n",
      " 22:  # Particles: 4.000 S: 0.000 S^2: 0.000 M: -0.000\n",
      " 23:  # Particles: 4.000 S: -0.000 S^2: -0.000 M: 0.000\n",
      " 24:  # Particles: 4.000 S: 1.000 S^2: 2.000 M: -0.000\n",
      " 25:  # Particles: 4.000 S: 0.000 S^2: 0.000 M: 0.000\n",
      " 26:  # Particles: 4.000 S: 0.000 S^2: 0.000 M: 0.000\n",
      " \n",
      "=== DIPOLE MOMENTS ===\n",
      " \n",
      "~ Nuclear dipole moment (a.u.): [0.00570974  10.01973196  -0.017546]\n",
      " \n",
      "  0: \n",
      "  * Electronic dipole moment (a.u.): [0.00537635493  8.417295998464  -0.016937212233]\n",
      "    - computed part:      [0.057728807151  3.86395104208  -0.001479611822]\n",
      "    - ActiveSpaceTransformer extracted energy part: [-0.052352452221  4.553344956384  -0.015457600411]\n",
      "  > Dipole moment (a.u.): [0.00033338507  1.602435961536  -0.000608787767]  Total: 1.60243611186\n",
      "                 (debye): [0.000847380245  4.072985565742  -0.001547384012]  Total: 4.072985947826\n",
      " \n",
      "  1: \n",
      "  * Electronic dipole moment (a.u.): [0.005435113821  8.895724072317  -0.016681420677]\n",
      "    - computed part:      [0.057787566042  4.342379115934  -0.001223820266]\n",
      "    - ActiveSpaceTransformer extracted energy part: [-0.052352452221  4.553344956384  -0.015457600411]\n",
      "  > Dipole moment (a.u.): [0.000274626179  1.124007887683  -0.000864579323]  Total: 1.124008253746\n",
      "                 (debye): [0.000698030055  2.856942812193  -0.002197541237]  Total: 2.856943742634\n",
      " \n",
      "  2: \n",
      "  * Electronic dipole moment (a.u.): [-0.01271207331  8.917904471144  -0.017078237006]\n",
      "    - computed part:      [0.039640378911  4.36455951476  -0.001620636595]\n",
      "    - ActiveSpaceTransformer extracted energy part: [-0.052352452221  4.553344956384  -0.015457600411]\n",
      "  > Dipole moment (a.u.): [0.01842181331  1.101827488856  -0.000467762994]  Total: 1.101981577526\n",
      "                 (debye): [0.04682357455  2.800565867072  -0.001188934826]  Total: 2.800957521368\n",
      " \n",
      "  3: \n",
      "  * Electronic dipole moment (a.u.): [0.005014709556  9.238038499066  -0.016501464284]\n",
      "    - computed part:      [0.057367161777  4.684693542683  -0.001043863873]\n",
      "    - ActiveSpaceTransformer extracted energy part: [-0.052352452221  4.553344956384  -0.015457600411]\n",
      "  > Dipole moment (a.u.): [0.000695030444  0.781693460934  -0.001044535716]  Total: 0.7816944678\n",
      "                 (debye): [0.00176659101  1.986866408168  -0.002654944719]  Total: 1.986868967366\n",
      " \n",
      "  4: \n",
      "  * Electronic dipole moment (a.u.): [-0.010861747335  8.743497307778  -0.017089056058]\n",
      "    - computed part:      [0.041490704886  4.190152351394  -0.001631455647]\n",
      "    - ActiveSpaceTransformer extracted energy part: [-0.052352452221  4.553344956384  -0.015457600411]\n",
      "  > Dipole moment (a.u.): [0.016571487335  1.276234652222  -0.000456943942]  Total: 1.27634231714\n",
      "                 (debye): [0.042120515476  3.243864617227  -0.001161435542]  Total: 3.244138274127\n",
      " \n",
      "  5: \n",
      "  * Electronic dipole moment (a.u.): [0.005960218431  8.219312412614  -0.016963340439]\n",
      "    - computed part:      [0.058312670652  3.66596745623  -0.001505740028]\n",
      "    - ActiveSpaceTransformer extracted energy part: [-0.052352452221  4.553344956384  -0.015457600411]\n",
      "  > Dipole moment (a.u.): [-0.000250478431  1.800419547386  -0.000582659561]  Total: 1.800419659091\n",
      "                 (debye): [-0.000636652609  4.576209598887  -0.001480972744]  Total: 4.576209882812\n",
      " \n",
      "  6: \n",
      "  * Electronic dipole moment (a.u.): [0.006452209069  9.184106194965  -0.016536391611]\n",
      "    - computed part:      [0.05880466129  4.630761238581  -0.0010787912]\n",
      "    - ActiveSpaceTransformer extracted energy part: [-0.052352452221  4.553344956384  -0.015457600411]\n",
      "  > Dipole moment (a.u.): [-0.000742469069  0.835625765035  -0.001009608389]  Total: 0.835626704791\n",
      "                 (debye): [-0.001887167959  2.123948638851  -0.002566168317]  Total: 2.123951027472\n",
      " \n",
      "  7: \n",
      "  * Electronic dipole moment (a.u.): [-0.017912566632  8.961438004178  -0.017004918984]\n",
      "    - computed part:      [0.034439885589  4.408093047794  -0.001547318573]\n",
      "    - ActiveSpaceTransformer extracted energy part: [-0.052352452221  4.553344956384  -0.015457600411]\n",
      "  > Dipole moment (a.u.): [0.023622306632  1.058293955822  -0.000541081016]  Total: 1.058557699452\n",
      "                 (debye): [0.060041908851  2.689914673559  -0.001375290632]  Total: 2.690585042936\n",
      " \n",
      "  8: \n",
      "  * Electronic dipole moment (a.u.): [-0.022208110514  9.382827657225  -0.016875815147]\n",
      "    - computed part:      [0.030144341707  4.829482700842  -0.001418214736]\n",
      "    - ActiveSpaceTransformer extracted energy part: [-0.052352452221  4.553344956384  -0.015457600411]\n",
      "  > Dipole moment (a.u.): [0.027917850514  0.636904302775  -0.000670184853]  Total: 0.637516232278\n",
      "                 (debye): [0.070960091322  1.61884911112  -0.001703439824]  Total: 1.620404480629\n",
      " \n",
      "  9: \n",
      "  * Electronic dipole moment (a.u.): [-0.023114594176  8.821587978834  -0.01702613066]\n",
      "    - computed part:      [0.029237858045  4.268243022451  -0.001568530249]\n",
      "    - ActiveSpaceTransformer extracted energy part: [-0.052352452221  4.553344956384  -0.015457600411]\n",
      "  > Dipole moment (a.u.): [0.028824334176  1.198143981166  -0.00051986934]  Total: 1.198490764298\n",
      "                 (debye): [0.073264142755  3.045377948389  -0.001321375935]  Total: 3.04625938311\n",
      " \n",
      " 10: \n",
      "  * Electronic dipole moment (a.u.): [-0.001266027183  9.026095478567  -0.01698889541]\n",
      "    - computed part:      [0.051086425038  4.472750522184  -0.001531294999]\n",
      "    - ActiveSpaceTransformer extracted energy part: [-0.052352452221  4.553344956384  -0.015457600411]\n",
      "  > Dipole moment (a.u.): [0.006975767183  0.993636481433  -0.00055710459]  Total: 0.993661123788\n",
      "                 (debye): [0.017730629946  2.52557178172  -0.001416018492]  Total: 2.525634416334\n",
      " \n",
      " 11: \n",
      "  * Electronic dipole moment (a.u.): [0.004063929747  8.989757499354  -0.016656572049]\n",
      "    - computed part:      [0.056416381967  4.436412542971  -0.001198971638]\n",
      "    - ActiveSpaceTransformer extracted energy part: [-0.052352452221  4.553344956384  -0.015457600411]\n",
      "  > Dipole moment (a.u.): [0.001645810253  1.029974460646  -0.000889427951]  Total: 1.029976159606\n",
      "                 (debye): [0.004183232009  2.617933703429  -0.002260700143]  Total: 2.617938021754\n",
      " \n",
      " 12: \n",
      "  * Electronic dipole moment (a.u.): [0.00767683404  8.892297102395  -0.016617021534]\n",
      "    - computed part:      [0.060029286261  4.338952146012  -0.001159421123]\n",
      "    - ActiveSpaceTransformer extracted energy part: [-0.052352452221  4.553344956384  -0.015457600411]\n",
      "  > Dipole moment (a.u.): [-0.00196709404  1.127434857605  -0.000928978466]  Total: 1.127436956376\n",
      "                 (debye): [-0.004999853863  2.865653300077  -0.002361227515]  Total: 2.86565863462\n",
      " \n",
      " 13: \n",
      "  * Electronic dipole moment (a.u.): [0.006166471684  8.650922276999  -0.017154974783]\n",
      "    - computed part:      [0.058518923905  4.097577320616  -0.001697374372]\n",
      "    - ActiveSpaceTransformer extracted energy part: [-0.052352452221  4.553344956384  -0.015457600411]\n",
      "  > Dipole moment (a.u.): [-0.000456731684  1.368809683001  -0.000391025217]  Total: 1.368809815052\n",
      "                 (debye): [-0.001160896036  3.479166852799  -0.000993886873]  Total: 3.479167188438\n",
      " \n",
      " 14: \n",
      "  * Electronic dipole moment (a.u.): [-0.022671956354  8.802440732753  -0.017017867834]\n",
      "    - computed part:      [0.029680495867  4.249095776369  -0.001560267423]\n",
      "    - ActiveSpaceTransformer extracted energy part: [-0.052352452221  4.553344956384  -0.015457600411]\n",
      "  > Dipole moment (a.u.): [0.028381696354  1.217291227247  -0.000528132166]  Total: 1.217622162883\n",
      "                 (debye): [0.072139069739  3.094045388952  -0.001342377941]  Total: 3.094886543357\n",
      " \n",
      " 15: \n",
      "  * Electronic dipole moment (a.u.): [-0.035158530841  9.965895498267  -0.01703300829]\n",
      "    - computed part:      [0.017193921379  5.412550541883  -0.001575407879]\n",
      "    - ActiveSpaceTransformer extracted energy part: [-0.052352452221  4.553344956384  -0.015457600411]\n",
      "  > Dipole moment (a.u.): [0.040868270841  0.053836461733  -0.00051299171]  Total: 0.067593219586\n",
      "                 (debye): [0.103876773381  0.136838623704  -0.001303894746]  Total: 0.171804811128\n",
      " \n",
      " 16: \n",
      "  * Electronic dipole moment (a.u.): [0.008668439129  8.490416707988  -0.016791848577]\n",
      "    - computed part:      [0.06102089135  3.937071751604  -0.001334248166]\n",
      "    - ActiveSpaceTransformer extracted energy part: [-0.052352452221  4.553344956384  -0.015457600411]\n",
      "  > Dipole moment (a.u.): [-0.002958699129  1.529315252012  -0.000754151423]  Total: 1.529318299989\n",
      "                 (debye): [-0.00752026236  3.887131277897  -0.001916861537]  Total: 3.887139025081\n",
      " \n",
      " 17: \n",
      "  * Electronic dipole moment (a.u.): [-0.014291926669  8.710025373511  -0.01706296251]\n",
      "    - computed part:      [0.038060525552  4.156680417127  -0.001605362099]\n",
      "    - ActiveSpaceTransformer extracted energy part: [-0.052352452221  4.553344956384  -0.015457600411]\n",
      "  > Dipole moment (a.u.): [0.020001666669  1.309706586489  -0.00048303749]  Total: 1.309859398061\n",
      "                 (debye): [0.050839160871  3.328941779997  -0.001227758719]  Total: 3.329330188233\n",
      " \n",
      " 18: \n",
      "  * Electronic dipole moment (a.u.): [-0.047438968764  9.023761802696  -0.016926589584]\n",
      "    - computed part:      [0.004913483457  4.470416846312  -0.001468989173]\n",
      "    - ActiveSpaceTransformer extracted energy part: [-0.052352452221  4.553344956384  -0.015457600411]\n",
      "  > Dipole moment (a.u.): [0.053148708764  0.995970157304  -0.000619410416]  Total: 0.997387448865\n",
      "                 (debye): [0.135090530186  2.531503393572  -0.001574384091]  Total: 2.535105789054\n",
      " \n",
      " 19: \n",
      "  * Electronic dipole moment (a.u.): [-0.0272598111  8.709753884904  -0.017063057229]\n",
      "    - computed part:      [0.025092641121  4.15640892852  -0.001605456818]\n",
      "    - ActiveSpaceTransformer extracted energy part: [-0.052352452221  4.553344956384  -0.015457600411]\n",
      "  > Dipole moment (a.u.): [0.0329695511  1.309978075096  -0.000482942771]  Total: 1.310392987529\n",
      "                 (debye): [0.083800232247  3.32963183514  -0.001227517969]  Total: 3.330686437253\n",
      " \n",
      " 20: \n",
      "  * Electronic dipole moment (a.u.): [-0.054383620808  8.830306477178  -0.017398236876]\n",
      "    - computed part:      [-0.002031168587  4.276961520794  -0.001940636465]\n",
      "    - ActiveSpaceTransformer extracted energy part: [-0.052352452221  4.553344956384  -0.015457600411]\n",
      "  > Dipole moment (a.u.): [0.060093360808  1.189425482822  -0.000147763124]  Total: 1.190942573357\n",
      "                 (debye): [0.152742073344  3.023217738084  -0.000375576363]  Total: 3.027073797233\n",
      " \n",
      " 21: \n",
      "  * Electronic dipole moment (a.u.): [-0.033004175458  8.989887890901  -0.016911671538]\n",
      "    - computed part:      [0.019348276763  4.436542934517  -0.001454071127]\n",
      "    - ActiveSpaceTransformer extracted energy part: [-0.052352452221  4.553344956384  -0.015457600411]\n",
      "  > Dipole moment (a.u.): [0.038713915458  1.029844069099  -0.000634328462]  Total: 1.0305716745\n",
      "                 (debye): [0.098400948704  2.617602281207  -0.001612301977]  Total: 2.619451669492\n",
      " \n",
      " 22: \n",
      "  * Electronic dipole moment (a.u.): [0.005514265275  7.597219113443  -0.01710159073]\n",
      "    - computed part:      [0.057866717496  3.043874157059  -0.001643990319]\n",
      "    - ActiveSpaceTransformer extracted energy part: [-0.052352452221  4.553344956384  -0.015457600411]\n",
      "  > Dipole moment (a.u.): [0.000195474725  2.422512846557  -0.00044440927]  Total: 2.422512895207\n",
      "                 (debye): [0.000496847146  6.157412897418  -0.001129575588]  Total: 6.157413021074\n",
      " \n",
      " 23: \n",
      "  * Electronic dipole moment (a.u.): [-0.035913991145  8.806667653284  -0.017401982998]\n",
      "    - computed part:      [0.016438461076  4.2533226969  -0.001944382587]\n",
      "    - ActiveSpaceTransformer extracted energy part: [-0.052352452221  4.553344956384  -0.015457600411]\n",
      "  > Dipole moment (a.u.): [0.041623731145  1.213064306716  -0.000144017002]  Total: 1.213778220255\n",
      "                 (debye): [0.105796961759  3.083301629623  -0.000366054673]  Total: 3.085116216668\n",
      " \n",
      " 24: \n",
      "  * Electronic dipole moment (a.u.): [-0.045833438665  7.915657354268  -0.017347506727]\n",
      "    - computed part:      [0.006519013556  3.362312397884  -0.001889906316]\n",
      "    - ActiveSpaceTransformer extracted energy part: [-0.052352452221  4.553344956384  -0.015457600411]\n",
      "  > Dipole moment (a.u.): [0.051543178665  2.104074605732  -0.000198493273]  Total: 2.104705842904\n",
      "                 (debye): [0.131009680108  5.348023698978  -0.00050451953]  Total: 5.34962814368\n",
      " \n",
      " 25: \n",
      "  * Electronic dipole moment (a.u.): [-0.04162628146  7.952624395923  -0.01732552021]\n",
      "    - computed part:      [0.010726170761  3.399279439539  -0.001867919799]\n",
      "    - ActiveSpaceTransformer extracted energy part: [-0.052352452221  4.553344956384  -0.015457600411]\n",
      "  > Dipole moment (a.u.): [0.04733602146  2.067107564077  -0.00022047979]  Total: 2.06764949375\n",
      "                 (debye): [0.120316154139  5.254062860178  -0.000560403674]  Total: 5.255440307881\n",
      " \n",
      " 26: \n",
      "  * Electronic dipole moment (a.u.): [-0.096618594483  7.957037657578  -0.01771726549]\n",
      "    - computed part:      [-0.044266142262  3.403692701194  -0.002259665079]\n",
      "    - ActiveSpaceTransformer extracted energy part: [-0.052352452221  4.553344956384  -0.015457600411]\n",
      "  > Dipole moment (a.u.): [0.102328334483  2.062694302422  0.00017126549]  Total: 2.065230956241\n",
      "                 (debye): [0.260092658502  5.242845469  0.000435313413]  Total: 5.249292999283\n",
      " \n"
     ]
    }
   ],
   "source": [
    "# calcul d'état excité avec Qeom\n",
    "from qiskit_nature.second_q.algorithms import QEOM\n",
    "from qiskit_nature.second_q.algorithms.excited_states_solvers.qeom import EvaluationRule\n",
    "\n",
    "qeom_ES_solver = QEOM(GS_VQE, Estimator(), \"sd\", EvaluationRule.ALL)\n",
    "qeom_ES = qeom_ES_solver.solve(problem)\n",
    "print(qeom_ES)"
   ]
  },
  {
   "cell_type": "code",
   "execution_count": 16,
   "id": "bd479ca3-fc18-4865-aad1-beb8120fa689",
   "metadata": {},
   "outputs": [
    {
     "name": "stdout",
     "output_type": "stream",
     "text": [
      "Total QEOM ES energy T1 = -668.6955568780002 a.u.\n",
      "Total QEOM ES energy S1 = -668.6087777314658 a.u.\n",
      "The bandgap obtained from QEOM calculations (T1-S0) is : 2.5523523040438003 eV\n",
      "The fluorescence energy obtained from QEOM calculations (S1-S0) is : 4.913733158876262 eV\n"
     ]
    }
   ],
   "source": [
    "ET1 = qeom_ES.total_energies[1]\n",
    "ES1 = qeom_ES.total_energies[2]\n",
    " # Calcul des différences d'énergie\n",
    "s0_energy= -668.7893540959062\n",
    "qeom_gap = (ET1 - s0_energy) * au2ev  # Gap T1-S0\n",
    "qeom_f_energy = (ES1 - s0_energy) * au2ev  # Fluorescence S1->S0\n",
    "\n",
    "print(f'Total QEOM ES energy T1 = {ET1} a.u.')\n",
    "print(f'Total QEOM ES energy S1 = {ES1} a.u.')\n",
    "print(f'The bandgap obtained from QEOM calculations (T1-S0) is : {qeom_gap} eV')\n",
    "print(f'The fluorescence energy obtained from QEOM calculations (S1-S0) is : {qeom_f_energy} eV')"
   ]
  },
  {
   "cell_type": "code",
   "execution_count": 17,
   "id": "0e53b2eb-5f15-4c73-8232-0c7121c24328",
   "metadata": {},
   "outputs": [
    {
     "data": {
      "text/html": [
       "<div>\n",
       "<style scoped>\n",
       "    .dataframe tbody tr th:only-of-type {\n",
       "        vertical-align: middle;\n",
       "    }\n",
       "\n",
       "    .dataframe tbody tr th {\n",
       "        vertical-align: top;\n",
       "    }\n",
       "\n",
       "    .dataframe thead th {\n",
       "        text-align: right;\n",
       "    }\n",
       "</style>\n",
       "<table border=\"1\" class=\"dataframe\">\n",
       "  <thead>\n",
       "    <tr style=\"text-align: right;\">\n",
       "      <th></th>\n",
       "      <th>QEOM</th>\n",
       "    </tr>\n",
       "  </thead>\n",
       "  <tbody>\n",
       "    <tr>\n",
       "      <th>ES energy T1 (a.u.)</th>\n",
       "      <td>-668.695557</td>\n",
       "    </tr>\n",
       "    <tr>\n",
       "      <th>ES energy S1 (a.u.)</th>\n",
       "      <td>-668.608778</td>\n",
       "    </tr>\n",
       "    <tr>\n",
       "      <th>f_energy ES1-ES0 (eV)</th>\n",
       "      <td>4.913733</td>\n",
       "    </tr>\n",
       "    <tr>\n",
       "      <th>Gap ES1 - ET1 (eV)</th>\n",
       "      <td>2.552352</td>\n",
       "    </tr>\n",
       "  </tbody>\n",
       "</table>\n",
       "</div>"
      ],
      "text/plain": [
       "                             QEOM\n",
       "ES energy T1 (a.u.)   -668.695557\n",
       "ES energy S1 (a.u.)   -668.608778\n",
       "f_energy ES1-ES0 (eV)    4.913733\n",
       "Gap ES1 - ET1 (eV)       2.552352"
      ]
     },
     "execution_count": 17,
     "metadata": {},
     "output_type": "execute_result"
    }
   ],
   "source": [
    "# Create the results dataframe*\n",
    "import pandas as pd\n",
    "list_results_QEOM = [ET1, ES1, qeom_f_energy, qeom_gap]\n",
    "dict_results_QEOM = {'QEOM': list_results_QEOM}\n",
    "df_QEOM = pd.DataFrame(dict_results_QEOM,\n",
    "                    index = ['ES energy T1 (a.u.)', 'ES energy S1 (a.u.)',\n",
    "                            'f_energy ES1-ES0 (eV)', 'Gap ES1 - ET1 (eV)'])\n",
    "\n",
    "df_QEOM"
   ]
  },
  {
   "cell_type": "code",
   "execution_count": null,
   "id": "87bebd49-3f0c-42a3-abeb-9772ee0bc1a9",
   "metadata": {},
   "outputs": [],
   "source": []
  }
 ],
 "metadata": {
  "kernelspec": {
   "display_name": "Python 3 (ipykernel)",
   "language": "python",
   "name": "python3"
  },
  "language_info": {
   "codemirror_mode": {
    "name": "ipython",
    "version": 3
   },
   "file_extension": ".py",
   "mimetype": "text/x-python",
   "name": "python",
   "nbconvert_exporter": "python",
   "pygments_lexer": "ipython3",
   "version": "3.11.7"
  }
 },
 "nbformat": 4,
 "nbformat_minor": 5
}
