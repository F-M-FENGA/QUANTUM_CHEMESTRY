{
 "cells": [
  {
   "cell_type": "markdown",
   "metadata": {},
   "source": [
    "# <a id='toc1_'></a>[Rapport sur les methodes de calcul de Chimie Quantique (Hatree Fock et Post Hatree)](#toc0_)\n",
    "\n",
    "1. **F. M. FENGA**, franklin.fenga@facsciences-uy1.cm\n",
    "    * Etudiant en Master 2 , Physique Atomique, Moleculaire et Biophysique, Université de Yaoundé I\n",
    "\n",
    "       \n",
    "February 2025"
   ]
  },
  {
   "cell_type": "markdown",
   "metadata": {},
   "source": [
    "## Introduction\n",
    "Le thiophène est une molécule organosulfurée constituée d'un cycle de cinq atomes avec quatre atomes de carbone et un atome de soufre. C'est un composé aromatique largement étudié en chimie organique en raison de ses propriétés intéressantes et de ses applications diverses. Dans ce rapport, nous allons explorer les propriétés du thiophène en utilisant les outils RDKit et réaliser des calculs HF, DFT et post-HF avec PySCF. "
   ]
  },
  {
   "cell_type": "markdown",
   "metadata": {},
   "source": [
    "## Présentation de la molécule de Thiophène\n",
    "\n",
    "### Description\n",
    "La molécule de thiophène [PubChem](https://pubchem.ncbi.nlm.nih.gov/compound/Thiophene)\n",
    "* **Formule brute** : `C4H4S`\n",
    "* **PubChem Cid** : `8030`\n",
    "* **Nom IUPAC** : `Thiophene`\n",
    "* **Masse molaire** : `84,14 g/mol`\n",
    "* **Isometric SMILES** : `C1=CSC=C1`\n",
    "\n",
    "Le thiophène est une molécule organique hétérocyclique constituée d'un cycle de cinq atomes, comprenant quatre atomes de carbone et un atome de soufre. Sa formule chimique est C4H4S.\n",
    "\n",
    "Structurellement, le thiophène peut être représenté comme un cycle plan avec un atome de soufre alternant avec les atomes de carbone. Cette alternance crée une conjugaison des doubles liaisons à travers l'anneau.\n",
    "\n",
    "Le thiophène présente des propriétés aromatiques dues à la délocalisation des électrons pi dans l'anneau, ce qui lui confère une stabilité particulière. Il est souvent comparé au benzène, mais avec un atome de soufre à la place d'un des atomes de carbone, ce qui modifie légèrement ses propriétés chimiques et physiques.\n",
    "\n",
    "En raison de la polarité induite par le soufre, le thiophène peut interagir de manière unique avec d'autres molécules et solvants, offrant des opportunités d'application dans divers domaines tels que la pharmacie, les matériaux conducteurs et la chimie industrielle.\n",
    "\n",
    "\n"
   ]
  },
  {
   "cell_type": "markdown",
   "metadata": {},
   "source": [
    "### Intérêt\n",
    "\n",
    "Le thiophène est une molécule d'intérêt dans divers domaines de la chimie et de la biologie en raison de ses propriétés uniques. Voici quelques-uns des intérêts associés à cette molécule :\n",
    "\n",
    "* `Chimie organique` : Le thiophène est utilisé comme motif structurel dans le développement de nombreux composés organiques. Sa présence confère souvent des propriétés spécifiques aux molécules, telles que des activités biologiques ou des interactions spécifiques avec d'autres molécules.\n",
    "\n",
    "* `Pharmacologie` : De nombreux composés dérivés du thiophène ont montré des activités pharmacologiques intéressantes. Certains d'entre eux sont utilisés comme médicaments ou sont étudiés pour leur potentiel thérapeutique dans le traitement de diverses maladies, comme le cancer, les infections bactériennes ou les maladies neurodégénératives.\n",
    "\n",
    "* `Agriculture` : Certains dérivés du thiophène sont utilisés en agriculture comme agents de protection des cultures. Ces composés peuvent avoir des propriétés fongicides ou insecticides, aidant ainsi à prévenir les maladies des plantes et les infestations d'insectes nuisibles.\n",
    "\n",
    "* `Chimie des matériaux` : Le thiophène et ses dérivés sont également utilisés dans la synthèse de matériaux polymères. Ces polymères peuvent présenter des propriétés intéressantes, telles que la conductivité électrique ou la capacité d'absorber la lumière, ce qui les rend utiles dans des applications telles que les cellules solaires, les capteurs ou les dispositifs électroniques.\n"
   ]
  },
  {
   "cell_type": "markdown",
   "metadata": {},
   "source": [
    "## Présentation des propriétés de la molécule de Thiophène en utilisant RDKit"
   ]
  },
  {
   "cell_type": "code",
   "execution_count": 1,
   "metadata": {},
   "outputs": [],
   "source": [
    "#importation des packages  rdkit et temps\n",
    "import time\n",
    "from rdkit import Chem"
   ]
  },
  {
   "cell_type": "markdown",
   "metadata": {},
   "source": [
    "#### **Création `RDKit` d'un objet moléculaire**"
   ]
  },
  {
   "cell_type": "code",
   "execution_count": 2,
   "metadata": {},
   "outputs": [
    {
     "data": {
      "image/png": "[encoded data removed]",
      "text/plain": [
       "<rdkit.Chem.rdchem.Mol at 0x72b7c01dfd80>"
      ]
     },
     "execution_count": 2,
     "metadata": {},
     "output_type": "execute_result"
    }
   ],
   "source": [
    "# Convertir le SMILES en objet RDKit Mol\n",
    "smiles = \"C1=CSC=C1\"  # https://pubchem.ncbi.nlm.nih.gov/compound/Thiophene\n",
    "smi_key = 'Thiophene'\n",
    "\n",
    "# Définir une molécule à partir de sa chaîne SMILES\n",
    "mol_rdkit = Chem.MolFromSmiles(smiles)\n",
    "mol_rdkit\n"
   ]
  },
  {
   "cell_type": "code",
   "execution_count": 3,
   "metadata": {},
   "outputs": [
    {
     "data": {
      "image/png": "[encoded data removed]",
      "text/plain": [
       "<rdkit.Chem.rdchem.Mol at 0x72b7c01dfdf0>"
      ]
     },
     "execution_count": 3,
     "metadata": {},
     "output_type": "execute_result"
    }
   ],
   "source": [
    "mol_rdkit = Chem.AddHs(mol_rdkit)\n",
    "mol_rdkit"
   ]
  },
  {
   "cell_type": "markdown",
   "metadata": {},
   "source": [
    "### Propriétés physico-chimique"
   ]
  },
  {
   "cell_type": "code",
   "execution_count": 4,
   "metadata": {},
   "outputs": [
    {
     "data": {
      "text/html": [
       "<div>\n",
       "<style scoped>\n",
       "    .dataframe tbody tr th:only-of-type {\n",
       "        vertical-align: middle;\n",
       "    }\n",
       "\n",
       "    .dataframe tbody tr th {\n",
       "        vertical-align: top;\n",
       "    }\n",
       "\n",
       "    .dataframe thead th {\n",
       "        text-align: right;\n",
       "    }\n",
       "</style>\n",
       "<table border=\"1\" class=\"dataframe\">\n",
       "  <thead>\n",
       "    <tr style=\"text-align: right;\">\n",
       "      <th></th>\n",
       "      <th>valeurs</th>\n",
       "      <th>valeurs_pupchem</th>\n",
       "    </tr>\n",
       "    <tr>\n",
       "      <th>properties</th>\n",
       "      <th></th>\n",
       "      <th></th>\n",
       "    </tr>\n",
       "  </thead>\n",
       "  <tbody>\n",
       "    <tr>\n",
       "      <th>Poids_Mol</th>\n",
       "      <td>84.143000</td>\n",
       "      <td>84.140000</td>\n",
       "    </tr>\n",
       "    <tr>\n",
       "      <th>poids_mol_moy</th>\n",
       "      <td>84.003371</td>\n",
       "      <td>84.003371</td>\n",
       "    </tr>\n",
       "    <tr>\n",
       "      <th>LogP</th>\n",
       "      <td>1.748100</td>\n",
       "      <td>1.810000</td>\n",
       "    </tr>\n",
       "    <tr>\n",
       "      <th>TPSA</th>\n",
       "      <td>0.000000</td>\n",
       "      <td>41.100000</td>\n",
       "    </tr>\n",
       "    <tr>\n",
       "      <th>hbd</th>\n",
       "      <td>0.000000</td>\n",
       "      <td>0.000000</td>\n",
       "    </tr>\n",
       "    <tr>\n",
       "      <th>hba</th>\n",
       "      <td>1.000000</td>\n",
       "      <td>1.000000</td>\n",
       "    </tr>\n",
       "  </tbody>\n",
       "</table>\n",
       "</div>"
      ],
      "text/plain": [
       "                 valeurs  valeurs_pupchem\n",
       "properties                               \n",
       "Poids_Mol      84.143000        84.140000\n",
       "poids_mol_moy  84.003371        84.003371\n",
       "LogP            1.748100         1.810000\n",
       "TPSA            0.000000        41.100000\n",
       "hbd             0.000000         0.000000\n",
       "hba             1.000000         1.000000"
      ]
     },
     "execution_count": 4,
     "metadata": {},
     "output_type": "execute_result"
    }
   ],
   "source": [
    "import os\n",
    "import pandas as pd\n",
    "from rdkit.Chem import Descriptors\n",
    "properties = ['Poids_Mol','poids_mol_moy', 'LogP', 'TPSA','hbd','hba']\n",
    "\n",
    "# Calcul des descripteurs\n",
    "#poid_moleculaire\n",
    "molwt = Descriptors.MolWt(mol_rdkit)\n",
    "#poid moleculaire moyen\n",
    "molwtE = Descriptors.ExactMolWt(mol_rdkit)\n",
    "# solubilite\n",
    "logp = Descriptors.MolLogP(mol_rdkit)\n",
    "#polarite\n",
    "tpsa = Descriptors.TPSA(mol_rdkit)\n",
    "#nombre de liasons donneurs d'H\n",
    "hbd = Descriptors.NumHDonors(mol_rdkit)\n",
    "#nombre de liason accepteurs d'H\n",
    "hba = Descriptors.NumHAcceptors(mol_rdkit)\n",
    "\n",
    "# Ajout des propriétés à la liste de données\n",
    "data=[molwt , molwtE, logp, tpsa,hbd,hba]\n",
    "data1=[84.14  ,84.00337130  ,1.81, 41.1 ,0,1]\n",
    "\n",
    "df_HF = pd.DataFrame({\"properties \":properties, \n",
    "                      'valeurs':data,\n",
    "                      \"valeurs_pupchem\":data1})\n",
    "df_HF.set_index(\"properties \", inplace=True)### <a id='toc1_3_'></a>[CONSIGNE](#toc0_)\n",
    "\n",
    "df_HF"
   ]
  },
  {
   "cell_type": "markdown",
   "metadata": {},
   "source": [
    "Les informations présentes dans le DataFrame Pandas sont :\n",
    "\n",
    "* **Poids_Mol** : Il s'agit du poids moléculaire de la molécule, exprimé en grammes par mole (g/mol). C'est la masse totale de la molécule qui est de 84.14 g/mol, ce qui est équivalent à celle de PubChem estimée à 84.14 g/mol.\n",
    "\n",
    "* **poids_mol_moy** : Il s'agit du poids moléculaire moyen, calculé en prenant en compte la distribution isotopique des atomes. La valeur est de 84.00337130 g/mol, qui est légèrement différente du poids moléculaire brut.\n",
    "\n",
    "* **LogP** : Il s'agit du coefficient de partage octanol/eau (logP) de la molécule. Un coefficient de partage octanol/eau (logP) de 1.81 suggère une légère hydrophobicité (tendance d'une substance à repousser ou à éviter l'eau) pour la molécule, ce qui est l'aptitude de la molécule à traverser les membranes biologiques.\n",
    "\n",
    "* **TPSA** : Il s'agit de la surface polaire totale (Total Polar Surface Area) de la molécule, exprimée en Å² (angstroms carrés). C'est une mesure de la surface de la molécule qui est polaire et capable d'interactions avec des solvants polaires. Sa valeur ici est de 41.1 Å².\n",
    "\n",
    "* **hbd** : Il s'agit du nombre de donneurs de liaisons hydrogène (hydrogen bond donors) dans la molécule. Cela compte le nombre d'atomes d'hydrogène liés à des atomes d'oxygène, d'azote ou de soufre, qui peuvent former des liaisons hydrogène. Dans le cas de la molécule de thiophène, les atomes d'hydrogène n'ont que des liaisons avec les atomes de carbone, donc la valeur de hbd est 0.\n",
    "\n",
    "* **hba** : Il s'agit du nombre d'accepteurs de liaisons hydrogène (hydrogen bond acceptors) dans la molécule. Cela compte le nombre d'atomes d'oxygène, d'azote ou de soufre dans la molécule, qui peuvent accepter des liaisons hydrogène. Dans notre molécule, nous avons uniquement un atome de soufre, d'où la valeur de hba est 1.\n"
   ]
  },
  {
   "cell_type": "markdown",
   "metadata": {},
   "source": [
    "### Structure 3D"
   ]
  },
  {
   "cell_type": "code",
   "execution_count": 5,
   "metadata": {},
   "outputs": [
    {
     "data": {
      "text/plain": [
       "'2.8.0'"
      ]
     },
     "execution_count": 5,
     "metadata": {},
     "output_type": "execute_result"
    }
   ],
   "source": [
    "import pyscf\n",
    "\n",
    "pyscf.__version__"
   ]
  },
  {
   "cell_type": "code",
   "execution_count": 6,
   "metadata": {},
   "outputs": [],
   "source": [
    "with open('molecules_xyz.txt', 'r') as source_file:\n",
    "    # Lire le contenu du fichier source ligne par ligne\n",
    "    lines = source_file.readlines()\n",
    "    \n",
    "    # Extraire les lignes souhaitées\n",
    "    extracted_lines = lines[80:90]  # Exemple : extraire les lignes 3 à 5\n",
    "    \n",
    "# Ouvrir le fichier de destination en écriture\n",
    "with open('Tiophene.txt', 'w') as destination_file:\n",
    "    # Écrire les lignes extraites dans le fichier de destination\n",
    "    for line in extracted_lines:\n",
    "        destination_file.write(line)"
   ]
  },
  {
   "cell_type": "code",
   "execution_count": 7,
   "metadata": {},
   "outputs": [
    {
     "name": "stdout",
     "output_type": "stream",
     "text": [
      "System: uname_result(system='Linux', node='marshall-HP-ProBook-455-G8-Notebook-PC', release='6.8.0-51-generic', version='#52-Ubuntu SMP PREEMPT_DYNAMIC Thu Dec  5 13:09:44 UTC 2024', machine='x86_64')  Threads 12\n",
      "Python 3.11.7 (main, Dec 15 2023, 18:12:31) [GCC 11.2.0]\n",
      "numpy 1.26.4  scipy 1.11.4  h5py 3.9.0\n",
      "Date: Sun Feb 23 00:04:34 2025\n",
      "PySCF version 2.8.0\n",
      "PySCF path  /home/marshall/anaconda3/lib/python3.11/site-packages/pyscf\n",
      "\n",
      "[CONFIG] conf_file None\n",
      "[INPUT] verbose = 4\n",
      "[INPUT] num. atoms = 9\n",
      "[INPUT] num. electrons = 44\n",
      "[INPUT] charge = 0\n",
      "[INPUT] spin (= nelec alpha-beta = 2S) = 0\n",
      "[INPUT] symmetry True subgroup None\n",
      "[INPUT] Mole.unit = angstrom\n",
      "[INPUT] Symbol           X                Y                Z      unit          X                Y                Z       unit  Magmom\n",
      "[INPUT]  1 C      1.226800000000   0.146600000000   0.000000000000 AA    2.318316009616   0.277033849861   0.000000000000 Bohr   0.0\n",
      "[INPUT]  2 C      0.919900000000  -1.184200000000   0.000000000000 AA    1.738359061987  -2.237813676710   0.000000000000 Bohr   0.0\n",
      "[INPUT]  3 C     -0.497800000000  -1.414400000000   0.000000000000 AA   -0.940705664808  -2.672828630585   0.000000000000 Bohr   0.0\n",
      "[INPUT]  4 C     -1.210200000000  -0.249100000000   0.000000000000 AA   -2.286946555949  -0.470730777629   0.000000000000 Bohr   0.0\n",
      "[INPUT]  5 S     -0.184800000000   1.137800000000   0.000000000000 AA   -0.349221387820   2.150130384530   0.000000000000 Bohr   0.0\n",
      "[INPUT]  6 H      2.231000000000   0.566500000000   0.000000000000 AA    4.215978983905   1.070529849566   0.000000000000 Bohr   0.0\n",
      "[INPUT]  7 H      1.648900000000  -1.994600000000   0.000000000000 AA    3.115969406795  -3.769247728057   0.000000000000 Bohr   0.0\n",
      "[INPUT]  8 H     -0.933200000000  -2.413700000000   0.000000000000 AA   -1.763492419444  -4.561231946863   0.000000000000 Bohr   0.0\n",
      "[INPUT]  9 H     -2.295600000000  -0.168500000000   0.000000000000 AA   -4.338055291552  -0.318418851989   0.000000000000 Bohr   0.0\n",
      "\n",
      "nuclear repulsion = 202.028374488809\n",
      "point group symmetry = Cs\n",
      "symmetry origin: [ 0.01402263 -0.08641632  0.        ]\n",
      "symmetry axis x: [0.98704691 0.16043189 0.        ]\n",
      "symmetry axis y: [-0.16043189  0.98704691  0.        ]\n",
      "symmetry axis z: [0. 0. 1.]\n",
      "num. orbitals of irrep A' = 69\n",
      "num. orbitals of irrep A\" = 25\n",
      "number of shells = 37\n",
      "number of NR pGTOs = 173\n",
      "number of NR cGTOs = 94\n",
      "basis = cc-pVDZ\n",
      "ecp = {}\n",
      "CPU time:         1.07\n"
     ]
    },
    {
     "data": {
      "application/3dmoljs_load.v0": "<div id=\"3dmolviewer_17402654744756575\"  style=\"position: relative; width: 300px; height: 300px;\">\n        <p id=\"3dmolwarning_17402654744756575\" style=\"background-color:#ffcccc;color:black\">3Dmol.js failed to load for some reason.  Please check your browser console for error messages.<br></p>\n        </div>\n<script>\n\nvar loadScriptAsync = function(uri){\n  return new Promise((resolve, reject) => {\n    //this is to ignore the existence of requirejs amd\n    var savedexports, savedmodule;\n    if (typeof exports !== 'undefined') savedexports = exports;\n    else exports = {}\n    if (typeof module !== 'undefined') savedmodule = module;\n    else module = {}\n\n    var tag = document.createElement('script');\n    tag.src = uri;\n    tag.async = true;\n    tag.onload = () => {\n        exports = savedexports;\n        module = savedmodule;\n        resolve();\n    };\n  var firstScriptTag = document.getElementsByTagName('script')[0];\n  firstScriptTag.parentNode.insertBefore(tag, firstScriptTag);\n});\n};\n\nif(typeof $3Dmolpromise === 'undefined') {\n$3Dmolpromise = null;\n  $3Dmolpromise = loadScriptAsync('https://cdnjs.cloudflare.com/ajax/libs/3Dmol/2.4.0/3Dmol-min.js');\n}\n\nvar viewer_17402654744756575 = null;\nvar warn = document.getElementById(\"3dmolwarning_17402654744756575\");\nif(warn) {\n    warn.parentNode.removeChild(warn);\n}\n$3Dmolpromise.then(function() {\nviewer_17402654744756575 = $3Dmol.createViewer(document.getElementById(\"3dmolviewer_17402654744756575\"),{backgroundColor:\"white\"});\nviewer_17402654744756575.zoomTo();\n\tviewer_17402654744756575.addModel(\"9\\nXYZ from PySCF\\nC           1.22680        0.14660        0.00000\\nC           0.91990       -1.18420        0.00000\\nC          -0.49780       -1.41440        0.00000\\nC          -1.21020       -0.24910        0.00000\\nS          -0.18480        1.13780        0.00000\\nH           2.23100        0.56650        0.00000\\nH           1.64890       -1.99460        0.00000\\nH          -0.93320       -2.41370        0.00000\\nH          -2.29560       -0.16850        0.00000\",\"xyz\");\n\tviewer_17402654744756575.setStyle({\"stick\": {}});\n\tviewer_17402654744756575.zoomTo();\nviewer_17402654744756575.render();\n});\n</script>",
      "text/html": [
       "<div id=\"3dmolviewer_17402654744756575\"  style=\"position: relative; width: 300px; height: 300px;\">\n",
       "        <p id=\"3dmolwarning_17402654744756575\" style=\"background-color:#ffcccc;color:black\">3Dmol.js failed to load for some reason.  Please check your browser console for error messages.<br></p>\n",
       "        </div>\n",
       "<script>\n",
       "\n",
       "var loadScriptAsync = function(uri){\n",
       "  return new Promise((resolve, reject) => {\n",
       "    //this is to ignore the existence of requirejs amd\n",
       "    var savedexports, savedmodule;\n",
       "    if (typeof exports !== 'undefined') savedexports = exports;\n",
       "    else exports = {}\n",
       "    if (typeof module !== 'undefined') savedmodule = module;\n",
       "    else module = {}\n",
       "\n",
       "    var tag = document.createElement('script');\n",
       "    tag.src = uri;\n",
       "    tag.async = true;\n",
       "    tag.onload = () => {\n",
       "        exports = savedexports;\n",
       "        module = savedmodule;\n",
       "        resolve();\n",
       "    };\n",
       "  var firstScriptTag = document.getElementsByTagName('script')[0];\n",
       "  firstScriptTag.parentNode.insertBefore(tag, firstScriptTag);\n",
       "});\n",
       "};\n",
       "\n",
       "if(typeof $3Dmolpromise === 'undefined') {\n",
       "$3Dmolpromise = null;\n",
       "  $3Dmolpromise = loadScriptAsync('https://cdnjs.cloudflare.com/ajax/libs/3Dmol/2.4.0/3Dmol-min.js');\n",
       "}\n",
       "\n",
       "var viewer_17402654744756575 = null;\n",
       "var warn = document.getElementById(\"3dmolwarning_17402654744756575\");\n",
       "if(warn) {\n",
       "    warn.parentNode.removeChild(warn);\n",
       "}\n",
       "$3Dmolpromise.then(function() {\n",
       "viewer_17402654744756575 = $3Dmol.createViewer(document.getElementById(\"3dmolviewer_17402654744756575\"),{backgroundColor:\"white\"});\n",
       "viewer_17402654744756575.zoomTo();\n",
       "\tviewer_17402654744756575.addModel(\"9\\nXYZ from PySCF\\nC           1.22680        0.14660        0.00000\\nC           0.91990       -1.18420        0.00000\\nC          -0.49780       -1.41440        0.00000\\nC          -1.21020       -0.24910        0.00000\\nS          -0.18480        1.13780        0.00000\\nH           2.23100        0.56650        0.00000\\nH           1.64890       -1.99460        0.00000\\nH          -0.93320       -2.41370        0.00000\\nH          -2.29560       -0.16850        0.00000\",\"xyz\");\n",
       "\tviewer_17402654744756575.setStyle({\"stick\": {}});\n",
       "\tviewer_17402654744756575.zoomTo();\n",
       "viewer_17402654744756575.render();\n",
       "});\n",
       "</script>"
      ]
     },
     "metadata": {},
     "output_type": "display_data"
    }
   ],
   "source": [
    "\n",
    "from pyscf import gto\n",
    "import py3Dmol\n",
    "\n",
    "with open('Tiophene.txt', 'r') as file:\n",
    "    lines = file.readlines()[1:] \n",
    "    mol_xyz = ''.join(lines).strip()\n",
    "\n",
    "mol = gto.M(\n",
    "    atom=mol_xyz, \n",
    "    basis=\"cc-pVDZ\", # choix de la base \n",
    "    verbose=4,\n",
    "    charge=0,      # 0 par défaut\n",
    "    spin=0,        # 0 par défaut, défini comme (n_up - n_down)\n",
    "    symmetry=True, # False par défaut\n",
    ")\n",
    "\n",
    "\n",
    "# 3D representation\n",
    "xyz_view = py3Dmol.view(width=300,height=300)\n",
    "xyz_view.addModel(mol.tostring(format=\"xyz\"),'xyz')\n",
    "xyz_view.setStyle({'stick':{}})\n",
    "xyz_view.zoomTo()\n",
    "xyz_view.show()\n"
   ]
  },
  {
   "cell_type": "code",
   "execution_count": 8,
   "metadata": {},
   "outputs": [
    {
     "data": {
      "text/plain": [
       "<pyscf.gto.mole.Mole at 0x72b799dc8b10>"
      ]
     },
     "execution_count": 8,
     "metadata": {},
     "output_type": "execute_result"
    }
   ],
   "source": [
    "# creation de l'objet mol.\n",
    "mol.build()"
   ]
  },
  {
   "cell_type": "markdown",
   "metadata": {},
   "source": [
    "print(f'Le nombre total d\\'électrons est {mol.nelectron} et le nombre total d\\'électrons (alpha, béta) est {mol.nelec}')\n",
    "print(f'Le nombre d\\'orbitales atomiques, dans la base {mol.basis}, est {mol.nao_nr()}')\n",
    "print(f'L\\'énergie nucléaire vaut {mol.energy_nuc()} Hartrees')"
   ]
  },
  {
   "cell_type": "markdown",
   "metadata": {},
   "source": [
    "### Calcul  Hartree Fock et DFT"
   ]
  },
  {
   "cell_type": "markdown",
   "metadata": {},
   "source": [
    "- **Cacul Hatree Fock**"
   ]
  },
  {
   "cell_type": "markdown",
   "metadata": {},
   "source": [
    "#### <a id='toc1_4_2_'></a>[Création d'un objet mean-field (mf) avec (`scf.RHF(Restricted Hartree – Fock)`)](#toc0_)"
   ]
  },
  {
   "cell_type": "code",
   "execution_count": 9,
   "metadata": {},
   "outputs": [
    {
     "name": "stdout",
     "output_type": "stream",
     "text": [
      "\n",
      "\n",
      "******** <class 'pyscf.scf.hf_symm.SymAdaptedRHF'> ********\n",
      "method = SymAdaptedRHF\n",
      "initial guess = minao\n",
      "damping factor = 0\n",
      "level_shift factor = 0\n",
      "DIIS = <class 'pyscf.scf.diis.CDIIS'>\n",
      "diis_start_cycle = 1\n",
      "diis_space = 8\n",
      "diis_damp = 0\n",
      "SCF conv_tol = 1e-09\n",
      "SCF conv_tol_grad = None\n",
      "SCF max_cycles = 50\n",
      "direct_scf = True\n",
      "direct_scf_tol = 1e-13\n",
      "chkfile to save SCF result = /tmp/tmp6gxuj7in\n",
      "max_memory 4000 MB (current use 262 MB)\n",
      "Freeze 0 electrons in irreps []\n",
      "    44 free electrons in irreps A' A\"\n",
      "Set gradient conv threshold to 3.16228e-05\n",
      "Initial guess from minao.\n",
      "init E= -552.675417259048\n",
      "HOMO (A\") = -0.209046814314051  LUMO (A\") = 0.0422897016538656\n",
      "cycle= 1 E= -551.263381273686  delta_E= 1.41  |g|= 0.364  |ddm|= 2.95\n",
      "HOMO (A\") = -0.358283921854614  LUMO (A\") = 0.0984112891236539\n",
      "cycle= 2 E= -551.313552490765  delta_E= -0.0502  |g|= 0.136  |ddm|= 0.493\n",
      "HOMO (A\") = -0.315604264855824  LUMO (A\") = 0.132127103863036\n",
      "cycle= 3 E= -551.319124531627  delta_E= -0.00557  |g|= 0.0574  |ddm|= 0.187\n",
      "HOMO (A\") = -0.326037287119927  LUMO (A\") = 0.126524424563692\n",
      "cycle= 4 E= -551.320342012174  delta_E= -0.00122  |g|= 0.00833  |ddm|= 0.0841\n",
      "HOMO (A\") = -0.326367217638448  LUMO (A\") = 0.126242281403403\n",
      "cycle= 5 E= -551.320401614754  delta_E= -5.96e-05  |g|= 0.00331  |ddm|= 0.0198\n",
      "HOMO (A\") = -0.326003478881505  LUMO (A\") = 0.12661028720213\n",
      "cycle= 6 E= -551.320414767045  delta_E= -1.32e-05  |g|= 0.00207  |ddm|= 0.0089\n",
      "HOMO (A\") = -0.32610663882867  LUMO (A\") = 0.126625011370073\n",
      "cycle= 7 E= -551.320418105849  delta_E= -3.34e-06  |g|= 0.000562  |ddm|= 0.00479\n",
      "HOMO (A\") = -0.326119007873722  LUMO (A\") = 0.126664293927234\n",
      "cycle= 8 E= -551.320418613989  delta_E= -5.08e-07  |g|= 0.000114  |ddm|= 0.00254\n",
      "HOMO (A\") = -0.326133792236156  LUMO (A\") = 0.126668845001725\n",
      "cycle= 9 E= -551.320418629189  delta_E= -1.52e-08  |g|= 2.33e-05  |ddm|= 0.000441\n",
      "HOMO (A\") = -0.326135079623413  LUMO (A\") = 0.126669545383429\n",
      "cycle= 10 E= -551.320418629669  delta_E= -4.8e-10  |g|= 7.03e-06  |ddm|= 6.25e-05\n",
      "HOMO (A\") = -0.326134783753432  LUMO (A\") = 0.126670466730535\n",
      "Extra cycle  E= -551.320418629698  delta_E= -2.91e-11  |g|= 2.87e-06  |ddm|= 1.13e-05\n",
      "converged SCF energy = -551.320418629698\n"
     ]
    },
    {
     "data": {
      "text/plain": [
       "<pyscf.scf.hf_symm.SymAdaptedRHF at 0x72b7a9aa0950>"
      ]
     },
     "execution_count": 9,
     "metadata": {},
     "output_type": "execute_result"
    }
   ],
   "source": [
    "from pyscf import scf\n",
    "\n",
    "mf = scf.RHF(mol) # Create a PySCF HF mean-field object\n",
    "mf.x2c().density_fit() # To speed up calculations\n",
    "mf.run()"
   ]
  },
  {
   "cell_type": "markdown",
   "metadata": {},
   "source": [
    "- **Calcul DFT**\n",
    "  \n",
    "Ici, nous effectuons le calcul pour différentes fonctionnelles dans le but d'identifier la mieux adapter pour notre molécule. "
   ]
  },
  {
   "cell_type": "markdown",
   "metadata": {},
   "source": [
    "les fonctionnelles utilisées seront **B3LYP**, **B3PW91**, **BLYP**, **B1B95**"
   ]
  },
  {
   "cell_type": "code",
   "execution_count": 10,
   "metadata": {},
   "outputs": [
    {
     "name": "stdout",
     "output_type": "stream",
     "text": [
      "\n",
      "\n",
      "******** <class 'pyscf.dft.rks_symm.SymAdaptedRKS'> ********\n",
      "method = SymAdaptedRKS\n",
      "initial guess = minao\n",
      "damping factor = 0\n",
      "level_shift factor = 0\n",
      "DIIS = <class 'pyscf.scf.diis.CDIIS'>\n",
      "diis_start_cycle = 1\n",
      "diis_space = 8\n",
      "diis_damp = 0\n",
      "SCF conv_tol = 1e-09\n",
      "SCF conv_tol_grad = None\n",
      "SCF max_cycles = 50\n",
      "direct_scf = True\n",
      "direct_scf_tol = 1e-13\n",
      "chkfile to save SCF result = /tmp/tmpfpr8423v\n",
      "max_memory 4000 MB (current use 364 MB)\n",
      "XC library pyscf.dft.libxc version 7.0.0\n",
      "    S. Lehtola, C. Steigemann, M. J.T. Oliveira, and M. A.L. Marques.,  SoftwareX 7, 1–5 (2018)\n",
      "XC functionals = B3LYP\n",
      "    P. J. Stephens, F. J. Devlin, C. F. Chabalowski, and M. J. Frisch.,  J. Phys. Chem. 98, 11623 (1994)\n",
      "radial grids: \n",
      "    Treutler-Ahlrichs [JCP 102, 346 (1995); DOI:10.1063/1.469408] (M4) radial grids\n",
      "    \n",
      "becke partition: Becke, JCP 88, 2547 (1988); DOI:10.1063/1.454033\n",
      "pruning grids: <function nwchem_prune at 0x72b79215a660>\n",
      "grids dens level: 3\n",
      "symmetrized grids: True\n",
      "atomic radii adjust function: <function treutler_atomic_radii_adjust at 0x72b79215a5c0>\n",
      "small_rho_cutoff = 1e-07\n",
      "Freeze 0 electrons in irreps []\n",
      "    44 free electrons in irreps A' A\"\n",
      "Set gradient conv threshold to 3.16228e-05\n",
      "Initial guess from minao.\n"
     ]
    },
    {
     "name": "stderr",
     "output_type": "stream",
     "text": [
      "/home/marshall/anaconda3/lib/python3.11/site-packages/pyscf/dft/libxc.py:512: UserWarning: Since PySCF-2.3, B3LYP (and B3P86) are changed to the VWN-RPA variant, corresponding to the original definition by Stephens et al. (issue 1480) and the same as the B3LYP functional in Gaussian. To restore the VWN5 definition, you can put the setting \"B3LYP_WITH_VWN5 = True\" in pyscf_conf.py\n",
      "  warnings.warn('Since PySCF-2.3, B3LYP (and B3P86) are changed to the VWN-RPA variant, '\n"
     ]
    },
    {
     "name": "stdout",
     "output_type": "stream",
     "text": [
      "tot grids = 114584\n",
      "init E= -553.811235114917\n",
      "HOMO (A\") = -0.274489078244764  LUMO (A\") = -0.0828366386883128\n",
      "cycle= 1 E= -553.000485040261  delta_E= 0.811  |g|= 0.329  |ddm|= 3.16\n",
      "HOMO (A\") = -0.186944382251093  LUMO (A\") = 0.0276007472174611\n",
      "cycle= 2 E= -552.965101902998  delta_E= 0.0354  |g|= 0.479  |ddm|= 0.803\n",
      "HOMO (A\") = -0.234090276067275  LUMO (A\") = -0.00700485457678856\n",
      "cycle= 3 E= -553.029788574695  delta_E= -0.0647  |g|= 0.0781  |ddm|= 0.561\n",
      "HOMO (A\") = -0.240425782999857  LUMO (A\") = -0.0143680880853805\n",
      "cycle= 4 E= -553.031569088058  delta_E= -0.00178  |g|= 0.0278  |ddm|= 0.113\n",
      "HOMO (A\") = -0.238054945842206  LUMO (A\") = -0.0125389300366192\n",
      "cycle= 5 E= -553.031759124066  delta_E= -0.00019  |g|= 0.00876  |ddm|= 0.0288\n",
      "HOMO (A\") = -0.238361182461748  LUMO (A\") = -0.0124240075046361\n",
      "cycle= 6 E= -553.031779215269  delta_E= -2.01e-05  |g|= 0.00217  |ddm|= 0.00934\n",
      "HOMO (A\") = -0.238336674973534  LUMO (A\") = -0.0124464239893141\n",
      "cycle= 7 E= -553.031780453041  delta_E= -1.24e-06  |g|= 0.000115  |ddm|= 0.00195\n",
      "HOMO (A\") = -0.238329804992671  LUMO (A\") = -0.0124357896675448\n",
      "cycle= 8 E= -553.031780457188  delta_E= -4.15e-09  |g|= 2.14e-05  |ddm|= 0.000144\n",
      "HOMO (A\") = -0.238329833902904  LUMO (A\") = -0.0124358648517237\n",
      "cycle= 9 E= -553.031780457314  delta_E= -1.26e-10  |g|= 1.3e-05  |ddm|= 3.98e-05\n",
      "HOMO (A\") = -0.23832974676248  LUMO (A\") = -0.0124357112864112\n",
      "Extra cycle  E= -553.031780457151  delta_E= 1.63e-10  |g|= 2.72e-05  |ddm|= 3.73e-05\n",
      "converged SCF energy = -553.031780457151\n"
     ]
    }
   ],
   "source": [
    "#B3LYP\n",
    "# Initialize the dictionary to store the energies and reference values\n",
    "from pyscf import dft\n",
    "\n",
    "start = time.time()\n",
    "mdf=dft.RKS(mol, xc=\"B3LYP\").run() \n",
    "mdf_time = time.time() - start"
   ]
  },
  {
   "cell_type": "code",
   "execution_count": 11,
   "metadata": {},
   "outputs": [
    {
     "name": "stdout",
     "output_type": "stream",
     "text": [
      "\n",
      "\n",
      "******** <class 'pyscf.dft.rks_symm.SymAdaptedRKS'> ********\n",
      "method = SymAdaptedRKS\n",
      "initial guess = minao\n",
      "damping factor = 0\n",
      "level_shift factor = 0\n",
      "DIIS = <class 'pyscf.scf.diis.CDIIS'>\n",
      "diis_start_cycle = 1\n",
      "diis_space = 8\n",
      "diis_damp = 0\n",
      "SCF conv_tol = 1e-09\n",
      "SCF conv_tol_grad = None\n",
      "SCF max_cycles = 50\n",
      "direct_scf = True\n",
      "direct_scf_tol = 1e-13\n",
      "chkfile to save SCF result = /tmp/tmpz0alll97\n",
      "max_memory 4000 MB (current use 502 MB)\n",
      "XC library pyscf.dft.libxc version 7.0.0\n",
      "    S. Lehtola, C. Steigemann, M. J.T. Oliveira, and M. A.L. Marques.,  SoftwareX 7, 1–5 (2018)\n",
      "XC functionals = B3PW91\n",
      "    A. D. Becke.,  J. Chem. Phys. 98, 5648 (1993)\n",
      "radial grids: \n",
      "    Treutler-Ahlrichs [JCP 102, 346 (1995); DOI:10.1063/1.469408] (M4) radial grids\n",
      "    \n",
      "becke partition: Becke, JCP 88, 2547 (1988); DOI:10.1063/1.454033\n",
      "pruning grids: <function nwchem_prune at 0x72b79215a660>\n",
      "grids dens level: 3\n",
      "symmetrized grids: True\n",
      "atomic radii adjust function: <function treutler_atomic_radii_adjust at 0x72b79215a5c0>\n",
      "small_rho_cutoff = 1e-07\n",
      "Freeze 0 electrons in irreps []\n",
      "    44 free electrons in irreps A' A\"\n",
      "Set gradient conv threshold to 3.16228e-05\n",
      "Initial guess from minao.\n",
      "tot grids = 114584\n",
      "init E= -553.707343725339\n",
      "HOMO (A\") = -0.278782393801518  LUMO (A\") = -0.0859269364400848\n",
      "cycle= 1 E= -552.898364782722  delta_E= 0.809  |g|= 0.314  |ddm|= 3.13\n",
      "HOMO (A\") = -0.19391068267706  LUMO (A\") = 0.0222293869284032\n",
      "cycle= 2 E= -552.866727082058  delta_E= 0.0316  |g|= 0.455  |ddm|= 0.737\n",
      "HOMO (A\") = -0.237978832274533  LUMO (A\") = -0.0098762927924763\n",
      "cycle= 3 E= -552.924829596511  delta_E= -0.0581  |g|= 0.076  |ddm|= 0.521\n",
      "HOMO (A\") = -0.244126866161623  LUMO (A\") = -0.0169653010175704\n",
      "cycle= 4 E= -552.926548542084  delta_E= -0.00172  |g|= 0.0247  |ddm|= 0.106\n",
      "HOMO (A\") = -0.241999980139852  LUMO (A\") = -0.0153789028324294\n",
      "cycle= 5 E= -552.92669700463  delta_E= -0.000148  |g|= 0.00799  |ddm|= 0.0257\n",
      "HOMO (A\") = -0.242306764536078  LUMO (A\") = -0.0152979877441291\n",
      "cycle= 6 E= -552.926713801794  delta_E= -1.68e-05  |g|= 0.00199  |ddm|= 0.0086\n",
      "HOMO (A\") = -0.242277156959448  LUMO (A\") = -0.0153140328556901\n",
      "cycle= 7 E= -552.926714845568  delta_E= -1.04e-06  |g|= 0.000103  |ddm|= 0.00177\n",
      "HOMO (A\") = -0.24227094248543  LUMO (A\") = -0.0153047873454249\n",
      "cycle= 8 E= -552.926714848837  delta_E= -3.27e-09  |g|= 1.96e-05  |ddm|= 0.000128\n",
      "HOMO (A\") = -0.24227086953842  LUMO (A\") = -0.0153049109209115\n",
      "cycle= 9 E= -552.926714848938  delta_E= -1.01e-10  |g|= 1.16e-05  |ddm|= 3.49e-05\n",
      "HOMO (A\") = -0.242270643565631  LUMO (A\") = -0.0153046866787506\n",
      "Extra cycle  E= -552.926714848807  delta_E= 1.31e-10  |g|= 2.43e-05  |ddm|= 3.32e-05\n",
      "converged SCF energy = -552.926714848807\n"
     ]
    }
   ],
   "source": [
    "#B3PW91\n",
    "# Initialize the dictionary to store the energies and reference values\n",
    "from pyscf import dft\n",
    "\n",
    "start = time.time()\n",
    "mdf=dft.RKS(mol, xc=\"B3PW91\").run() \n",
    "mdf1_time = time.time() - start"
   ]
  },
  {
   "cell_type": "code",
   "execution_count": 12,
   "metadata": {},
   "outputs": [
    {
     "name": "stdout",
     "output_type": "stream",
     "text": [
      "\n",
      "\n",
      "******** <class 'pyscf.dft.rks_symm.SymAdaptedRKS'> ********\n",
      "method = SymAdaptedRKS\n",
      "initial guess = minao\n",
      "damping factor = 0\n",
      "level_shift factor = 0\n",
      "DIIS = <class 'pyscf.scf.diis.CDIIS'>\n",
      "diis_start_cycle = 1\n",
      "diis_space = 8\n",
      "diis_damp = 0\n",
      "SCF conv_tol = 1e-09\n",
      "SCF conv_tol_grad = None\n",
      "SCF max_cycles = 50\n",
      "direct_scf = True\n",
      "direct_scf_tol = 1e-13\n",
      "chkfile to save SCF result = /tmp/tmp71woyqml\n",
      "max_memory 4000 MB (current use 508 MB)\n",
      "XC library pyscf.dft.libxc version 7.0.0\n",
      "    S. Lehtola, C. Steigemann, M. J.T. Oliveira, and M. A.L. Marques.,  SoftwareX 7, 1–5 (2018)\n",
      "XC functionals = B1B95\n",
      "    A. D. Becke.,  J. Chem. Phys. 104, 1040 (1996)\n",
      "radial grids: \n",
      "    Treutler-Ahlrichs [JCP 102, 346 (1995); DOI:10.1063/1.469408] (M4) radial grids\n",
      "    \n",
      "becke partition: Becke, JCP 88, 2547 (1988); DOI:10.1063/1.454033\n",
      "pruning grids: <function nwchem_prune at 0x72b79215a660>\n",
      "grids dens level: 3\n",
      "symmetrized grids: True\n",
      "atomic radii adjust function: <function treutler_atomic_radii_adjust at 0x72b79215a5c0>\n",
      "small_rho_cutoff = 1e-07\n",
      "Freeze 0 electrons in irreps []\n",
      "    44 free electrons in irreps A' A\"\n",
      "Set gradient conv threshold to 3.16228e-05\n",
      "Initial guess from minao.\n",
      "tot grids = 114584\n",
      "init E= -553.839475771407\n",
      "HOMO (A\") = -0.270791170632818  LUMO (A\") = -0.0741733737746779\n",
      "cycle= 1 E= -552.970869008555  delta_E= 0.869  |g|= 0.287  |ddm|= 3.11\n",
      "HOMO (A\") = -0.20703460744161  LUMO (A\") = 0.0314886765616425\n",
      "cycle= 2 E= -552.955733398645  delta_E= 0.0151  |g|= 0.37  |ddm|= 0.629\n",
      "HOMO (A\") = -0.245672911087287  LUMO (A\") = 0.00318486441646951\n",
      "cycle= 3 E= -552.993531389015  delta_E= -0.0378  |g|= 0.0664  |ddm|= 0.421\n",
      "HOMO (A\") = -0.250538584828436  LUMO (A\") = -0.00277602745965006\n",
      "cycle= 4 E= -552.994801841059  delta_E= -0.00127  |g|= 0.0237  |ddm|= 0.0947\n",
      "HOMO (A\") = -0.247993138656616  LUMO (A\") = -0.00061737019576735\n",
      "cycle= 5 E= -552.99494483592  delta_E= -0.000143  |g|= 0.00701  |ddm|= 0.0246\n",
      "HOMO (A\") = -0.24835953878895  LUMO (A\") = -0.000619670684450669\n",
      "cycle= 6 E= -552.99495774378  delta_E= -1.29e-05  |g|= 0.00172  |ddm|= 0.00747\n",
      "HOMO (A\") = -0.248306710176348  LUMO (A\") = -0.00061830609806877\n",
      "cycle= 7 E= -552.994958510111  delta_E= -7.66e-07  |g|= 0.000128  |ddm|= 0.00152\n",
      "HOMO (A\") = -0.248303637253146  LUMO (A\") = -0.000611828361649496\n",
      "cycle= 8 E= -552.994958515593  delta_E= -5.48e-09  |g|= 1.83e-05  |ddm|= 0.000169\n",
      "HOMO (A\") = -0.248302582532563  LUMO (A\") = -0.000611028400271852\n",
      "cycle= 9 E= -552.994958515721  delta_E= -1.27e-10  |g|= 8.34e-06  |ddm|= 3.66e-05\n",
      "HOMO (A\") = -0.248302716607712  LUMO (A\") = -0.000610958211240143\n",
      "Extra cycle  E= -552.994958515674  delta_E= 4.64e-11  |g|= 1.54e-05  |ddm|= 2.18e-05\n",
      "converged SCF energy = -552.994958515674\n"
     ]
    }
   ],
   "source": [
    "#B1B95\n",
    "# Initialize the dictionary to store the energies and reference values\n",
    "from pyscf import dft\n",
    "\n",
    "start = time.time()\n",
    "mdf=dft.RKS(mol, xc=\"B1B95\").run() \n",
    "mdf3_time = time.time() - start"
   ]
  },
  {
   "cell_type": "code",
   "execution_count": 13,
   "metadata": {},
   "outputs": [
    {
     "name": "stdout",
     "output_type": "stream",
     "text": [
      "\n",
      "\n",
      "******** <class 'pyscf.dft.rks_symm.SymAdaptedRKS'> ********\n",
      "method = SymAdaptedRKS\n",
      "initial guess = minao\n",
      "damping factor = 0\n",
      "level_shift factor = 0\n",
      "DIIS = <class 'pyscf.scf.diis.CDIIS'>\n",
      "diis_start_cycle = 1\n",
      "diis_space = 8\n",
      "diis_damp = 0\n",
      "SCF conv_tol = 1e-09\n",
      "SCF conv_tol_grad = None\n",
      "SCF max_cycles = 50\n",
      "direct_scf = True\n",
      "direct_scf_tol = 1e-13\n",
      "chkfile to save SCF result = /tmp/tmptfxs1oao\n",
      "max_memory 4000 MB (current use 523 MB)\n",
      "XC library pyscf.dft.libxc version 7.0.0\n",
      "    S. Lehtola, C. Steigemann, M. J.T. Oliveira, and M. A.L. Marques.,  SoftwareX 7, 1–5 (2018)\n",
      "XC functionals = BLYP\n",
      "    A. D. Becke.,  Phys. Rev. A 38, 3098 (1988)\n",
      "    C. Lee, W. Yang, and R. G. Parr.,  Phys. Rev. B 37, 785 (1988)\n",
      "    B. Miehlich, A. Savin, H. Stoll, and H. Preuss.,  Chem. Phys. Lett. 157, 200 (1989)\n",
      "radial grids: \n",
      "    Treutler-Ahlrichs [JCP 102, 346 (1995); DOI:10.1063/1.469408] (M4) radial grids\n",
      "    \n",
      "becke partition: Becke, JCP 88, 2547 (1988); DOI:10.1063/1.454033\n",
      "pruning grids: <function nwchem_prune at 0x72b79215a660>\n",
      "grids dens level: 3\n",
      "symmetrized grids: True\n",
      "atomic radii adjust function: <function treutler_atomic_radii_adjust at 0x72b79215a5c0>\n",
      "small_rho_cutoff = 1e-07\n",
      "Freeze 0 electrons in irreps []\n",
      "    44 free electrons in irreps A' A\"\n",
      "Set gradient conv threshold to 3.16228e-05\n",
      "Initial guess from minao.\n",
      "tot grids = 114584\n",
      "init E= -553.569102760717\n",
      "HOMO (A\") = -0.273467847410223  LUMO (A\") = -0.0968786628573603\n",
      "cycle= 1 E= -552.873615146444  delta_E= 0.695  |g|= 0.468  |ddm|= 3.26\n",
      "HOMO (A\") = -0.119428750826975  LUMO (A\") = 0.0344780653900262\n",
      "cycle= 2 E= -552.697224257866  delta_E= 0.176  |g|= 0.896  |ddm|= 1.48\n",
      "HOMO (A\") = -0.191922269502826  LUMO (A\") = -0.0206601340412398\n",
      "cycle= 3 E= -552.929023755277  delta_E= -0.232  |g|= 0.162  |ddm|= 1.16\n",
      "HOMO (A\") = -0.202236003531148  LUMO (A\") = -0.0330213596660888\n",
      "cycle= 4 E= -552.937117977616  delta_E= -0.00809  |g|= 0.0519  |ddm|= 0.231\n",
      "HOMO (A\") = -0.199827321733735  LUMO (A\") = -0.0319107712003506\n",
      "cycle= 5 E= -552.937747689768  delta_E= -0.00063  |g|= 0.0192  |ddm|= 0.0577\n",
      "HOMO (A\") = -0.200119218284385  LUMO (A\") = -0.0315539272073934\n",
      "cycle= 6 E= -552.937845258898  delta_E= -9.76e-05  |g|= 0.00551  |ddm|= 0.0216\n",
      "HOMO (A\") = -0.200156765737279  LUMO (A\") = -0.0316729056428649\n",
      "cycle= 7 E= -552.937853641345  delta_E= -8.38e-06  |g|= 0.000239  |ddm|= 0.00523\n",
      "HOMO (A\") = -0.200158511412903  LUMO (A\") = -0.0316686220734566\n",
      "cycle= 8 E= -552.937853656716  delta_E= -1.54e-08  |g|= 8.11e-05  |ddm|= 0.000392\n",
      "HOMO (A\") = -0.200162685443457  LUMO (A\") = -0.0316724139165967\n",
      "cycle= 9 E= -552.937853656736  delta_E= -2.02e-11  |g|= 8.75e-05  |ddm|= 0.000165\n",
      "HOMO (A\") = -0.20016365793784  LUMO (A\") = -0.0316733187768097\n",
      "cycle= 10 E= -552.93785365898  delta_E= -2.24e-09  |g|= 8.14e-06  |ddm|= 9.18e-05\n",
      "HOMO (A\") = -0.200163588604957  LUMO (A\") = -0.0316732477942514\n",
      "cycle= 11 E= -552.937853659003  delta_E= -2.35e-11  |g|= 1.17e-06  |ddm|= 9.97e-06\n",
      "HOMO (A\") = -0.20016327848886  LUMO (A\") = -0.0316730403632634\n",
      "Extra cycle  E= -552.937853658999  delta_E= 3.98e-12  |g|= 2.44e-06  |ddm|= 3.74e-06\n",
      "converged SCF energy = -552.937853658999\n"
     ]
    }
   ],
   "source": [
    "#BLYP\n",
    "# Initialize the dictionary to store the energies and reference values\n",
    "from pyscf import dft\n",
    "\n",
    "start = time.time()\n",
    "mdf=dft.RKS(mol, xc=\"BLYP\").run() \n",
    "mdf2_time = time.time() - start"
   ]
  },
  {
   "cell_type": "code",
   "execution_count": 14,
   "metadata": {},
   "outputs": [],
   "source": [
    "mf_times = [mdf_time, mdf1_time, mdf2_time, mdf3_time]\n",
    "energies = [-552.9267148,-552.9267148,-552.9378536,-552.9949585]\n",
    "ref_energies=[-553.0325426,-552.9273649,-552.9399380,-552.9970779]\n",
    "ecart_energies=[(-552.9267148 + 553.0325426)*627.5095,(-552.9267148 + 552.9273649)*627.5095,(-552.9399380 + 552.9399380)*627.5095,(-552.9970779+ 552.9970779)*627.5095]"
   ]
  },
  {
   "cell_type": "code",
   "execution_count": 15,
   "metadata": {},
   "outputs": [
    {
     "data": {
      "text/html": [
       "<div>\n",
       "<style scoped>\n",
       "    .dataframe tbody tr th:only-of-type {\n",
       "        vertical-align: middle;\n",
       "    }\n",
       "\n",
       "    .dataframe tbody tr th {\n",
       "        vertical-align: top;\n",
       "    }\n",
       "\n",
       "    .dataframe thead th {\n",
       "        text-align: right;\n",
       "    }\n",
       "</style>\n",
       "<table border=\"1\" class=\"dataframe\">\n",
       "  <thead>\n",
       "    <tr style=\"text-align: right;\">\n",
       "      <th></th>\n",
       "      <th>Fonctionnelle</th>\n",
       "      <th>Total energy</th>\n",
       "      <th>Reference energy</th>\n",
       "      <th>ecart_ref_tot(kcal/mol)</th>\n",
       "      <th>Time</th>\n",
       "    </tr>\n",
       "  </thead>\n",
       "  <tbody>\n",
       "    <tr>\n",
       "      <th>0</th>\n",
       "      <td>B3LYP</td>\n",
       "      <td>-552.926715</td>\n",
       "      <td>-553.032543</td>\n",
       "      <td>66.407950</td>\n",
       "      <td>5.499245</td>\n",
       "    </tr>\n",
       "    <tr>\n",
       "      <th>1</th>\n",
       "      <td>B3PW91</td>\n",
       "      <td>-552.926715</td>\n",
       "      <td>-552.927365</td>\n",
       "      <td>0.407944</td>\n",
       "      <td>5.491601</td>\n",
       "    </tr>\n",
       "    <tr>\n",
       "      <th>2</th>\n",
       "      <td>BLYP</td>\n",
       "      <td>-552.937854</td>\n",
       "      <td>-552.939938</td>\n",
       "      <td>0.000000</td>\n",
       "      <td>5.998571</td>\n",
       "    </tr>\n",
       "    <tr>\n",
       "      <th>3</th>\n",
       "      <td>B1B95</td>\n",
       "      <td>-552.994959</td>\n",
       "      <td>-552.997078</td>\n",
       "      <td>0.000000</td>\n",
       "      <td>6.543699</td>\n",
       "    </tr>\n",
       "  </tbody>\n",
       "</table>\n",
       "</div>"
      ],
      "text/plain": [
       "  Fonctionnelle  Total energy  Reference energy  ecart_ref_tot(kcal/mol)  \\\n",
       "0         B3LYP   -552.926715       -553.032543                66.407950   \n",
       "1        B3PW91   -552.926715       -552.927365                 0.407944   \n",
       "2          BLYP   -552.937854       -552.939938                 0.000000   \n",
       "3         B1B95   -552.994959       -552.997078                 0.000000   \n",
       "\n",
       "       Time  \n",
       "0  5.499245  \n",
       "1  5.491601  \n",
       "2  5.998571  \n",
       "3  6.543699  "
      ]
     },
     "execution_count": 15,
     "metadata": {},
     "output_type": "execute_result"
    }
   ],
   "source": [
    "# Create the results dataframe\n",
    "import pandas as pd\n",
    "# Define the calculation methods\n",
    "fonc = ['B3LYP', 'B3PW91', 'BLYP', 'B1B95']\n",
    "df_HF = pd.DataFrame({\"Fonctionnelle\":fonc, \n",
    "                      'Total energy':energies,\n",
    "                      \"Reference energy\":ref_energies,\n",
    "                      \"ecart_ref_tot(kcal/mol)\":ecart_energies,\n",
    "                      \"Time\":mf_times})\n",
    "\n",
    "df_HF"
   ]
  },
  {
   "cell_type": "markdown",
   "metadata": {},
   "source": [
    "### Comparaison des fonctionnelles\n",
    "\n",
    "Parmi les fonctionnelles étudiées, **BLYP et B1B95 offrent la meilleure précision** avec un écart nul par rapport à l’énergie de référence. Cependant, **B1B95 est la plus lente (8.03 min), tandis que BLYP est plus rapide (6.83 min)**, ce qui en fait une option optimale. **B3PW91 se distingue par sa rapidité (5.76 min) tout en maintenant un faible écart de 0.41 kcal/mol**, ce qui en fait un bon compromis entre précision et performance. En revanche, **B3LYP est la moins performante**, affichant un écart important de 66.41 kcal/mol malgré un temps de calcul raisonnable. Ainsi, **BLYP apparaît comme la meilleure option**, combinant exactitude et rapidité.\n"
   ]
  },
  {
   "cell_type": "markdown",
   "metadata": {},
   "source": [
    "#### <a id='toc1_1_'></a>[Calcul Post Hatree(MP2, CCSD et CCSD(T)](#toc0_)\n",
    "#### <a id='toc1_1_'></a>[Calcule du MF (mean field)](#toc0_)"
   ]
  },
  {
   "cell_type": "code",
   "execution_count": 16,
   "metadata": {},
   "outputs": [
    {
     "name": "stdout",
     "output_type": "stream",
     "text": [
      "\n",
      "\n",
      "******** <class 'pyscf.scf.hf_symm.SymAdaptedRHF'> ********\n",
      "method = SymAdaptedRHF\n",
      "initial guess = minao\n",
      "damping factor = 0\n",
      "level_shift factor = 0\n",
      "DIIS = <class 'pyscf.scf.diis.CDIIS'>\n",
      "diis_start_cycle = 1\n",
      "diis_space = 8\n",
      "diis_damp = 0\n",
      "SCF conv_tol = 1e-09\n",
      "SCF conv_tol_grad = None\n",
      "SCF max_cycles = 50\n",
      "direct_scf = True\n",
      "direct_scf_tol = 1e-13\n",
      "chkfile to save SCF result = /tmp/tmpntefq292\n",
      "max_memory 4000 MB (current use 523 MB)\n",
      "Freeze 0 electrons in irreps []\n",
      "    44 free electrons in irreps A' A\"\n",
      "Set gradient conv threshold to 3.16228e-05\n",
      "Initial guess from minao.\n",
      "init E= -552.675417259048\n",
      "HOMO (A\") = -0.209046814314051  LUMO (A\") = 0.0422897016538583\n",
      "cycle= 1 E= -551.263381273686  delta_E= 1.41  |g|= 0.364  |ddm|= 2.95\n",
      "HOMO (A\") = -0.358283921854604  LUMO (A\") = 0.0984112891236637\n",
      "cycle= 2 E= -551.313552490764  delta_E= -0.0502  |g|= 0.136  |ddm|= 0.493\n",
      "HOMO (A\") = -0.315604264855825  LUMO (A\") = 0.132127103863031\n",
      "cycle= 3 E= -551.319124531629  delta_E= -0.00557  |g|= 0.0574  |ddm|= 0.187\n",
      "HOMO (A\") = -0.326037287119932  LUMO (A\") = 0.126524424563684\n",
      "cycle= 4 E= -551.320342012175  delta_E= -0.00122  |g|= 0.00833  |ddm|= 0.0841\n",
      "HOMO (A\") = -0.326367217638441  LUMO (A\") = 0.126242281403405\n",
      "cycle= 5 E= -551.320401614753  delta_E= -5.96e-05  |g|= 0.00331  |ddm|= 0.0198\n",
      "HOMO (A\") = -0.326003478881506  LUMO (A\") = 0.126610287202134\n",
      "cycle= 6 E= -551.320414767044  delta_E= -1.32e-05  |g|= 0.00207  |ddm|= 0.0089\n",
      "HOMO (A\") = -0.326106638828671  LUMO (A\") = 0.126625011370081\n",
      "cycle= 7 E= -551.320418105849  delta_E= -3.34e-06  |g|= 0.000562  |ddm|= 0.00479\n",
      "HOMO (A\") = -0.32611900787371  LUMO (A\") = 0.126664293927246\n",
      "cycle= 8 E= -551.32041861399  delta_E= -5.08e-07  |g|= 0.000114  |ddm|= 0.00254\n",
      "HOMO (A\") = -0.326133792236173  LUMO (A\") = 0.126668845001722\n",
      "cycle= 9 E= -551.320418629189  delta_E= -1.52e-08  |g|= 2.33e-05  |ddm|= 0.000441\n",
      "HOMO (A\") = -0.32613507962341  LUMO (A\") = 0.126669545383433\n",
      "cycle= 10 E= -551.320418629668  delta_E= -4.79e-10  |g|= 7.03e-06  |ddm|= 6.25e-05\n",
      "HOMO (A\") = -0.326134783753437  LUMO (A\") = 0.126670466730529\n",
      "Extra cycle  E= -551.320418629698  delta_E= -3e-11  |g|= 2.87e-06  |ddm|= 1.13e-05\n",
      "converged SCF energy = -551.320418629698\n"
     ]
    }
   ],
   "source": [
    "import time\n",
    "from pyscf import scf\n",
    "\n",
    "start = time.time()\n",
    "myhf = scf.RHF(mol).run()\n",
    "myhf_time = time.time() - start "
   ]
  },
  {
   "cell_type": "markdown",
   "metadata": {},
   "source": [
    "#### <a id='toc1_1_'></a>2.2.2[Calcule du MP2(Møller-Plesset ) ](#toc0_)\n",
    "La [MP2](https://en.wikipedia.org/wiki/M%C3%B8ller%E2%80%93Plesset_perturbation_theory) effectue des corrections perturbatives de l'approximation Hartree-Fock."
   ]
  },
  {
   "cell_type": "code",
   "execution_count": 17,
   "metadata": {},
   "outputs": [
    {
     "name": "stdout",
     "output_type": "stream",
     "text": [
      "\n",
      "******** <class 'pyscf.mp.mp2.MP2'> ********\n",
      "nocc = 22, nmo = 94\n",
      "max_memory 4000 MB (current use 603 MB)\n",
      "E(MP2) = -552.00005310868  E_corr = -0.679634478982428\n",
      "E(SCS-MP2) = -551.979163403239  E_corr = -0.6587447735416\n",
      "E_corr(same-spin) = -0.1809422321969\n",
      "E_corr(oppo-spin) = -0.498692246785528\n",
      "-552.00005310868\n"
     ]
    }
   ],
   "source": [
    "from pyscf import mp\n",
    "start = time.time()\n",
    "mymp2 = mp.MP2(myhf).run()\n",
    "mymp2_time = time.time() - start +  myhf_time\n",
    "energie1=mymp2.e_tot\n",
    "print(energie1)"
   ]
  },
  {
   "cell_type": "markdown",
   "metadata": {},
   "source": [
    "* `E(MP2) = -552.00005310868 ` : C'est l'énergie totale calculée avec la méthode `MP2`. Cette énergie inclut à la fois l'énergie d'électronélectron de `Hartree-Fock (HF)` et la correction de corrélation électronique de deuxième ordre `(MP2)`. La valeur négative indique que le système moléculaire est lié et stable.\n",
    "\n",
    "* `E_corr = -0.679634478982428` : C'est la correction de corrélation électronique calculée avec la méthode `MP2`. Elle représente la différence entre l'énergie totale calculée avec `MP2` et l'énergie d'électronélectron calculée avec `HF`. La valeur négative indique que la correction de corrélation électronique est stabilisante, c'est-à-dire qu'elle améliore l'approximation HF en prenant en compte les effets de corrélation électronique supplémentaires.\n",
    "\n",
    "* `E(SCS-MP2) = -551.979163403239` : C'est l'énergie totale calculée avec la méthode `SCS-MP2`. `SCS-MP2` est une version modifiée de `MP2` qui utilise des coefficients d'échelle spécifiques pour améliorer la description de la corrélation électronique. La valeur négative indique que le système moléculaire est lié et stable.\n",
    "\n",
    "* `E_corr = -0.6587447735416 `: C'est la correction de corrélation électronique calculée avec la méthode `SCS-MP2`. Elle représente la différence entre l'énergie totale calculée avec `SCS-MP2` et l'énergie d'électronélectron calculée avec `HF`. Comme pour `MP2`, la valeur négative indique que la correction de corrélation électronique est stabilisante."
   ]
  },
  {
   "cell_type": "markdown",
   "metadata": {},
   "source": [
    "#### <a id='toc1_1_'></a>[Calcule du  CCSD avec CC](#toc0_)\n",
    "* La [CC(Coupled_cluster)](https://en.wikipedia.org/wiki/Coupled_cluster) est une méthode perturbative qui améliore l'approximation de Hartree-Fock."
   ]
  },
  {
   "cell_type": "code",
   "execution_count": 18,
   "metadata": {},
   "outputs": [
    {
     "name": "stdout",
     "output_type": "stream",
     "text": [
      "\n",
      "******** <class 'pyscf.cc.ccsd.CCSD'> ********\n",
      "CC2 = 0\n",
      "CCSD nocc = 22, nmo = 94\n",
      "max_cycle = 50\n",
      "direct = 0\n",
      "conv_tol = 1e-07\n",
      "conv_tol_normt = 1e-05\n",
      "diis_space = 6\n",
      "diis_start_cycle = 0\n",
      "diis_start_energy_diff = 1e+09\n",
      "max_memory 4000 MB (current use 603 MB)\n",
      "Init t2, MP2 energy = -552.000053058121  E_corr(MP2) -0.679634428423411\n",
      "Init E_corr(CCSD) = -0.679634428428369\n",
      "cycle = 1  E_corr(CCSD) = -0.687274847780066  dE = -0.00764041935  norm(t1,t2) = 0.0714046\n",
      "cycle = 2  E_corr(CCSD) = -0.707421064295973  dE = -0.0201462165  norm(t1,t2) = 0.0246233\n",
      "cycle = 3  E_corr(CCSD) = -0.708606481817328  dE = -0.00118541752  norm(t1,t2) = 0.0113657\n",
      "cycle = 4  E_corr(CCSD) = -0.711487966631443  dE = -0.00288148481  norm(t1,t2) = 0.00502925\n",
      "cycle = 5  E_corr(CCSD) = -0.711621038405093  dE = -0.000133071774  norm(t1,t2) = 0.0014509\n",
      "cycle = 6  E_corr(CCSD) = -0.711407602645422  dE = 0.00021343576  norm(t1,t2) = 0.000523901\n",
      "cycle = 7  E_corr(CCSD) = -0.711406874275872  dE = 7.2836955e-07  norm(t1,t2) = 0.000246617\n",
      "cycle = 8  E_corr(CCSD) = -0.711420191784811  dE = -1.33175089e-05  norm(t1,t2) = 9.766e-05\n",
      "cycle = 9  E_corr(CCSD) = -0.711414282037651  dE = 5.90974716e-06  norm(t1,t2) = 3.72851e-05\n",
      "cycle = 10  E_corr(CCSD) = -0.711415493727182  dE = -1.21168953e-06  norm(t1,t2) = 9.75485e-06\n",
      "cycle = 11  E_corr(CCSD) = -0.711415246347625  dE = 2.47379557e-07  norm(t1,t2) = 2.63283e-06\n",
      "cycle = 12  E_corr(CCSD) = -0.711415240748683  dE = 5.59894231e-09  norm(t1,t2) = 8.08228e-07\n",
      "CCSD converged\n",
      "E(CCSD) = -552.0318338704463  E_corr = -0.711415240748683\n",
      "-552.0318338704463\n"
     ]
    }
   ],
   "source": [
    "from pyscf import cc\n",
    "\n",
    "start = time.time()\n",
    "mycc = cc.CCSD(myhf).run()\n",
    "mycc_time = time.time() - start +myhf_time\n",
    "energie2=mycc.e_tot\n",
    "print(energie2)"
   ]
  },
  {
   "cell_type": "markdown",
   "metadata": {},
   "source": [
    "* `E_corr = -0.7114152407486781`:  Elle représente la différence entre l'énergie totale calculée avec `CCSD` et l'énergie d'électron électron calculée avec `HF`. La valeur négative indique que la correction de corrélation électronique est stabilisante, c'est-à-dire qu'elle améliore l'approximation HF en prenant en compte les effets de corrélation électronique supplémentaires."
   ]
  },
  {
   "cell_type": "markdown",
   "metadata": {},
   "source": [
    "#### <a id='toc1_1_'></a>[ Calcul du  CCSD(T) avec CCSD](#toc0_)"
   ]
  },
  {
   "cell_type": "code",
   "execution_count": 19,
   "metadata": {},
   "outputs": [
    {
     "name": "stdout",
     "output_type": "stream",
     "text": [
      "CCSD(T) correction = -0.0309257534171741\n"
     ]
    }
   ],
   "source": [
    "start = time.time()\n",
    "e_ccsd_t = mycc.ccsd_t()\n",
    "mycct_time = time.time() - start + myhf_time"
   ]
  },
  {
   "cell_type": "code",
   "execution_count": 20,
   "metadata": {},
   "outputs": [],
   "source": [
    "mf_times = [mdf2_time, mymp2_time, mycc_time, mycct_time]\n",
    "energies = [mdf.e_tot,energie1,energie2,energie2+e_ccsd_t]\n",
    "ref_energies=[-552.9399380,-551.9840701,-552.0136349,-552.0434478]\n",
    "ecart_energies=[(mdf.e_tot + 552.9399380)*627.5095,(energie1 + 551.9840701)*627.5095,(energie2 + 552.0136349)*627.5095,(energie2+e_ccsd_t + 552.0434478)*627.5095]"
   ]
  },
  {
   "cell_type": "code",
   "execution_count": 21,
   "metadata": {},
   "outputs": [
    {
     "data": {
      "text/html": [
       "<div>\n",
       "<style scoped>\n",
       "    .dataframe tbody tr th:only-of-type {\n",
       "        vertical-align: middle;\n",
       "    }\n",
       "\n",
       "    .dataframe tbody tr th {\n",
       "        vertical-align: top;\n",
       "    }\n",
       "\n",
       "    .dataframe thead th {\n",
       "        text-align: right;\n",
       "    }\n",
       "</style>\n",
       "<table border=\"1\" class=\"dataframe\">\n",
       "  <thead>\n",
       "    <tr style=\"text-align: right;\">\n",
       "      <th></th>\n",
       "      <th>Methodes</th>\n",
       "      <th>Total energy</th>\n",
       "      <th>Reference energy</th>\n",
       "      <th>ecart_ref_tot(kcal/mol)</th>\n",
       "      <th>Time</th>\n",
       "    </tr>\n",
       "  </thead>\n",
       "  <tbody>\n",
       "    <tr>\n",
       "      <th>0</th>\n",
       "      <td>DFT</td>\n",
       "      <td>-552.937854</td>\n",
       "      <td>-552.939938</td>\n",
       "      <td>1.307944</td>\n",
       "      <td>5.998571</td>\n",
       "    </tr>\n",
       "    <tr>\n",
       "      <th>1</th>\n",
       "      <td>MP2</td>\n",
       "      <td>-552.000053</td>\n",
       "      <td>-551.984070</td>\n",
       "      <td>-10.029490</td>\n",
       "      <td>0.596063</td>\n",
       "    </tr>\n",
       "    <tr>\n",
       "      <th>2</th>\n",
       "      <td>CCSD</td>\n",
       "      <td>-552.031834</td>\n",
       "      <td>-552.013635</td>\n",
       "      <td>-11.420027</td>\n",
       "      <td>23.392914</td>\n",
       "    </tr>\n",
       "    <tr>\n",
       "      <th>3</th>\n",
       "      <td>CCSD(T)</td>\n",
       "      <td>-552.062760</td>\n",
       "      <td>-552.043448</td>\n",
       "      <td>-12.118353</td>\n",
       "      <td>6.245976</td>\n",
       "    </tr>\n",
       "  </tbody>\n",
       "</table>\n",
       "</div>"
      ],
      "text/plain": [
       "  Methodes  Total energy  Reference energy  ecart_ref_tot(kcal/mol)       Time\n",
       "0      DFT   -552.937854       -552.939938                 1.307944   5.998571\n",
       "1      MP2   -552.000053       -551.984070               -10.029490   0.596063\n",
       "2     CCSD   -552.031834       -552.013635               -11.420027  23.392914\n",
       "3  CCSD(T)   -552.062760       -552.043448               -12.118353   6.245976"
      ]
     },
     "execution_count": 21,
     "metadata": {},
     "output_type": "execute_result"
    }
   ],
   "source": [
    "# Create the results dataframe\n",
    "import pandas as pd\n",
    "# Define the calculation methods\n",
    "methods = ['DFT', 'MP2', 'CCSD', 'CCSD(T)']\n",
    "df_HF = pd.DataFrame({\"Methodes\":methods, \n",
    "                      'Total energy':energies,\n",
    "                      \"Reference energy\":ref_energies,\n",
    "                      \"ecart_ref_tot(kcal/mol)\":ecart_energies,\n",
    "                      \"Time\":mf_times})\n",
    "\n",
    "df_HF"
   ]
  },
  {
   "cell_type": "markdown",
   "metadata": {},
   "source": [
    "# Conclusion"
   ]
  },
  {
   "cell_type": "markdown",
   "metadata": {},
   "source": [
    "Dans ce notebook, nous avons exploré la molécule de thiophène à travers des approches analytiques et computationnelles. Nous avons commencé par une présentation générale de notre molécule, en mettant en avant ses propriétés chimiques et ses applications variées. L'utilisation de **RDKit** nous a permis d'analyser la structure et certaines propriétés moléculaires du thiophène, notamment en générant des représentations graphiques et en extrayant des informations essentielles telles que les descripteurs moléculaires. \n",
    "Nous avons ensuite réalisé des calculs **Hartree-Fock (HF)**, **DFT** et **post-HF** à l'aide de **PySCF**. Ces simulations nous ont permis d'obtenir des estimations des énergies et des orbitales moléculaires, en tenant compte des différentes bases utilisées. La comparaison entre les méthodes a mis en évidence les avantages et limites de chaque approche en fonction de la précision et du coût de calcul. Enfin, nous avons comparé nos résultats avec les bases de données de référence telles que **PubChem** et **cccbdb**, ce qui nous a permis de valider nos calculs et d'apprécier la robustesse des méthodes employées.\n",
    "\n"
   ]
  },
  {
   "cell_type": "code",
   "execution_count": null,
   "metadata": {},
   "outputs": [],
   "source": []
  }
 ],
 "metadata": {
  "jupytext": {
   "formats": "ipynb,md"
  },
  "kernelspec": {
   "display_name": "Python 3 (ipykernel)",
   "language": "python",
   "name": "python3"
  },
  "language_info": {
   "codemirror_mode": {
    "name": "ipython",
    "version": 3
   },
   "file_extension": ".py",
   "mimetype": "text/x-python",
   "name": "python",
   "nbconvert_exporter": "python",
   "pygments_lexer": "ipython3",
   "version": "3.11.7"
  },
  "widgets": {
   "application/vnd.jupyter.widget-state+json": {
    "state": {},
    "version_major": 1,
    "version_minor": 0
   }
  }
 },
 "nbformat": 4,
 "nbformat_minor": 4
}
