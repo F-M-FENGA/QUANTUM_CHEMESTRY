{
 "cells": [
  {
   "cell_type": "markdown",
   "id": "ac5c374c-6b09-48c2-8426-14f9e6a0ef9f",
   "metadata": {},
   "source": [
    "# SSVQE for BODIPY\n",
    "\n",
    "MAY 2025\n",
    "> **Molecule**: 4,4‑difluoro‑4‑bora‑3a,4a‑diaza‑s‑indacene (BODIPY)\n"
   ]
  },
  {
   "cell_type": "markdown",
   "id": "199aeb1c-8aed-48fb-bcee-314e9182e107",
   "metadata": {},
   "source": [
    "### Calcul des énergies de la molecule de BODIPY"
   ]
  },
  {
   "cell_type": "code",
   "execution_count": 1,
   "id": "2a1cb0d1-c95f-4c72-8814-28ed3da47ace",
   "metadata": {},
   "outputs": [],
   "source": [
    "# importation des packages\n",
    "import pennylane as qml\n",
    "from pennylane import numpy as np\n",
    "from pennylane import qchem\n",
    "import matplotlib.pyplot as plt\n",
    "import pyscf"
   ]
  },
  {
   "cell_type": "code",
   "execution_count": 2,
   "id": "62583da7-2b7b-4251-b355-c5a438fec876",
   "metadata": {},
   "outputs": [],
   "source": [
    "# coordonnées xyz de la molecule\n",
    "symbols, coordinates = qchem.read_structure('Bodipy.xyz')\n",
    "molecule = qml.qchem.Molecule(\n",
    "    symbols,\n",
    "    coordinates,\n",
    "    charge=0,\n",
    "    mult=1,\n",
    "    basis_name='sto-3g')\n",
    "                              "
   ]
  },
  {
   "cell_type": "code",
   "execution_count": 3,
   "id": "4ddb5587-fcbe-4446-bd82-23e99b0060c7",
   "metadata": {},
   "outputs": [
    {
     "name": "stdout",
     "output_type": "stream",
     "text": [
      "Hamiltonian built with 8 qubits\n",
      "-589.084049518089 * I([0, 1, 2, 3, 4, 5, 6, 7]) + 0.14008146405755686 * Z(0) + 0.003026771247140999 * (Y(0) @ Z(1) @ Y(2)) + 0.003026771247140999 * (X(0) @ Z(1) @ X(2)) + 0.007086501999203847 * (Y(0) @ Z(1) @ Z(2) @ Z(3) @ Y(4)) + 0.007086501999203847 * (X(0) @ Z(1) @ Z(2) @ Z(3) @ X(4)) + -0.00348440093640236 * (Y(0) @ Z(1) @ Z(2) @ Z(3) @ Z(4) @ Z(5) @ Y(6)) + -0.00348440093640236 * (X(0) @ Z(1) @ Z(2) @ Z(3) @ Z(4) @ Z(5) @ X(6)) + 0.08071466204313577 * Z(2) + 0.049431575596983204 * (Z(0) @ Z(2)) + 0.0016451797379371897 * (Y(2) @ Z(3) @ Y(4)) + 0.0016451797379371897 * (X(2) @ Z(3) @ X(4)) + 0.0006768624333714119 * (Z(0) @ Y(2) @ Z(3) @ Y(4)) + 0.0006768624333714119 * (Z(0) @ X(2) @ Z(3) @ X(4)) + -0.03820229673455045 * (Y(2) @ Z(3) @ Z(4) @ Z(5) @ Y(6)) + -0.03820229673455045 * (X(2) @ Z(3) @ Z(4) @ Z(5) @ X(6)) + -0.015257827587718419 * (Z(0) @ Y(2) @ Z(3) @ Z(4) @ Z(5) @ Y(6)) + -0.015257827587718419 * (Z(0) @ X(2) @ Z(3) @ Z(4) @ Z(5) @ X(6)) + -0.10440332266163177 * Z(4) + 0.04017000054551721 * (Z(0) @ Z(4)) + 0.005199764215362919 * (Y(4) @ Z(5) @ Y(6)) + 0.005199764215362919 * (X(4) @ Z(5) @ X(6)) + 0.00032487925367161223 * (Z(0) @ Y(4) @ Z(5) @ Y(6)) + 0.00032487925367161223 * (Z(0) @ X(4) @ Z(5) @ X(6)) + 0.013448729295479939 * Z(6) + 0.045597554626124574 * (Z(0) @ Z(6)) + 0.14008146405755686 * Z(1) + 0.09885158345018483 * (Z(0) @ Z(1)) + 0.0012041678195570287 * (Y(0) @ Y(2)) + 0.0012041678195570287 * (X(0) @ X(2)) + 0.002276186235911211 * (Y(0) @ Z(2) @ Z(3) @ Y(4)) + 0.002276186235911211 * (X(0) @ Z(2) @ Z(3) @ X(4)) + 0.0005634654682268325 * (Y(0) @ Z(2) @ Z(3) @ Z(4) @ Z(5) @ Y(6)) + 0.0005634654682268325 * (X(0) @ Z(2) @ Z(3) @ Z(4) @ Z(5) @ X(6)) + 0.0030267712471409984 * (Y(1) @ Z(2) @ Y(3)) + 0.0012041678195570287 * (Z(0) @ Y(1) @ Z(2) @ Y(3)) + 0.0030267712471409984 * (X(1) @ Z(2) @ X(3)) + 0.0012041678195570287 * (Z(0) @ X(1) @ Z(2) @ X(3)) + 0.0027487541061691377 * (Y(0) @ X(1) @ X(2) @ Y(3)) + -0.0027487541061691377 * (Y(0) @ Y(1) @ X(2) @ X(3)) + -0.0027487541061691377 * (X(0) @ X(1) @ Y(2) @ Y(3)) + 0.0027487541061691377 * (X(0) @ Y(1) @ Y(2) @ X(3)) + 7.978480467126962e-05 * (Y(0) @ X(1) @ X(3) @ Y(4)) + 7.978480467126962e-05 * (Y(0) @ Y(1) @ Y(3) @ Y(4)) + 7.978480467126962e-05 * (X(0) @ X(1) @ X(3) @ X(4)) + 7.978480467126962e-05 * (X(0) @ Y(1) @ Y(3) @ X(4)) + -0.0022108608759000485 * (Y(0) @ X(1) @ X(3) @ Z(4) @ Z(5) @ Y(6)) + -0.0022108608759000485 * (Y(0) @ Y(1) @ Y(3) @ Z(4) @ Z(5) @ Y(6)) + -0.0022108608759000485 * (X(0) @ X(1) @ X(3) @ Z(4) @ Z(5) @ X(6)) + -0.0022108608759000485 * (X(0) @ Y(1) @ Y(3) @ Z(4) @ Z(5) @ X(6)) + 0.007086501999203846 * (Y(1) @ Z(2) @ Z(3) @ Z(4) @ Y(5)) + 0.002276186235911211 * (Z(0) @ Y(1) @ Z(2) @ Z(3) @ Z(4) @ Y(5)) + 0.007086501999203846 * (X(1) @ Z(2) @ Z(3) @ Z(4) @ X(5)) + 0.002276186235911211 * (Z(0) @ X(1) @ Z(2) @ Z(3) @ Z(4) @ X(5)) + -7.978480467126962e-05 * (Y(0) @ X(1) @ X(2) @ Z(3) @ Z(4) @ Y(5)) + 7.978480467126962e-05 * (Y(0) @ Y(1) @ X(2) @ Z(3) @ Z(4) @ X(5)) + 7.978480467126962e-05 * (X(0) @ X(1) @ Y(2) @ Z(3) @ Z(4) @ Y(5)) + -7.978480467126962e-05 * (X(0) @ Y(1) @ Y(2) @ Z(3) @ Z(4) @ X(5)) + 0.0003276223818273783 * (Y(0) @ X(1) @ X(4) @ Y(5)) + -0.0003276223818273783 * (Y(0) @ Y(1) @ X(4) @ X(5)) + -0.0003276223818273783 * (X(0) @ X(1) @ Y(4) @ Y(5)) + 0.0003276223818273783 * (X(0) @ Y(1) @ Y(4) @ X(5)) + 0.00032291760353386 * (Y(0) @ X(1) @ X(5) @ Y(6)) + 0.00032291760353386 * (Y(0) @ Y(1) @ Y(5) @ Y(6)) + 0.00032291760353386 * (X(0) @ X(1) @ X(5) @ X(6)) + 0.00032291760353386 * (X(0) @ Y(1) @ Y(5) @ X(6)) + -0.00348440093640236 * (Y(1) @ Z(2) @ Z(3) @ Z(4) @ Z(5) @ Z(6) @ Y(7)) + 0.0005634654682268324 * (Z(0) @ Y(1) @ Z(2) @ Z(3) @ Z(4) @ Z(5) @ Z(6) @ Y(7)) + -0.00348440093640236 * (X(1) @ Z(2) @ Z(3) @ Z(4) @ Z(5) @ Z(6) @ X(7)) + 0.0005634654682268324 * (Z(0) @ X(1) @ Z(2) @ Z(3) @ Z(4) @ Z(5) @ Z(6) @ X(7)) + 0.0022108608759000485 * (Y(0) @ X(1) @ X(2) @ Z(3) @ Z(4) @ Z(5) @ Z(6) @ Y(7)) + -0.0022108608759000485 * (Y(0) @ Y(1) @ X(2) @ Z(3) @ Z(4) @ Z(5) @ Z(6) @ X(7)) + -0.0022108608759000485 * (X(0) @ X(1) @ Y(2) @ Z(3) @ Z(4) @ Z(5) @ Z(6) @ Y(7)) + 0.0022108608759000485 * (X(0) @ Y(1) @ Y(2) @ Z(3) @ Z(4) @ Z(5) @ Z(6) @ X(7)) + -0.00032291760353386 * (Y(0) @ X(1) @ X(4) @ Z(5) @ Z(6) @ Y(7)) + 0.00032291760353386 * (Y(0) @ Y(1) @ X(4) @ Z(5) @ Z(6) @ X(7)) + 0.00032291760353386 * (X(0) @ X(1) @ Y(4) @ Z(5) @ Z(6) @ Y(7)) + -0.00032291760353386 * (X(0) @ Y(1) @ Y(4) @ Z(5) @ Z(6) @ X(7)) + 0.004891250519621655 * (Y(0) @ X(1) @ X(6) @ Y(7)) + -0.004891250519621655 * (Y(0) @ Y(1) @ X(6) @ X(7)) + -0.004891250519621655 * (X(0) @ X(1) @ Y(6) @ Y(7)) + 0.004891250519621655 * (X(0) @ Y(1) @ Y(6) @ X(7)) + 0.000509964440067278 * (Y(0) @ Z(1) @ Z(3) @ Y(4)) + 0.000509964440067278 * (X(0) @ Z(1) @ Z(3) @ X(4)) + 0.00018920925891566655 * (Y(0) @ Z(1) @ Z(3) @ Z(4) @ Z(5) @ Y(6)) + 0.00018920925891566655 * (X(0) @ Z(1) @ Z(3) @ Z(4) @ Z(5) @ X(6)) + -0.000778464910881562 * (Y(0) @ Z(1) @ Y(2) @ Z(4)) + -0.000778464910881562 * (X(0) @ Z(1) @ X(2) @ Z(4)) + -0.0006206206579018722 * (Y(0) @ Z(1) @ X(2) @ X(4) @ Z(5) @ Y(6)) + 6.7360612511950996e-06 * (Y(0) @ Z(1) @ Y(2) @ Y(4) @ Z(5) @ Y(6)) + 0.0006273567191530674 * (Y(0) @ Z(1) @ Y(2) @ X(4) @ Z(5) @ X(6)) + 0.0006273567191530674 * (X(0) @ Z(1) @ X(2) @ Y(4) @ Z(5) @ Y(6)) + 6.7360612511950996e-06 * (X(0) @ Z(1) @ X(2) @ X(4) @ Z(5) @ X(6)) + -0.0006206206579018722 * (X(0) @ Z(1) @ Y(2) @ Y(4) @ Z(5) @ X(6)) + -0.00020460111349080928 * (Y(0) @ Z(1) @ Y(2) @ Z(6)) + -0.00020460111349080928 * (X(0) @ Z(1) @ X(2) @ Z(6)) + 0.08071466204313582 * Z(3) + 0.05218032970315234 * (Z(0) @ Z(3)) + -0.000318067038327027 * (Y(0) @ Z(1) @ Y(2) @ Z(3)) + -0.000318067038327027 * (X(0) @ Z(1) @ X(2) @ Z(3)) + 0.0006253235754654276 * (Y(0) @ Z(1) @ Z(2) @ Y(4)) + 0.0006253235754654276 * (X(0) @ Z(1) @ Z(2) @ X(4)) + 0.0005247017451538334 * (Y(0) @ Z(1) @ Z(2) @ Z(4) @ Z(5) @ Y(6)) + 0.0005247017451538334 * (X(0) @ Z(1) @ Z(2) @ Z(4) @ Z(5) @ X(6)) + 0.0016451797379371897 * (Y(3) @ Z(4) @ Y(5)) + 0.0007566472380426815 * (Z(0) @ Y(3) @ Z(4) @ Y(5)) + 0.0016451797379371897 * (X(3) @ Z(4) @ X(5)) + 0.0007566472380426815 * (Z(0) @ X(3) @ Z(4) @ X(5)) + -0.00011535913539814969 * (Y(0) @ Y(3) @ Z(4) @ Y(5) @ Z(1) @ Y(2)) + -0.00011535913539814969 * (Y(0) @ X(3) @ Z(4) @ X(5) @ Z(1) @ Y(2)) + -0.00011535913539814969 * (X(0) @ Y(3) @ Z(4) @ Y(5) @ Z(1) @ X(2)) + -0.00011535913539814969 * (X(0) @ X(3) @ Z(4) @ X(5) @ Z(1) @ X(2)) + 3.3700528140571545e-05 * (Y(0) @ Z(1) @ Z(2) @ X(3) @ X(4) @ Y(5)) + -3.3700528140571545e-05 * (Y(0) @ Z(1) @ Z(2) @ Y(3) @ X(4) @ X(5)) + -3.3700528140571545e-05 * (X(0) @ Z(1) @ Z(2) @ X(3) @ Y(4) @ Y(5)) + 3.3700528140571545e-05 * (X(0) @ Z(1) @ Z(2) @ Y(3) @ Y(4) @ X(5)) + 9.230559319045206e-05 * (Y(0) @ Z(1) @ Z(2) @ X(3) @ X(5) @ Y(6)) + 9.230559319045206e-05 * (Y(0) @ Z(1) @ Z(2) @ Y(3) @ Y(5) @ Y(6)) + 9.230559319045206e-05 * (X(0) @ Z(1) @ Z(2) @ X(3) @ X(5) @ X(6)) + 9.230559319045206e-05 * (X(0) @ Z(1) @ Z(2) @ Y(3) @ Y(5) @ X(6)) + -0.03820229673455046 * (Y(3) @ Z(4) @ Z(5) @ Z(6) @ Y(7)) + -0.01746868846361847 * (Z(0) @ Y(3) @ Z(4) @ Z(5) @ Z(6) @ Y(7)) + -0.03820229673455046 * (X(3) @ Z(4) @ Z(5) @ Z(6) @ X(7)) + -0.01746868846361847 * (Z(0) @ X(3) @ Z(4) @ Z(5) @ Z(6) @ X(7)) + -0.00033549248623816687 * (Y(0) @ Y(3) @ Z(4) @ Z(5) @ Z(6) @ Y(7) @ Z(1) @ Y(2)) + -0.00033549248623816687 * (Y(0) @ X(3) @ Z(4) @ Z(5) @ Z(6) @ X(7) @ Z(1) @ Y(2)) + -0.00033549248623816687 * (X(0) @ Y(3) @ Z(4) @ Z(5) @ Z(6) @ Y(7) @ Z(1) @ X(2)) + -0.00033549248623816687 * (X(0) @ X(3) @ Z(4) @ Z(5) @ Z(6) @ X(7) @ Z(1) @ X(2)) + -0.0007129262510923244 * (Y(0) @ X(3) @ X(4) @ Z(5) @ Z(6) @ Y(7) @ Z(1) @ Z(2)) + 0.0007129262510923244 * (Y(0) @ Y(3) @ X(4) @ Z(5) @ Z(6) @ X(7) @ Z(1) @ Z(2)) + 0.0007129262510923244 * (X(0) @ X(3) @ Y(4) @ Z(5) @ Z(6) @ Y(7) @ Z(1) @ Z(2)) + -0.0007129262510923244 * (X(0) @ Y(3) @ Y(4) @ Z(5) @ Z(6) @ X(7) @ Z(1) @ Z(2)) + 0.0001408612768224606 * (Y(0) @ Z(1) @ Z(2) @ X(3) @ X(6) @ Y(7)) + -0.0001408612768224606 * (Y(0) @ Z(1) @ Z(2) @ Y(3) @ X(6) @ X(7)) + -0.0001408612768224606 * (X(0) @ Z(1) @ Z(2) @ X(3) @ Y(6) @ Y(7)) + 0.0001408612768224606 * (X(0) @ Z(1) @ Z(2) @ Y(3) @ Y(6) @ X(7)) + 0.0022970698283195 * (Y(0) @ Z(1) @ Z(2) @ Z(3) @ Z(5) @ Y(6)) + 0.0022970698283195 * (X(0) @ Z(1) @ Z(2) @ Z(3) @ Z(5) @ X(6)) + 0.00031513784146762854 * (Y(0) @ Z(1) @ Z(2) @ Z(3) @ Y(4) @ Z(6)) + 0.00031513784146762854 * (X(0) @ Z(1) @ Z(2) @ Z(3) @ X(4) @ Z(6)) + -0.10440332266163183 * Z(5) + 0.04049762292734459 * (Z(0) @ Z(5)) + -0.0008121654390221334 * (Y(0) @ Z(1) @ Y(2) @ Z(5)) + -0.0008121654390221334 * (X(0) @ Z(1) @ X(2) @ Z(5)) + -0.004551618778419012 * (Y(0) @ Z(1) @ Z(2) @ Z(3) @ Y(4) @ Z(5)) + -0.004551618778419012 * (X(0) @ Z(1) @ Z(2) @ Z(3) @ X(4) @ Z(5)) + 0.0020995127543621413 * (Y(0) @ Z(1) @ Z(2) @ Z(3) @ Z(4) @ Y(6)) + 0.0020995127543621413 * (X(0) @ Z(1) @ Z(2) @ Z(3) @ Z(4) @ X(6)) + 0.00519976421536292 * (Y(5) @ Z(6) @ Y(7)) + 0.0006477968572054723 * (Z(0) @ Y(5) @ Z(6) @ Y(7)) + 0.00519976421536292 * (X(5) @ Z(6) @ X(7)) + 0.0006477968572054723 * (Z(0) @ X(5) @ Z(6) @ X(7)) + -8.556953193925696e-05 * (Y(0) @ Y(5) @ Z(6) @ Y(7) @ Z(1) @ Y(2)) + -8.556953193925696e-05 * (Y(0) @ X(5) @ Z(6) @ X(7) @ Z(1) @ Y(2)) + -8.556953193925696e-05 * (X(0) @ Y(5) @ Z(6) @ Y(7) @ Z(1) @ X(2)) + -8.556953193925696e-05 * (X(0) @ X(5) @ Z(6) @ X(7) @ Z(1) @ X(2)) + 0.00019755707395735864 * (Y(0) @ Z(1) @ Z(2) @ Z(3) @ Y(4) @ Y(5) @ Z(6) @ Y(7)) + 0.00019755707395735864 * (Y(0) @ Z(1) @ Z(2) @ Z(3) @ Y(4) @ X(5) @ Z(6) @ X(7)) + 0.00019755707395735864 * (X(0) @ Z(1) @ Z(2) @ Z(3) @ X(4) @ Y(5) @ Z(6) @ Y(7)) + 0.00019755707395735864 * (X(0) @ Z(1) @ Z(2) @ Z(3) @ X(4) @ X(5) @ Z(6) @ X(7)) + -0.000246275180705275 * (Y(0) @ Z(1) @ Z(2) @ Z(3) @ Z(4) @ X(5) @ X(6) @ Y(7)) + 0.000246275180705275 * (Y(0) @ Z(1) @ Z(2) @ Z(3) @ Z(4) @ Y(5) @ X(6) @ X(7)) + 0.000246275180705275 * (X(0) @ Z(1) @ Z(2) @ Z(3) @ Z(4) @ X(5) @ Y(6) @ Y(7)) + -0.000246275180705275 * (X(0) @ Z(1) @ Z(2) @ Z(3) @ Z(4) @ Y(5) @ Y(6) @ X(7)) + 0.013448729295480022 * Z(7) + 0.05048880514574623 * (Z(0) @ Z(7)) + -0.0003454623903132698 * (Y(0) @ Z(1) @ Y(2) @ Z(7)) + -0.0003454623903132698 * (X(0) @ Z(1) @ X(2) @ Z(7)) + 0.0005614130221729036 * (Y(0) @ Z(1) @ Z(2) @ Z(3) @ Y(4) @ Z(7)) + 0.0005614130221729036 * (X(0) @ Z(1) @ Z(2) @ Z(3) @ X(4) @ Z(7)) + 0.0003651477450950923 * (Y(0) @ Z(1) @ Z(2) @ Z(3) @ Z(4) @ Z(5) @ Y(6) @ Z(7)) + 0.0003651477450950923 * (X(0) @ Z(1) @ Z(2) @ Z(3) @ Z(4) @ Z(5) @ X(6) @ Z(7)) + 0.049431575596983204 * (Z(1) @ Z(3)) + 0.0006768624333714119 * (Z(1) @ Y(3) @ Z(4) @ Y(5)) + 0.0006768624333714119 * (Z(1) @ X(3) @ Z(4) @ X(5)) + -0.015257827587718419 * (Z(1) @ Y(3) @ Z(4) @ Z(5) @ Z(6) @ Y(7)) + -0.015257827587718419 * (Z(1) @ X(3) @ Z(4) @ Z(5) @ Z(6) @ X(7)) + 0.04017000054551721 * (Z(1) @ Z(5)) + 0.00032487925367161223 * (Z(1) @ Y(5) @ Z(6) @ Y(7)) + 0.00032487925367161223 * (Z(1) @ X(5) @ Z(6) @ X(7)) + 0.045597554626124574 * (Z(1) @ Z(7)) + 0.05218032970315234 * (Z(1) @ Z(2)) + -0.000318067038327027 * (Y(1) @ Y(3)) + -0.000318067038327027 * (X(1) @ X(3)) + 0.0006253235754654276 * (Y(1) @ Z(3) @ Z(4) @ Y(5)) + 0.0006253235754654276 * (X(1) @ Z(3) @ Z(4) @ X(5)) + 0.0005247017451538334 * (Y(1) @ Z(3) @ Z(4) @ Z(5) @ Z(6) @ Y(7)) + 0.0005247017451538334 * (X(1) @ Z(3) @ Z(4) @ Z(5) @ Z(6) @ X(7)) + 0.0007566472380426815 * (Z(1) @ Y(2) @ Z(3) @ Y(4)) + 0.0007566472380426815 * (Z(1) @ X(2) @ Z(3) @ X(4)) + -0.00011535913539814966 * (Y(1) @ X(2) @ X(3) @ Y(4)) + 0.00011535913539814966 * (Y(1) @ Y(2) @ X(3) @ X(4)) + 0.00011535913539814966 * (X(1) @ X(2) @ Y(3) @ Y(4)) + -0.00011535913539814966 * (X(1) @ Y(2) @ Y(3) @ X(4)) + -3.3700528140571545e-05 * (Y(1) @ X(2) @ X(4) @ Y(5)) + -3.3700528140571545e-05 * (Y(1) @ Y(2) @ Y(4) @ Y(5)) + -3.3700528140571545e-05 * (X(1) @ X(2) @ X(4) @ X(5)) + -3.3700528140571545e-05 * (X(1) @ Y(2) @ Y(4) @ X(5)) + 9.230559319045206e-05 * (Y(1) @ X(2) @ X(4) @ Z(5) @ Z(6) @ Y(7)) + 9.230559319045206e-05 * (Y(1) @ Y(2) @ Y(4) @ Z(5) @ Z(6) @ Y(7)) + 9.230559319045206e-05 * (X(1) @ X(2) @ X(4) @ Z(5) @ Z(6) @ X(7)) + 9.230559319045206e-05 * (X(1) @ Y(2) @ Y(4) @ Z(5) @ Z(6) @ X(7)) + -0.01746868846361847 * (Z(1) @ Y(2) @ Z(3) @ Z(4) @ Z(5) @ Y(6)) + -0.01746868846361847 * (Z(1) @ X(2) @ Z(3) @ Z(4) @ Z(5) @ X(6)) + -0.00033549248623816687 * (Y(1) @ X(2) @ X(3) @ Z(4) @ Z(5) @ Y(6)) + 0.00033549248623816687 * (Y(1) @ Y(2) @ X(3) @ Z(4) @ Z(5) @ X(6)) + 0.00033549248623816687 * (X(1) @ X(2) @ Y(3) @ Z(4) @ Z(5) @ Y(6)) + -0.00033549248623816687 * (X(1) @ Y(2) @ Y(3) @ Z(4) @ Z(5) @ X(6)) + -0.0007129262510923244 * (Y(1) @ X(2) @ X(5) @ Y(6)) + 0.0007129262510923244 * (Y(1) @ Y(2) @ X(5) @ X(6)) + 0.0007129262510923244 * (X(1) @ X(2) @ Y(5) @ Y(6)) + -0.0007129262510923244 * (X(1) @ Y(2) @ Y(5) @ X(6)) + -0.0001408612768224606 * (Y(1) @ X(2) @ X(6) @ Y(7)) + -0.0001408612768224606 * (Y(1) @ Y(2) @ Y(6) @ Y(7)) + -0.0001408612768224606 * (X(1) @ X(2) @ X(6) @ X(7)) + -0.0001408612768224606 * (X(1) @ Y(2) @ Y(6) @ X(7)) + 0.000509964440067278 * (Y(1) @ Z(2) @ Z(4) @ Y(5)) + 0.000509964440067278 * (X(1) @ Z(2) @ Z(4) @ X(5)) + 0.00018920925891566655 * (Y(1) @ Z(2) @ Z(4) @ Z(5) @ Z(6) @ Y(7)) + 0.00018920925891566655 * (X(1) @ Z(2) @ Z(4) @ Z(5) @ Z(6) @ X(7)) + -0.000778464910881562 * (Y(1) @ Z(2) @ Y(3) @ Z(5)) + -0.000778464910881562 * (X(1) @ Z(2) @ X(3) @ Z(5)) + -0.0006206206579018722 * (Y(1) @ Z(2) @ X(3) @ X(5) @ Z(6) @ Y(7)) + 6.7360612511950996e-06 * (Y(1) @ Z(2) @ Y(3) @ Y(5) @ Z(6) @ Y(7)) + 0.0006273567191530674 * (Y(1) @ Z(2) @ Y(3) @ X(5) @ Z(6) @ X(7)) + 0.0006273567191530674 * (X(1) @ Z(2) @ X(3) @ Y(5) @ Z(6) @ Y(7)) + 6.7360612511950996e-06 * (X(1) @ Z(2) @ X(3) @ X(5) @ Z(6) @ X(7)) + -0.0006206206579018722 * (X(1) @ Z(2) @ Y(3) @ Y(5) @ Z(6) @ X(7)) + -0.00020460111349080928 * (Y(1) @ Z(2) @ Y(3) @ Z(7)) + -0.00020460111349080928 * (X(1) @ Z(2) @ X(3) @ Z(7)) + 0.04049762292734459 * (Z(1) @ Z(4)) + -0.0008121654390221334 * (Y(1) @ Z(2) @ Y(3) @ Z(4)) + -0.0008121654390221334 * (X(1) @ Z(2) @ X(3) @ Z(4)) + -0.004551618778419012 * (Y(1) @ Z(2) @ Z(3) @ Y(5)) + -0.004551618778419012 * (X(1) @ Z(2) @ Z(3) @ X(5)) + 0.0020995127543621413 * (Y(1) @ Z(2) @ Z(3) @ Z(5) @ Z(6) @ Y(7)) + 0.0020995127543621413 * (X(1) @ Z(2) @ Z(3) @ Z(5) @ Z(6) @ X(7)) + 0.0006477968572054723 * (Z(1) @ Y(4) @ Z(5) @ Y(6)) + 0.0006477968572054723 * (Z(1) @ X(4) @ Z(5) @ X(6)) + -8.556953193925696e-05 * (Y(1) @ Y(4) @ Z(5) @ Y(6) @ Z(2) @ Y(3)) + -8.556953193925696e-05 * (Y(1) @ X(4) @ Z(5) @ X(6) @ Z(2) @ Y(3)) + -8.556953193925696e-05 * (X(1) @ Y(4) @ Z(5) @ Y(6) @ Z(2) @ X(3)) + -8.556953193925696e-05 * (X(1) @ X(4) @ Z(5) @ X(6) @ Z(2) @ X(3)) + 0.00019755707395735864 * (Y(1) @ Z(2) @ Z(3) @ X(4) @ X(5) @ Y(6)) + -0.00019755707395735864 * (Y(1) @ Z(2) @ Z(3) @ Y(4) @ X(5) @ X(6)) + -0.00019755707395735864 * (X(1) @ Z(2) @ Z(3) @ X(4) @ Y(5) @ Y(6)) + 0.00019755707395735864 * (X(1) @ Z(2) @ Z(3) @ Y(4) @ Y(5) @ X(6)) + 0.000246275180705275 * (Y(1) @ Z(2) @ Z(3) @ X(4) @ X(6) @ Y(7)) + 0.000246275180705275 * (Y(1) @ Z(2) @ Z(3) @ Y(4) @ Y(6) @ Y(7)) + 0.000246275180705275 * (X(1) @ Z(2) @ Z(3) @ X(4) @ X(6) @ X(7)) + 0.000246275180705275 * (X(1) @ Z(2) @ Z(3) @ Y(4) @ Y(6) @ X(7)) + 0.0022970698283195 * (Y(1) @ Z(2) @ Z(3) @ Z(4) @ Z(6) @ Y(7)) + 0.0022970698283195 * (X(1) @ Z(2) @ Z(3) @ Z(4) @ Z(6) @ X(7)) + 0.00031513784146762854 * (Y(1) @ Z(2) @ Z(3) @ Z(4) @ Y(5) @ Z(7)) + 0.00031513784146762854 * (X(1) @ Z(2) @ Z(3) @ Z(4) @ X(5) @ Z(7)) + 0.05048880514574623 * (Z(1) @ Z(6)) + -0.0003454623903132698 * (Y(1) @ Z(2) @ Y(3) @ Z(6)) + -0.0003454623903132698 * (X(1) @ Z(2) @ X(3) @ Z(6)) + 0.0005614130221729036 * (Y(1) @ Z(2) @ Z(3) @ Z(4) @ Y(5) @ Z(6)) + 0.0005614130221729036 * (X(1) @ Z(2) @ Z(3) @ Z(4) @ X(5) @ Z(6)) + 0.0003651477450950923 * (Y(1) @ Z(2) @ Z(3) @ Z(4) @ Z(5) @ Y(7)) + 0.0003651477450950923 * (X(1) @ Z(2) @ Z(3) @ Z(4) @ Z(5) @ X(7)) + 0.03636466997918177 * (Z(2) @ Z(4)) + 0.00014768986949603979 * (Z(2) @ Y(4) @ Z(5) @ Y(6)) + 0.00014768986949603979 * (Z(2) @ X(4) @ Z(5) @ X(6)) + 0.04585561503128277 * (Z(2) @ Z(6)) + 0.06591785857494857 * (Z(2) @ Z(3)) + -0.00019584096750462966 * (Y(2) @ Y(4)) + -0.00019584096750462966 * (X(2) @ X(4)) + -0.0004899121120163916 * (Y(2) @ Z(4) @ Z(5) @ Y(6)) + -0.0004899121120163916 * (X(2) @ Z(4) @ Z(5) @ X(6)) + -0.00019584096750462966 * (Z(2) @ Y(3) @ Z(4) @ Y(5)) + -0.00019584096750462966 * (Z(2) @ X(3) @ Z(4) @ X(5)) + 4.207506157121228e-05 * (Y(2) @ X(3) @ X(4) @ Y(5)) + -4.207506157121228e-05 * (Y(2) @ Y(3) @ X(4) @ X(5)) + -4.207506157121228e-05 * (X(2) @ X(3) @ Y(4) @ Y(5)) + 4.207506157121228e-05 * (X(2) @ Y(3) @ Y(4) @ X(5)) + 0.0005762475054843689 * (Y(2) @ X(3) @ X(5) @ Y(6)) + 0.0005762475054843689 * (Y(2) @ Y(3) @ Y(5) @ Y(6)) + 0.0005762475054843689 * (X(2) @ X(3) @ X(5) @ X(6)) + 0.0005762475054843689 * (X(2) @ Y(3) @ Y(5) @ X(6)) + -0.0004899121120163915 * (Z(2) @ Y(3) @ Z(4) @ Z(5) @ Z(6) @ Y(7)) + -0.0004899121120163915 * (Z(2) @ X(3) @ Z(4) @ Z(5) @ Z(6) @ X(7)) + -0.0005762475054843689 * (Y(2) @ X(3) @ X(4) @ Z(5) @ Z(6) @ Y(7)) + 0.0005762475054843689 * (Y(2) @ Y(3) @ X(4) @ Z(5) @ Z(6) @ X(7)) + 0.0005762475054843689 * (X(2) @ X(3) @ Y(4) @ Z(5) @ Z(6) @ Y(7)) + -0.0005762475054843689 * (X(2) @ Y(3) @ Y(4) @ Z(5) @ Z(6) @ X(7)) + 0.015884501169105288 * (Y(2) @ X(3) @ X(6) @ Y(7)) + -0.015884501169105288 * (Y(2) @ Y(3) @ X(6) @ X(7)) + -0.015884501169105288 * (X(2) @ X(3) @ Y(6) @ Y(7)) + 0.015884501169105288 * (X(2) @ Y(3) @ Y(6) @ X(7)) + -0.0005887041371387123 * (Y(2) @ Z(3) @ Z(5) @ Y(6)) + -0.0005887041371387123 * (X(2) @ Z(3) @ Z(5) @ X(6)) + -0.0003053662281196017 * (Y(2) @ Z(3) @ Y(4) @ Z(6)) + -0.0003053662281196017 * (X(2) @ Z(3) @ X(4) @ Z(6)) + 0.036406745040752975 * (Z(2) @ Z(5)) + 0.0002457413223468614 * (Y(2) @ Z(3) @ Y(4) @ Z(5)) + 0.0002457413223468614 * (X(2) @ Z(3) @ X(4) @ Z(5)) + -0.0005871919057718884 * (Y(2) @ Z(3) @ Z(4) @ Y(6)) + -0.0005871919057718884 * (X(2) @ Z(3) @ Z(4) @ X(6)) + 0.0007239373749804086 * (Z(2) @ Y(5) @ Z(6) @ Y(7)) + 0.0007239373749804086 * (Z(2) @ X(5) @ Z(6) @ X(7)) + -1.512231366824e-06 * (Y(2) @ Y(5) @ Z(6) @ Y(7) @ Z(3) @ Y(4)) + -1.512231366824e-06 * (Y(2) @ X(5) @ Z(6) @ X(7) @ Z(3) @ Y(4)) + -1.512231366824e-06 * (X(2) @ Y(5) @ Z(6) @ Y(7) @ Z(3) @ X(4)) + -1.512231366824e-06 * (X(2) @ X(5) @ Z(6) @ X(7) @ Z(3) @ X(4)) + 4.2546148788492895e-05 * (Y(2) @ Z(3) @ Z(4) @ X(5) @ X(6) @ Y(7)) + -4.2546148788492895e-05 * (Y(2) @ Z(3) @ Z(4) @ Y(5) @ X(6) @ X(7)) + -4.2546148788492895e-05 * (X(2) @ Z(3) @ Z(4) @ X(5) @ Y(6) @ Y(7)) + 4.2546148788492895e-05 * (X(2) @ Z(3) @ Z(4) @ Y(5) @ Y(6) @ X(7)) + 0.06174011620038805 * (Z(2) @ Z(7)) + -0.0003479123769080946 * (Y(2) @ Z(3) @ Y(4) @ Z(7)) + -0.0003479123769080946 * (X(2) @ Z(3) @ X(4) @ Z(7)) + 0.006162036311099729 * (Y(2) @ Z(3) @ Z(4) @ Z(5) @ Y(6) @ Z(7)) + 0.006162036311099729 * (X(2) @ Z(3) @ Z(4) @ Z(5) @ X(6) @ Z(7)) + 0.03636466997918177 * (Z(3) @ Z(5)) + 0.00014768986949603979 * (Z(3) @ Y(5) @ Z(6) @ Y(7)) + 0.00014768986949603979 * (Z(3) @ X(5) @ Z(6) @ X(7)) + 0.04585561503128277 * (Z(3) @ Z(7)) + 0.036406745040752975 * (Z(3) @ Z(4)) + 0.00024574132234686134 * (Y(3) @ Y(5)) + 0.00024574132234686134 * (X(3) @ X(5)) + -0.0005871919057718884 * (Y(3) @ Z(5) @ Z(6) @ Y(7)) + -0.0005871919057718884 * (X(3) @ Z(5) @ Z(6) @ X(7)) + 0.0007239373749804086 * (Z(3) @ Y(4) @ Z(5) @ Y(6)) + 0.0007239373749804086 * (Z(3) @ X(4) @ Z(5) @ X(6)) + -1.512231366824e-06 * (Y(3) @ X(4) @ X(5) @ Y(6)) + 1.512231366824e-06 * (Y(3) @ Y(4) @ X(5) @ X(6)) + 1.512231366824e-06 * (X(3) @ X(4) @ Y(5) @ Y(6)) + -1.512231366824e-06 * (X(3) @ Y(4) @ Y(5) @ X(6)) + -4.2546148788492895e-05 * (Y(3) @ X(4) @ X(6) @ Y(7)) + -4.2546148788492895e-05 * (Y(3) @ Y(4) @ Y(6) @ Y(7)) + -4.2546148788492895e-05 * (X(3) @ X(4) @ X(6) @ X(7)) + -4.2546148788492895e-05 * (X(3) @ Y(4) @ Y(6) @ X(7)) + -0.0005887041371387123 * (Y(3) @ Z(4) @ Z(6) @ Y(7)) + -0.0005887041371387123 * (X(3) @ Z(4) @ Z(6) @ X(7)) + -0.0003053662281196017 * (Y(3) @ Z(4) @ Y(5) @ Z(7)) + -0.0003053662281196017 * (X(3) @ Z(4) @ X(5) @ Z(7)) + 0.06174011620038805 * (Z(3) @ Z(6)) + -0.0003479123769080946 * (Y(3) @ Z(4) @ Y(5) @ Z(6)) + -0.0003479123769080946 * (X(3) @ Z(4) @ X(5) @ Z(6)) + 0.00616203631109973 * (Y(3) @ Z(4) @ Z(5) @ Y(7)) + 0.00616203631109973 * (X(3) @ Z(4) @ Z(5) @ X(7)) + 0.03570581621255292 * (Z(4) @ Z(6)) + 0.1566853505829512 * (Z(4) @ Z(5)) + -0.004252810068525373 * (Y(4) @ Y(6)) + -0.004252810068525373 * (X(4) @ X(6)) + -0.004252810068525373 * (Z(4) @ Y(5) @ Z(6) @ Y(7)) + -0.004252810068525373 * (Z(4) @ X(5) @ Z(6) @ X(7)) + 0.00019195885089506892 * (Y(4) @ X(5) @ X(6) @ Y(7)) + -0.00019195885089506892 * (Y(4) @ Y(5) @ X(6) @ X(7)) + -0.00019195885089506892 * (X(4) @ X(5) @ Y(6) @ Y(7)) + 0.00019195885089506892 * (X(4) @ Y(5) @ Y(6) @ X(7)) + 0.03589777506344799 * (Z(4) @ Z(7)) + 0.0008973577977813111 * (Y(4) @ Z(5) @ Y(6) @ Z(7)) + 0.0008973577977813111 * (X(4) @ Z(5) @ X(6) @ Z(7)) + 0.03570581621255292 * (Z(5) @ Z(7)) + 0.03589777506344799 * (Z(5) @ Z(6)) + 0.0008973577977813112 * (Y(5) @ Y(7)) + 0.0008973577977813112 * (X(5) @ X(7)) + 0.06653397629362809 * (Z(6) @ Z(7))\n"
     ]
    }
   ],
   "source": [
    "# Hamiltonien moleculaire\n",
    "hamiltonian, qubits = qml.qchem.molecular_hamiltonian(\n",
    "    molecule,\n",
    "    mapping='jordan_wigner',\n",
    "    active_electrons=4,\n",
    "    active_orbitals=4,\n",
    "    method=\"pyscf\"\n",
    ")\n",
    "print(f'Hamiltonian built with {qubits} qubits')\n",
    "print(hamiltonian)"
   ]
  },
  {
   "cell_type": "code",
   "execution_count": 4,
   "id": "9bfe08a5-44d8-4970-844a-a58ade5c43e7",
   "metadata": {},
   "outputs": [],
   "source": [
    "# definir l'Ansatz UCCSD\n",
    "#Circuit Anstaz:\n",
    "def ansatz(params, wires, s_wires, d_wires, hf_state):\n",
    "    qml.UCCSD(params, wires, s_wires, d_wires, hf_state)\n",
    "    #return qml.expval(hamiltonian)"
   ]
  },
  {
   "cell_type": "code",
   "execution_count": 5,
   "id": "acb9fa7f-da89-4748-b0a0-2757387bf030",
   "metadata": {},
   "outputs": [],
   "source": [
    "# Params:\n",
    "params = np.random.uniform(0, 2*np.pi, (8, qubits, 3))\n",
    "\n",
    "\n",
    "# Define the initial values of the circuit parameters\n",
    "#params = np.zeros(len(singles) + len(doubles))"
   ]
  },
  {
   "cell_type": "code",
   "execution_count": 6,
   "id": "1fa7c572-cd64-431d-96cd-1e95c74e10c9",
   "metadata": {},
   "outputs": [],
   "source": [
    "# definir l'Ansatz\n",
    "#Circuit Anstaz:\n",
    "#def ansatz(params, wires):\n",
    "    #qml.templates.StronglyEntanglingLayers(params, wires=wires)"
   ]
  },
  {
   "cell_type": "code",
   "execution_count": null,
   "id": "e8268dfd-9e8c-4950-9ae1-a1a9766b252f",
   "metadata": {},
   "outputs": [],
   "source": []
  },
  {
   "cell_type": "code",
   "execution_count": 7,
   "id": "d99d9404-9ce6-486c-88fb-9c157abcc3c5",
   "metadata": {},
   "outputs": [],
   "source": [
    "def WEIGHTED_SSVQE(hamiltonian, ansatz, opt_name='Adam', stepsize=0.05, iterations=250, k=0, device_name='default.qubit'):\n",
    "    \"\"\"Calculates the kth excited state energy for of a given Hamiltonian.\n",
    "    \n",
    "    Args:\n",
    "        => hamiltonian (qml.Hamiltonian): Hamiltonian for which the Kth excited state energy is to be found.\n",
    "        => ansatz (function(params, wires, *args)): The circuit ansatz for which the cost function will be optimized.\n",
    "           ansatz must have atleast two arguments 'params' and 'wires'. \n",
    "           There is no need to prepare orthogonal basis stats, they will be prepared by the algorithm.\n",
    "        => params (any): Parameters that can be passed to the provided ansatz.\n",
    "        => opt_name(string): Name of the optimizer to use for optimization.\n",
    "           Currently the function supports 'Adam' 'Adagrad' 'GradientDescent'.\n",
    "        => stepsize (float): Stepsize for the optimizer.\n",
    "        => iterations (int): No. of Iterations for the optimization.\n",
    "        => k (int): K for which the Kth excited state energy will be calculated. K <= 2^qubits-1.\n",
    "        => device_name(string): device name for creating device such that qml.device(device_name, wires=wires).\n",
    "    Returns:\n",
    "        => (Energy, Energies): The function returns a tuple of Energy of Kth excited state and list of energies at each iteration for plotting the graph.\n",
    "    \"\"\"\n",
    "\n",
    "    # Calculate number of qubits required for the given Hamiltonian and create the device.\n",
    "    qubits = len(hamiltonian.wires)\n",
    "    device = qml.device(device_name, wires=qubits)\n",
    "    wires = range(qubits)\n",
    "    \n",
    "    electrons = 4 #active_electrons (même nombre que plus haut)\n",
    "\n",
    "    # Define the HF state\n",
    "    hf_state = qml.qchem.hf_state(electrons, qubits)\n",
    "    \n",
    "    # Generate single and double excitations\n",
    "    singles, doubles = qml.qchem.excitations(electrons, qubits)\n",
    "    \n",
    "    # Map excitations to the wires the UCCSD circuit will act on\n",
    "    s_wires, d_wires = qml.qchem.excitations_to_wires(singles, doubles)\n",
    "\n",
    "    # Define the initial values of the circuit parameters\n",
    "    params = np.zeros(len(singles) + len(doubles))\n",
    "\n",
    "    #Define the weights for the cost function.\n",
    "    weights = np.random.random()\n",
    "\n",
    "    # State Preparation for orthogonal states.\n",
    "    def state_prep(state_value):\n",
    "      for index, value in enumerate(np.binary_repr(state_value, qubits)):\n",
    "        if value == '1':\n",
    "          qml.PauliX(index)\n",
    "    \n",
    "    # Cost of each orthogonal state.\n",
    "    @qml.qnode(device)\n",
    "    def state_cost(params, state_value):\n",
    "      state_prep(state_value)\n",
    "      ansatz(params, wires, s_wires, d_wires, hf_state)\n",
    "      return qml.expval(hamiltonian)\n",
    "    \n",
    "    # Total cost of the system.\n",
    "    def total_cost(params):\n",
    "      cost = 0\n",
    "      for index in range(k+1):\n",
    "        if index == k:\n",
    "          cost += weights * state_cost(params, state_value=index)\n",
    "        else:\n",
    "          cost += state_cost(params, state_value=index)\n",
    "            \n",
    "      return cost\n",
    "\n",
    "    # Optimizers options.\n",
    "    optimizers = {\n",
    "        'Adam': qml.AdamOptimizer(stepsize=stepsize),\n",
    "        'Adagrad': qml.AdagradOptimizer(stepsize=stepsize),\n",
    "        'GradientDescent': qml.GradientDescentOptimizer(stepsize=stepsize)\n",
    "    }\n",
    "\n",
    "    # Define the Optimizer and initial parameters.\n",
    "    optimizer = optimizers[opt_name]\n",
    "    energies = []\n",
    "    \n",
    "    # Optimization loop.\n",
    "    for _ in range(iterations):\n",
    "      params = optimizer.step(total_cost, params)\n",
    "      energy = state_cost(params, state_value=k)\n",
    "      energies.append(energy)\n",
    "    return energies[-1], energies"
   ]
  },
  {
   "cell_type": "code",
   "execution_count": 8,
   "id": "8731e66a-16ac-49da-8c8b-967a0ad17cd2",
   "metadata": {},
   "outputs": [],
   "source": [
    "def WEIGHTED_SSVQE_ALL(hamiltonian, ansatz, opt_name='Adam', stepsize=0.05, iterations=250, k=[0], device_name='default.qubit'):\n",
    "    \"\"\"Calculates the energies upto Kth excited state for of a given Hamiltonian.\n",
    "    \n",
    "    Args:\n",
    "        => hamiltonian (qml.Hamiltonian): Hamiltonian for which the Kth excited state energy is to be found.\n",
    "        => ansatz (function(params, wires, *args)): The circuit ansatz for which the cost function will be optimized.\n",
    "           ansatz must have atleast two arguments 'params' and 'wires'. \n",
    "           There is no need to prepare orthogonal basis stats, they will be prepared by the algorithm.\n",
    "        => params (any): Parameters that can be passed to the provided ansatz.\n",
    "        => opt_name(string): Name of the optimizer to use for optimization.\n",
    "           Currently the function supports 'Adam' 'Adagrad' 'GradientDescent'.\n",
    "        => stepsize (float): Stepsize for the optimizer.\n",
    "        => iterations (int): No. of Iterations for the optimization.\n",
    "        => k (int): K till which the excited state energy will be calculated. K <= 2^qubits-1.\n",
    "        => device_name(string): device name for creating device such that qml.device(device_name, wires=wires).\n",
    "\n",
    "    Returns:\n",
    "        => [[Energy, Energies]]: The function returns a List of List of Energy of Kth excited state and list of energies at each iteration for plotting the graph.\n",
    "    \"\"\"\n",
    "\n",
    "    # Calculate number of qubits required for the given Hamiltonian and create the device.\n",
    "    qubits = len(hamiltonian.wires)\n",
    "    device = qml.device(device_name, wires=qubits)\n",
    "    wires = range(qubits)\n",
    "    \n",
    "    electrons = 4 #active_electrons (même nombre que plus haut)\n",
    "\n",
    "    # Define the HF state\n",
    "    hf_state = qml.qchem.hf_state(electrons, qubits)\n",
    "    \n",
    "    # Generate single and double excitations\n",
    "    singles, doubles = qml.qchem.excitations(electrons, qubits)\n",
    "    \n",
    "    # Map excitations to the wires the UCCSD circuit will act on\n",
    "    s_wires, d_wires = qml.qchem.excitations_to_wires(singles, doubles)\n",
    "\n",
    "    # Define the initial values of the circuit parameters\n",
    "    params = np.zeros(len(singles) + len(doubles))\n",
    "\n",
    "    #Define the weights for the cost function.\n",
    "    weights = np.arange(k+1, 0, -1)\n",
    "\n",
    "    # State Preparation for orthogonal states.\n",
    "    def state_prep(state_value):\n",
    "      for index, value in enumerate(np.binary_repr(state_value, qubits)):\n",
    "        if value == '1':\n",
    "          qml.PauliX(index)\n",
    "\n",
    "    # Cost of each orthogonal state.\n",
    "    @qml.qnode(device)\n",
    "    def state_cost(params, state_value):\n",
    "      state_prep(state_value)\n",
    "      ansatz(params, wires, s_wires, d_wires, hf_state)\n",
    "      return qml.expval(hamiltonian)\n",
    "    \n",
    "    # Total cost of the system.\n",
    "    def total_cost(params):\n",
    "      cost = 0\n",
    "      for index in range(k+1):\n",
    "          cost += weights[index] * state_cost(params, state_value=index)\n",
    "      return cost\n",
    "\n",
    "    # Optimizers options.\n",
    "    optimizers = {\n",
    "        'Adam': qml.AdamOptimizer(stepsize=stepsize),\n",
    "        'Adagrad': qml.AdagradOptimizer(stepsize=stepsize),\n",
    "        'GradientDescent': qml.GradientDescentOptimizer(stepsize=stepsize)\n",
    "    }\n",
    "\n",
    "    # Define the Optimizer and initial parameters.\n",
    "    optimizer = optimizers[opt_name]\n",
    "    energies = np.zeros((k+1,iterations))\n",
    "    \n",
    "    # Optimization loop.\n",
    "    for itr in range(iterations):\n",
    "      params = optimizer.step(total_cost, params)\n",
    "      for index in range(k+1):\n",
    "        energy = state_cost(params, state_value=index)\n",
    "        energies[index][itr] = energy\n",
    "\n",
    "    # Return List\n",
    "    Energies = []\n",
    "    for energy in energies:\n",
    "        Energies.append([energy[-1], energy])\n",
    "    return Energies"
   ]
  },
  {
   "cell_type": "code",
   "execution_count": 9,
   "id": "eb25eb1b-5050-4f92-a43e-4500b2c89b99",
   "metadata": {},
   "outputs": [],
   "source": [
    "def WEIGHTED_SSVQE_CUSTOM(hamiltonian, ansatz, opt_name='Adam', stepsize=0.05, iterations=250, k=[0], device_name='default.qubit'):\n",
    "    \"\"\"Calculates the kth excited state energy from the list of values of k for of a given Hamiltonian.\n",
    "    \n",
    "    Args:\n",
    "        => hamiltonian (qml.Hamiltonian): Hamiltonian for which the Kth excited state energy is to be found.\n",
    "        => ansatz (function(params, wires, *args)): The circuit ansatz for which the cost function will be optimized.\n",
    "           ansatz must have atleast two arguments 'params' and 'wires'. \n",
    "           There is no need to prepare orthogonal basis stats, they will be prepared by the algorithm.\n",
    "        => params (any): Parameters that can be passed to the provided ansatz.\n",
    "        => opt_name(string): Name of the optimizer to use for optimization.\n",
    "           Currently the function supports 'Adam' 'Adagrad' 'GradientDescent'.\n",
    "        => stepsize (float): Stepsize for the optimizer.\n",
    "        => iterations (int): No. of Iterations for the optimization.\n",
    "        => k (List(int)): List of K for which the Kth excited state energy will be calculated. K <= 2^qubits-1.\n",
    "        => device_name(string): device name for creating device such that qml.device(device_name, wires=wires).\n",
    "\n",
    "    Returns:\n",
    "        => [[Energy, Energies]]: The function returns a List of list of Energy of Kth excited state and list of energies at each iteration for plotting the graph. \n",
    "           The list will be in the sorted order of elements in the list k.\n",
    "    \"\"\"\n",
    "\n",
    "    # Calculate number of qubits required for the given Hamiltonian and create the device.\n",
    "    qubits = len(hamiltonian.wires)\n",
    "    device = qml.device(device_name, wires=qubits)\n",
    "    wires = range(qubits)\n",
    "    \n",
    "    electrons = 4 #active_electrons (même nombre que plus haut)\n",
    "\n",
    "    # Define the HF state\n",
    "    hf_state = qml.qchem.hf_state(electrons, qubits)\n",
    "    \n",
    "    # Generate single and double excitations\n",
    "    singles, doubles = qml.qchem.excitations(electrons, qubits)\n",
    "    \n",
    "    # Map excitations to the wires the UCCSD circuit will act on\n",
    "    s_wires, d_wires = qml.qchem.excitations_to_wires(singles, doubles)\n",
    "\n",
    "    # Define the initial values of the circuit parameters\n",
    "    params = np.zeros(len(singles) + len(doubles))\n",
    "\n",
    "    #Define the weights for the cost function.\n",
    "    weights = np.arange(max(k)+1,0,-1)\n",
    "\n",
    "    # State Preparation for orthogonal states.\n",
    "    def state_prep(state_value):\n",
    "      for index, value in enumerate(np.binary_repr(state_value, qubits)):\n",
    "        if value == '1':\n",
    "          qml.PauliX(index)\n",
    "\n",
    "    # Cost of each orthogonal state.\n",
    "    @qml.qnode(device)\n",
    "    def state_cost(params, state_value):\n",
    "      state_prep(state_value)\n",
    "      ansatz(params, wires, s_wires, d_wires, hf_state)\n",
    "      return qml.expval(hamiltonian)\n",
    "    \n",
    "    # Total cost of the system.\n",
    "    def total_cost(params):\n",
    "      cost = 0\n",
    "      for index in range(max(k)+1):\n",
    "          cost += weights[index] * state_cost(params, state_value=index)\n",
    "      return cost\n",
    "\n",
    "    # Optimizers options.\n",
    "    optimizers = {\n",
    "        'Adam': qml.AdamOptimizer(stepsize=stepsize),\n",
    "        'Adagrad': qml.AdagradOptimizer(stepsize=stepsize),\n",
    "        'GradientDescent': qml.GradientDescentOptimizer(stepsize=stepsize)\n",
    "    }\n",
    "\n",
    "    # Define the Optimizer and initial parameters.\n",
    "    optimizer = optimizers[opt_name]\n",
    "    energies = np.zeros((max(k)+1,iterations))\n",
    "    \n",
    "    # Optimization loop.\n",
    "    for itr in range(iterations):\n",
    "      params = optimizer.step(total_cost, params)\n",
    "      for index in range(max(k)+1):\n",
    "        if index in k:\n",
    "          energy = state_cost(params, state_value=index)\n",
    "          energies[index][itr] = energy\n",
    "\n",
    "    # Return List\n",
    "    Energies = []\n",
    "    for energy in energies:\n",
    "        Energies.append([energy[-1], energy])\n",
    "    return Energies"
   ]
  },
  {
   "cell_type": "code",
   "execution_count": 10,
   "id": "b426e949-d6ac-4abb-bc35-78d75e34bf66",
   "metadata": {},
   "outputs": [],
   "source": [
    "# energies\n",
    "# Weighted SSVQE:\n",
    "energy_G_1, energies_G_1 = WEIGHTED_SSVQE(hamiltonian, ansatz, stepsize=0.01, k=0)"
   ]
  },
  {
   "cell_type": "code",
   "execution_count": 11,
   "id": "554edf5d-95f0-4cc3-a637-440fc78545ed",
   "metadata": {},
   "outputs": [],
   "source": [
    "energy_1_1, energies_1_1 = WEIGHTED_SSVQE(hamiltonian, ansatz, stepsize=0.01, k=1)"
   ]
  },
  {
   "cell_type": "code",
   "execution_count": 12,
   "id": "a4355e53-e3e0-447b-bf65-9ccc66f6ff72",
   "metadata": {},
   "outputs": [],
   "source": [
    "# Weighted SSVQE All:\n",
    "energies_all = WEIGHTED_SSVQE_ALL(hamiltonian, ansatz, stepsize=0.01, k=1)"
   ]
  },
  {
   "cell_type": "code",
   "execution_count": 13,
   "id": "fa960427-00ef-43ad-bab6-da463cf178bb",
   "metadata": {},
   "outputs": [],
   "source": [
    "# Weighted SSVQE Custom:\n",
    "energies_custom = WEIGHTED_SSVQE_CUSTOM(hamiltonian, ansatz, stepsize=0.01, k=[0,1,2,3])"
   ]
  },
  {
   "cell_type": "code",
   "execution_count": 14,
   "id": "93c9c641-94ea-4cf9-85c3-7d0be1baf978",
   "metadata": {},
   "outputs": [
    {
     "name": "stdout",
     "output_type": "stream",
     "text": [
      "Weighted SSVQE:\n",
      "Energy of Ground state for the Bodipy hamiltonian is: -589.703527670101\n",
      "Energy of First Excited state for the Bodipy hamiltonian is: -589.5853710257701\n",
      "\n",
      "Weighted SSVQE All:\n",
      "Energy of Ground state for the Bodipy hamiltonian is: -589.7027349197002\n",
      "Energy of First Excited state for the Bodipy hamiltonian is: -589.5866715512065\n",
      "\n",
      "Weighted SSVQE Custom:\n",
      "Energy of Ground state for the Bodipy hamiltonian is: -589.7019608981371\n",
      "Energy of First Excited state for the Bodipy hamiltonian is: -589.5855396215115\n",
      "Energy of Second Excited state for the Bodipy hamiltonian is: -589.5834301031448\n",
      "Energy of Third Excited state for the Bodipy hamiltonian is: -589.2133055427977\n"
     ]
    }
   ],
   "source": [
    "# Output:\n",
    "print('Weighted SSVQE:')\n",
    "print('Energy of Ground state for the Bodipy hamiltonian is:', energy_G_1)\n",
    "print('Energy of First Excited state for the Bodipy hamiltonian is:', energy_1_1)\n",
    "print()\n",
    "print('Weighted SSVQE All:')\n",
    "print('Energy of Ground state for the Bodipy hamiltonian is:', energies_all[0][0])\n",
    "print('Energy of First Excited state for the Bodipy hamiltonian is:', energies_all[1][0])\n",
    "print()\n",
    "print('Weighted SSVQE Custom:')\n",
    "print('Energy of Ground state for the Bodipy hamiltonian is:', energies_custom[0][0])\n",
    "print('Energy of First Excited state for the Bodipy hamiltonian is:', energies_custom[1][0])\n",
    "print('Energy of Second Excited state for the Bodipy hamiltonian is:', energies_custom[2][0])\n",
    "print('Energy of Third Excited state for the Bodipy hamiltonian is:', energies_custom[3][0])\n"
   ]
  },
  {
   "cell_type": "code",
   "execution_count": 15,
   "id": "906c829d-48d0-4b54-8b71-2da47b6b5ec1",
   "metadata": {},
   "outputs": [
    {
     "data": {
      "image/png": "[encoded data removed]",
      "text/plain": [
       "<Figure size 1000x400 with 1 Axes>"
      ]
     },
     "metadata": {},
     "output_type": "display_data"
    },
    {
     "data": {
      "image/png": "[encoded data removed]",
      "text/plain": [
       "<Figure size 1000x400 with 1 Axes>"
      ]
     },
     "metadata": {},
     "output_type": "display_data"
    },
    {
     "data": {
      "image/png": "[encoded data removed]",
      "text/plain": [
       "<Figure size 1000x400 with 1 Axes>"
      ]
     },
     "metadata": {},
     "output_type": "display_data"
    }
   ],
   "source": [
    "# Graph plot:\n",
    "Iterations = [*range(0, 250)]\n",
    "#Iterations2 = [*range(0, 200)]\n",
    "\n",
    "plt.figure(figsize=(10, 4))\n",
    "plt.title('Weighted SSVQE')\n",
    "plt.plot(Iterations, energies_G_1, label='Ground State')\n",
    "plt.plot(Iterations, energies_1_1, label='First Excited State')\n",
    "plt.xlabel('Iteration')\n",
    "plt.ylabel('Energy')\n",
    "plt.legend()\n",
    "plt.show()\n",
    "\n",
    "plt.figure(figsize=(10, 4))\n",
    "plt.title('Weighted SSVQE All')\n",
    "plt.plot(Iterations, energies_all[0][1], label='Ground State')\n",
    "plt.plot(Iterations, energies_all[1][1], label='First Excited State')\n",
    "plt.xlabel('Iteration')\n",
    "plt.ylabel('Energy')\n",
    "plt.legend()\n",
    "plt.show()\n",
    "\n",
    "plt.figure(figsize=(10, 4))\n",
    "plt.title('Weighted SSVQE Custom')\n",
    "plt.plot(Iterations, energies_custom[0][1], label='Ground State')\n",
    "plt.plot(Iterations, energies_custom[1][1], label='First Excited State')\n",
    "plt.plot(Iterations, energies_custom[2][1], label='Second Excited State')\n",
    "plt.plot(Iterations, energies_custom[3][1], label='Third Excited State')\n",
    "plt.xlabel('Iteration')\n",
    "plt.ylabel('Energy')\n",
    "plt.legend()\n",
    "plt.show()"
   ]
  },
  {
   "cell_type": "markdown",
   "id": "69fc9281-8958-46d8-99eb-71a83a76643d",
   "metadata": {},
   "source": [
    "Avec l'UCCSD je pense qu'on peut s'arrêter à 100 itérations"
   ]
  },
  {
   "cell_type": "code",
   "execution_count": 16,
   "id": "3b2d997c-632b-4d71-98dc-a639d47b9759",
   "metadata": {},
   "outputs": [
    {
     "data": {
      "text/plain": [
       "tensor(-589.5866807, requires_grad=True)"
      ]
     },
     "execution_count": 16,
     "metadata": {},
     "output_type": "execute_result"
    }
   ],
   "source": [
    "energies_all[1][1][99]"
   ]
  },
  {
   "cell_type": "code",
   "execution_count": 17,
   "id": "d391a068-080a-4e17-9103-0f9dcabdcf59",
   "metadata": {},
   "outputs": [
    {
     "data": {
      "text/plain": [
       "tensor(-589.58668184, requires_grad=True)"
      ]
     },
     "execution_count": 17,
     "metadata": {},
     "output_type": "execute_result"
    }
   ],
   "source": [
    "energies_all[1][1][100]"
   ]
  },
  {
   "cell_type": "code",
   "execution_count": 18,
   "id": "ebd29014-e7bc-460d-9674-68c044de8a24",
   "metadata": {},
   "outputs": [
    {
     "data": {
      "text/plain": [
       "tensor(-589.58668239, requires_grad=True)"
      ]
     },
     "execution_count": 18,
     "metadata": {},
     "output_type": "execute_result"
    }
   ],
   "source": [
    "energies_all[1][1][101]"
   ]
  },
  {
   "cell_type": "code",
   "execution_count": 19,
   "id": "3316816e-4cdc-4ed1-b906-39ae8d92d817",
   "metadata": {},
   "outputs": [
    {
     "data": {
      "text/plain": [
       "tensor(-589.58667155, requires_grad=True)"
      ]
     },
     "execution_count": 19,
     "metadata": {},
     "output_type": "execute_result"
    }
   ],
   "source": [
    "energies_all[1][1][-1]"
   ]
  },
  {
   "cell_type": "code",
   "execution_count": 20,
   "id": "7fdee4b8-941e-4a10-ac83-87033d09c22c",
   "metadata": {},
   "outputs": [
    {
     "data": {
      "text/plain": [
       "tensor(-589.58553042, requires_grad=True)"
      ]
     },
     "execution_count": 20,
     "metadata": {},
     "output_type": "execute_result"
    }
   ],
   "source": [
    "energies_custom[1][1][99]"
   ]
  },
  {
   "cell_type": "code",
   "execution_count": 21,
   "id": "fe53435e-a8f9-49db-84bc-c447f3e9f909",
   "metadata": {},
   "outputs": [
    {
     "data": {
      "text/plain": [
       "tensor(-589.58553222, requires_grad=True)"
      ]
     },
     "execution_count": 21,
     "metadata": {},
     "output_type": "execute_result"
    }
   ],
   "source": [
    "energies_custom[1][1][100]"
   ]
  },
  {
   "cell_type": "code",
   "execution_count": 22,
   "id": "0427a160-3b1d-4103-a528-f0b75a943a81",
   "metadata": {},
   "outputs": [
    {
     "data": {
      "text/plain": [
       "tensor(-589.58553409, requires_grad=True)"
      ]
     },
     "execution_count": 22,
     "metadata": {},
     "output_type": "execute_result"
    }
   ],
   "source": [
    "energies_custom[1][1][101]"
   ]
  },
  {
   "cell_type": "code",
   "execution_count": 23,
   "id": "7cfdff4f-af1c-4cc8-9784-bd79c8dae2ca",
   "metadata": {},
   "outputs": [
    {
     "data": {
      "text/plain": [
       "tensor(-589.58553962, requires_grad=True)"
      ]
     },
     "execution_count": 23,
     "metadata": {},
     "output_type": "execute_result"
    }
   ],
   "source": [
    "energies_custom[1][1][-1]"
   ]
  },
  {
   "cell_type": "code",
   "execution_count": 24,
   "id": "6ac1c488-7854-4308-8d29-91c046bf0cda",
   "metadata": {},
   "outputs": [
    {
     "name": "stdout",
     "output_type": "stream",
     "text": [
      "Énergie fondamentale S0 : -589.701961 Ha\n",
      "Énergie excitée S1 : -589.585540 Ha → ΔE = 3.17 eV\n",
      "Énergie excitée S2 : -589.583430 Ha → ΔE = 3.23 eV\n"
     ]
    }
   ],
   "source": [
    "#Energies d'excitation\n",
    "E_S0 = energies_custom[0][0]\n",
    "E_S1 = energies_custom[1][0]\n",
    "E_S2 = energies_custom[2][0]\n",
    "\n",
    "exc_S1 = (E_S1 - E_S0) * 27.2114\n",
    "exc_S2 = (E_S2 - E_S0) * 27.2114\n",
    "\n",
    "print(f\"Énergie fondamentale S0 : {E_S0:.6f} Ha\")\n",
    "print(f\"Énergie excitée S1 : {E_S1:.6f} Ha → ΔE = {exc_S1:.2f} eV\")\n",
    "print(f\"Énergie excitée S2 : {E_S2:.6f} Ha → ΔE = {exc_S2:.2f} eV\")"
   ]
  },
  {
   "cell_type": "code",
   "execution_count": null,
   "id": "094271b1-224c-4c57-a899-0641e8455868",
   "metadata": {},
   "outputs": [],
   "source": []
  }
 ],
 "metadata": {
  "kernelspec": {
   "display_name": "Python 3 (ipykernel)",
   "language": "python",
   "name": "python3"
  },
  "language_info": {
   "codemirror_mode": {
    "name": "ipython",
    "version": 3
   },
   "file_extension": ".py",
   "mimetype": "text/x-python",
   "name": "python",
   "nbconvert_exporter": "python",
   "pygments_lexer": "ipython3",
   "version": "3.11.7"
  }
 },
 "nbformat": 4,
 "nbformat_minor": 5
}
