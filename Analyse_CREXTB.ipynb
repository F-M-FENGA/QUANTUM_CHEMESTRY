{
 "cells": [
  {
   "cell_type": "markdown",
   "id": "371caab6",
   "metadata": {},
   "source": [
    "# Analyse des résultats d'optimisation de CREST et xTB\n",
    "Ce notebook présente une analyse détaillée des fichiers de sortie générés par les outils CREST et xTB, en mettant l'accent sur les aspects d'énergie, géométrie, et propriétés électroniques de la molécule."
   ]
  },
  {
   "cell_type": "markdown",
   "id": "da0c9db2",
   "metadata": {},
   "source": [
    "## 1. Énergie : stabilité et convergence\n",
    "### Énergie totale\n",
    "- **CREST** : Énergie totale optimisée $-20.39983 \\, \\text{Eh}$.\n",
    "- **xTB** : Énergie totale optimisée $-20.39983 \\, \\text{Eh}$.\n",
    "\n",
    "Les deux calculs convergent vers une énergie quasi-identique. Cela confirme que :\n",
    "1. La procédure CREST produit une structure optimale physiquement raisonnable, qui peut être raffinée par xTB.\n",
    "2. La molécule est stabilisée dans une conformation spécifique avec une énergie minimale dans l'espace potentiel.\n",
    "\n",
    "### Gap HOMO-LUMO\n",
    "- **CREST** : $3.976 \\, \\text{eV}$.\n",
    "- **xTB** : $3.9758 \\, \\text{eV}$.\n",
    "\n",
    "Le gap HOMO-LUMO est indicatif de la stabilité électronique de la molécule. Une valeur de ~4 eV suggère que la molécule est modérément stable :\n",
    "- **Signification physique** : Une molécule avec un gap HOMO-LUMO modéré peut être un bon candidat pour des réactions chimiques ou des applications optoélectroniques.\n",
    "- **Impact sur la réactivité** : Plus le gap est petit, plus la molécule est réactive. Ici, le gap modéré indique une stabilité chimique raisonnable, tout en permettant des transitions électroniques sous certaines conditions."
   ]
  },
  {
   "cell_type": "markdown",
   "id": "d1c71c28",
   "metadata": {},
   "source": [
    "## 2. Géométrie : analyse des distances et angles\n",
    "### Distances de liaison\n",
    "| **Type de liaison** | **xTB (Å)** | **CREST (Å)** | **Interprétation**                              |\n",
    "|----------------------|-------------|---------------|------------------------------------------------|\n",
    "| **C-C**             | $1.387 \\pm 0.01$ | $1.391 \\pm 0.01$ | Longueurs de liaison typiques pour un cycle aromatique. |\n",
    "| **C-H**             | $1.080 \\pm 0.01$ | $1.079 \\pm 0.01$ | Liaisons normales pour des hydrogènes aromatiques.      |\n",
    "| **C-N**             | $1.146$         | $1.146$          | Distance typique pour une liaison C≡N (triple liaison). |\n",
    "\n",
    "### Angles de liaison\n",
    "| **Angle sélectionné** | **Valeur (xTB)** | **Valeur (CREST)** | **Interprétation**                              |\n",
    "|------------------------|------------------|--------------------|------------------------------------------------|\n",
    "| C-C-C                 | $120^\\circ \\pm 0.5^\\circ$ | $120^\\circ \\pm 0.5^\\circ$ | Parfaite symétrie aromatique.                  |\n",
    "| C-C-N                 | $180^\\circ$    | $180^\\circ$      | Liaison linéaire pour le groupement nitrile.    |"
   ]
  },
  {
   "cell_type": "markdown",
   "id": "c4c8bca4",
   "metadata": {},
   "source": [
    "## 3. Propriétés électroniques\n",
    "### Énergies orbitalaires\n",
    "| **Propriété**       | **HOMO (eV)** | **LUMO (eV)** | **Gap (eV)** |\n",
    "|---------------------|---------------|---------------|--------------|\n",
    "| **CREST**          | $-11.47$    | $-7.50$     | $3.976$    |\n",
    "| **xTB**            | $-11.473$   | $-7.497$    | $3.9758$   |\n",
    "\n",
    "- **HOMO (Highest Occupied Molecular Orbital)** :\n",
    "  - À $-11.47 \\, \\text{eV}$, HOMO reflète la stabilité des électrons de valence.\n",
    "  - Plus HOMO est bas, plus il est difficile d'extraire un électron.\n",
    "- **LUMO (Lowest Unoccupied Molecular Orbital)** :\n",
    "  - À $-7.50 \\, \\text{eV}$, LUMO détermine l'énergie minimale requise pour accepter un électron.\n",
    "- **Interprétation globale** :\n",
    "  - Le gap modéré confirme que la molécule est stable mais potentiellement réactive à des stimuli optiques ou chimiques.\n",
    "\n",
    "### Moment dipolaire\n",
    "- **Valeur calculée par xTB** : $4.215 \\, \\text{D}$.\n",
    "  - Cette valeur relativement élevée indique une séparation significative de charge dans la molécule, principalement due au groupement nitrile (C≡N) polaire.\n",
    "  - **Impact** : Le moment dipolaire pourrait rendre cette molécule soluble dans des solvants polaires et active dans des champs électriques."
   ]
  },
  {
   "cell_type": "markdown",
   "id": "ea7faa8c",
   "metadata": {},
   "source": [
    "## 4. Performance et méthode\n",
    "### Performance des calculs\n",
    "| **Étape**               | **CREST**         | **xTB**           |\n",
    "|--------------------------|-------------------|-------------------|\n",
    "| Temps total              | $6.486 \\, \\text{s}$ | $0.020 \\, \\text{s}$ |\n",
    "| Appels énergie+gradient  | 4230             | Non spécifié      |\n",
    "\n",
    "- CREST est plus long car il explore plusieurs conformations et utilise la méta-dynamique pour identifier la géométrie optimale.\n",
    "- xTB est extrêmement rapide grâce à son approche ciblée pour l’optimisation stricte.\n",
    "\n"
   ]
  },
  {
   "cell_type": "code",
   "execution_count": null,
   "id": "beec046d-fa76-40ee-a1ac-56e0ad740911",
   "metadata": {},
   "outputs": [],
   "source": []
  }
 ],
 "metadata": {
  "kernelspec": {
   "display_name": "Python 3 (ipykernel)",
   "language": "python",
   "name": "python3"
  },
  "language_info": {
   "codemirror_mode": {
    "name": "ipython",
    "version": 3
   },
   "file_extension": ".py",
   "mimetype": "text/x-python",
   "name": "python",
   "nbconvert_exporter": "python",
   "pygments_lexer": "ipython3",
   "version": "3.11.7"
  }
 },
 "nbformat": 4,
 "nbformat_minor": 5
}
